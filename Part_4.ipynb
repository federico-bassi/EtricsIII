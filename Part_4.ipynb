{
  "nbformat": 4,
  "nbformat_minor": 0,
  "metadata": {
    "colab": {
      "provenance": [],
      "collapsed_sections": [
        "NuGs55QImU13",
        "asXIiaqHjYjL",
        "1xaYWRL8jch3",
        "reBi-VEKoJMA",
        "CKfGR3fxqkTb",
        "XHM6F-I0a4q2",
        "UN4g1cNyZZfL"
      ],
      "include_colab_link": true
    },
    "kernelspec": {
      "name": "python3",
      "display_name": "Python 3"
    },
    "language_info": {
      "name": "python"
    }
  },
  "cells": [
    {
      "cell_type": "markdown",
      "metadata": {
        "id": "view-in-github",
        "colab_type": "text"
      },
      "source": [
        "<a href=\"https://colab.research.google.com/github/federico-bassi/EtricsIII/blob/main/Part_4.ipynb\" target=\"_parent\"><img src=\"https://colab.research.google.com/assets/colab-badge.svg\" alt=\"Open In Colab\"/></a>"
      ]
    },
    {
      "cell_type": "markdown",
      "source": [
        "# Assignment 2 - Part III"
      ],
      "metadata": {
        "id": "ZRUH8qWTmLyS"
      }
    },
    {
      "cell_type": "markdown",
      "source": [
        "## Imports"
      ],
      "metadata": {
        "id": "NuGs55QImU13"
      }
    },
    {
      "cell_type": "code",
      "execution_count": null,
      "metadata": {
        "id": "BZnBI_H-lm2Y",
        "colab": {
          "base_uri": "https://localhost:8080/"
        },
        "outputId": "36aa3ece-6766-4e55-c108-f7527d6fd9d8"
      },
      "outputs": [
        {
          "output_type": "stream",
          "name": "stdout",
          "text": [
            "Mounted at /content/drive\n"
          ]
        }
      ],
      "source": [
        "#Import libraries\n",
        "import pandas as pd\n",
        "import matplotlib.pyplot as plt\n",
        "import seaborn as sns\n",
        "import numpy as np\n",
        "from statsmodels.graphics.tsaplots import plot_acf, plot_pacf\n",
        "from statsmodels.tsa.arima.model import ARIMA\n",
        "from statsmodels.tsa.ardl import ARDL, ardl_select_order\n",
        "from statsmodels.tsa.stattools import adfuller\n",
        "from google.colab import drive\n",
        "import statsmodels.api as sm\n",
        "from statsmodels.iolib.summary2 import summary_col\n",
        "from statsmodels.tsa.ar_model import AutoReg, ar_select_order\n",
        "import seaborn as sns\n",
        "import scipy\n",
        "from scipy import stats\n",
        "from scipy.stats import norm\n",
        "from datetime import datetime, timedelta\n",
        "from statsmodels.tsa.stattools import coint\n",
        "\n",
        "drive.mount('/content/drive')\n",
        "np.random.seed(1234)"
      ]
    },
    {
      "cell_type": "code",
      "source": [
        "who_are_you = 0\n",
        "if who_are_you == 0:\n",
        "  path = \"/content/drive/MyDrive/EtricsIII_Ass2\"\n",
        "else:\n",
        "  path = \"...\""
      ],
      "metadata": {
        "id": "7Y2-SkYPbKRm"
      },
      "execution_count": null,
      "outputs": []
    },
    {
      "cell_type": "code",
      "source": [
        "#Load data\n",
        "data = pd.read_csv(path+\"/Data/data_assign_p4.csv\")"
      ],
      "metadata": {
        "id": "O43VqyTTbDKN"
      },
      "execution_count": null,
      "outputs": []
    },
    {
      "cell_type": "code",
      "source": [
        "data.head()"
      ],
      "metadata": {
        "colab": {
          "base_uri": "https://localhost:8080/"
        },
        "id": "nctyo07XbNKu",
        "outputId": "8ebfe770-66f5-4d60-bb2c-ef558be17303"
      },
      "execution_count": null,
      "outputs": [
        {
          "output_type": "execute_result",
          "data": {
            "text/plain": [
              "      obs     CONS      INC    TIME\n",
              "0  1988Q1  53803.3  69522.0  725736\n",
              "1  1988Q2  54124.1  70033.3  725827\n",
              "2  1988Q3  54383.8  70634.5  725918\n",
              "3  1988Q4  54783.6  71321.8  726010\n",
              "4  1989Q1  54980.6  72377.2  726102"
            ],
            "text/html": [
              "\n",
              "  <div id=\"df-0e4c2777-da6b-4aac-a00f-d8e681dee6fe\" class=\"colab-df-container\">\n",
              "    <div>\n",
              "<style scoped>\n",
              "    .dataframe tbody tr th:only-of-type {\n",
              "        vertical-align: middle;\n",
              "    }\n",
              "\n",
              "    .dataframe tbody tr th {\n",
              "        vertical-align: top;\n",
              "    }\n",
              "\n",
              "    .dataframe thead th {\n",
              "        text-align: right;\n",
              "    }\n",
              "</style>\n",
              "<table border=\"1\" class=\"dataframe\">\n",
              "  <thead>\n",
              "    <tr style=\"text-align: right;\">\n",
              "      <th></th>\n",
              "      <th>obs</th>\n",
              "      <th>CONS</th>\n",
              "      <th>INC</th>\n",
              "      <th>TIME</th>\n",
              "    </tr>\n",
              "  </thead>\n",
              "  <tbody>\n",
              "    <tr>\n",
              "      <th>0</th>\n",
              "      <td>1988Q1</td>\n",
              "      <td>53803.3</td>\n",
              "      <td>69522.0</td>\n",
              "      <td>725736</td>\n",
              "    </tr>\n",
              "    <tr>\n",
              "      <th>1</th>\n",
              "      <td>1988Q2</td>\n",
              "      <td>54124.1</td>\n",
              "      <td>70033.3</td>\n",
              "      <td>725827</td>\n",
              "    </tr>\n",
              "    <tr>\n",
              "      <th>2</th>\n",
              "      <td>1988Q3</td>\n",
              "      <td>54383.8</td>\n",
              "      <td>70634.5</td>\n",
              "      <td>725918</td>\n",
              "    </tr>\n",
              "    <tr>\n",
              "      <th>3</th>\n",
              "      <td>1988Q4</td>\n",
              "      <td>54783.6</td>\n",
              "      <td>71321.8</td>\n",
              "      <td>726010</td>\n",
              "    </tr>\n",
              "    <tr>\n",
              "      <th>4</th>\n",
              "      <td>1989Q1</td>\n",
              "      <td>54980.6</td>\n",
              "      <td>72377.2</td>\n",
              "      <td>726102</td>\n",
              "    </tr>\n",
              "  </tbody>\n",
              "</table>\n",
              "</div>\n",
              "    <div class=\"colab-df-buttons\">\n",
              "\n",
              "  <div class=\"colab-df-container\">\n",
              "    <button class=\"colab-df-convert\" onclick=\"convertToInteractive('df-0e4c2777-da6b-4aac-a00f-d8e681dee6fe')\"\n",
              "            title=\"Convert this dataframe to an interactive table.\"\n",
              "            style=\"display:none;\">\n",
              "\n",
              "  <svg xmlns=\"http://www.w3.org/2000/svg\" height=\"24px\" viewBox=\"0 -960 960 960\">\n",
              "    <path d=\"M120-120v-720h720v720H120Zm60-500h600v-160H180v160Zm220 220h160v-160H400v160Zm0 220h160v-160H400v160ZM180-400h160v-160H180v160Zm440 0h160v-160H620v160ZM180-180h160v-160H180v160Zm440 0h160v-160H620v160Z\"/>\n",
              "  </svg>\n",
              "    </button>\n",
              "\n",
              "  <style>\n",
              "    .colab-df-container {\n",
              "      display:flex;\n",
              "      gap: 12px;\n",
              "    }\n",
              "\n",
              "    .colab-df-convert {\n",
              "      background-color: #E8F0FE;\n",
              "      border: none;\n",
              "      border-radius: 50%;\n",
              "      cursor: pointer;\n",
              "      display: none;\n",
              "      fill: #1967D2;\n",
              "      height: 32px;\n",
              "      padding: 0 0 0 0;\n",
              "      width: 32px;\n",
              "    }\n",
              "\n",
              "    .colab-df-convert:hover {\n",
              "      background-color: #E2EBFA;\n",
              "      box-shadow: 0px 1px 2px rgba(60, 64, 67, 0.3), 0px 1px 3px 1px rgba(60, 64, 67, 0.15);\n",
              "      fill: #174EA6;\n",
              "    }\n",
              "\n",
              "    .colab-df-buttons div {\n",
              "      margin-bottom: 4px;\n",
              "    }\n",
              "\n",
              "    [theme=dark] .colab-df-convert {\n",
              "      background-color: #3B4455;\n",
              "      fill: #D2E3FC;\n",
              "    }\n",
              "\n",
              "    [theme=dark] .colab-df-convert:hover {\n",
              "      background-color: #434B5C;\n",
              "      box-shadow: 0px 1px 3px 1px rgba(0, 0, 0, 0.15);\n",
              "      filter: drop-shadow(0px 1px 2px rgba(0, 0, 0, 0.3));\n",
              "      fill: #FFFFFF;\n",
              "    }\n",
              "  </style>\n",
              "\n",
              "    <script>\n",
              "      const buttonEl =\n",
              "        document.querySelector('#df-0e4c2777-da6b-4aac-a00f-d8e681dee6fe button.colab-df-convert');\n",
              "      buttonEl.style.display =\n",
              "        google.colab.kernel.accessAllowed ? 'block' : 'none';\n",
              "\n",
              "      async function convertToInteractive(key) {\n",
              "        const element = document.querySelector('#df-0e4c2777-da6b-4aac-a00f-d8e681dee6fe');\n",
              "        const dataTable =\n",
              "          await google.colab.kernel.invokeFunction('convertToInteractive',\n",
              "                                                    [key], {});\n",
              "        if (!dataTable) return;\n",
              "\n",
              "        const docLinkHtml = 'Like what you see? Visit the ' +\n",
              "          '<a target=\"_blank\" href=https://colab.research.google.com/notebooks/data_table.ipynb>data table notebook</a>'\n",
              "          + ' to learn more about interactive tables.';\n",
              "        element.innerHTML = '';\n",
              "        dataTable['output_type'] = 'display_data';\n",
              "        await google.colab.output.renderOutput(dataTable, element);\n",
              "        const docLink = document.createElement('div');\n",
              "        docLink.innerHTML = docLinkHtml;\n",
              "        element.appendChild(docLink);\n",
              "      }\n",
              "    </script>\n",
              "  </div>\n",
              "\n",
              "\n",
              "<div id=\"df-d8a053ed-7567-4722-8cc7-09b51e3f9559\">\n",
              "  <button class=\"colab-df-quickchart\" onclick=\"quickchart('df-d8a053ed-7567-4722-8cc7-09b51e3f9559')\"\n",
              "            title=\"Suggest charts\"\n",
              "            style=\"display:none;\">\n",
              "\n",
              "<svg xmlns=\"http://www.w3.org/2000/svg\" height=\"24px\"viewBox=\"0 0 24 24\"\n",
              "     width=\"24px\">\n",
              "    <g>\n",
              "        <path d=\"M19 3H5c-1.1 0-2 .9-2 2v14c0 1.1.9 2 2 2h14c1.1 0 2-.9 2-2V5c0-1.1-.9-2-2-2zM9 17H7v-7h2v7zm4 0h-2V7h2v10zm4 0h-2v-4h2v4z\"/>\n",
              "    </g>\n",
              "</svg>\n",
              "  </button>\n",
              "\n",
              "<style>\n",
              "  .colab-df-quickchart {\n",
              "      --bg-color: #E8F0FE;\n",
              "      --fill-color: #1967D2;\n",
              "      --hover-bg-color: #E2EBFA;\n",
              "      --hover-fill-color: #174EA6;\n",
              "      --disabled-fill-color: #AAA;\n",
              "      --disabled-bg-color: #DDD;\n",
              "  }\n",
              "\n",
              "  [theme=dark] .colab-df-quickchart {\n",
              "      --bg-color: #3B4455;\n",
              "      --fill-color: #D2E3FC;\n",
              "      --hover-bg-color: #434B5C;\n",
              "      --hover-fill-color: #FFFFFF;\n",
              "      --disabled-bg-color: #3B4455;\n",
              "      --disabled-fill-color: #666;\n",
              "  }\n",
              "\n",
              "  .colab-df-quickchart {\n",
              "    background-color: var(--bg-color);\n",
              "    border: none;\n",
              "    border-radius: 50%;\n",
              "    cursor: pointer;\n",
              "    display: none;\n",
              "    fill: var(--fill-color);\n",
              "    height: 32px;\n",
              "    padding: 0;\n",
              "    width: 32px;\n",
              "  }\n",
              "\n",
              "  .colab-df-quickchart:hover {\n",
              "    background-color: var(--hover-bg-color);\n",
              "    box-shadow: 0 1px 2px rgba(60, 64, 67, 0.3), 0 1px 3px 1px rgba(60, 64, 67, 0.15);\n",
              "    fill: var(--button-hover-fill-color);\n",
              "  }\n",
              "\n",
              "  .colab-df-quickchart-complete:disabled,\n",
              "  .colab-df-quickchart-complete:disabled:hover {\n",
              "    background-color: var(--disabled-bg-color);\n",
              "    fill: var(--disabled-fill-color);\n",
              "    box-shadow: none;\n",
              "  }\n",
              "\n",
              "  .colab-df-spinner {\n",
              "    border: 2px solid var(--fill-color);\n",
              "    border-color: transparent;\n",
              "    border-bottom-color: var(--fill-color);\n",
              "    animation:\n",
              "      spin 1s steps(1) infinite;\n",
              "  }\n",
              "\n",
              "  @keyframes spin {\n",
              "    0% {\n",
              "      border-color: transparent;\n",
              "      border-bottom-color: var(--fill-color);\n",
              "      border-left-color: var(--fill-color);\n",
              "    }\n",
              "    20% {\n",
              "      border-color: transparent;\n",
              "      border-left-color: var(--fill-color);\n",
              "      border-top-color: var(--fill-color);\n",
              "    }\n",
              "    30% {\n",
              "      border-color: transparent;\n",
              "      border-left-color: var(--fill-color);\n",
              "      border-top-color: var(--fill-color);\n",
              "      border-right-color: var(--fill-color);\n",
              "    }\n",
              "    40% {\n",
              "      border-color: transparent;\n",
              "      border-right-color: var(--fill-color);\n",
              "      border-top-color: var(--fill-color);\n",
              "    }\n",
              "    60% {\n",
              "      border-color: transparent;\n",
              "      border-right-color: var(--fill-color);\n",
              "    }\n",
              "    80% {\n",
              "      border-color: transparent;\n",
              "      border-right-color: var(--fill-color);\n",
              "      border-bottom-color: var(--fill-color);\n",
              "    }\n",
              "    90% {\n",
              "      border-color: transparent;\n",
              "      border-bottom-color: var(--fill-color);\n",
              "    }\n",
              "  }\n",
              "</style>\n",
              "\n",
              "  <script>\n",
              "    async function quickchart(key) {\n",
              "      const quickchartButtonEl =\n",
              "        document.querySelector('#' + key + ' button');\n",
              "      quickchartButtonEl.disabled = true;  // To prevent multiple clicks.\n",
              "      quickchartButtonEl.classList.add('colab-df-spinner');\n",
              "      try {\n",
              "        const charts = await google.colab.kernel.invokeFunction(\n",
              "            'suggestCharts', [key], {});\n",
              "      } catch (error) {\n",
              "        console.error('Error during call to suggestCharts:', error);\n",
              "      }\n",
              "      quickchartButtonEl.classList.remove('colab-df-spinner');\n",
              "      quickchartButtonEl.classList.add('colab-df-quickchart-complete');\n",
              "    }\n",
              "    (() => {\n",
              "      let quickchartButtonEl =\n",
              "        document.querySelector('#df-d8a053ed-7567-4722-8cc7-09b51e3f9559 button');\n",
              "      quickchartButtonEl.style.display =\n",
              "        google.colab.kernel.accessAllowed ? 'block' : 'none';\n",
              "    })();\n",
              "  </script>\n",
              "</div>\n",
              "    </div>\n",
              "  </div>\n"
            ],
            "application/vnd.google.colaboratory.intrinsic+json": {
              "type": "dataframe",
              "variable_name": "data",
              "summary": "{\n  \"name\": \"data\",\n  \"rows\": 97,\n  \"fields\": [\n    {\n      \"column\": \"obs\",\n      \"properties\": {\n        \"dtype\": \"object\",\n        \"num_unique_values\": 97,\n        \"samples\": [\n          \"2003Q3\",\n          \"1998Q1\",\n          \"2011Q2\"\n        ],\n        \"semantic_type\": \"\",\n        \"description\": \"\"\n      }\n    },\n    {\n      \"column\": \"CONS\",\n      \"properties\": {\n        \"dtype\": \"number\",\n        \"std\": 11215.002340206707,\n        \"min\": 53803.3,\n        \"max\": 88001.2,\n        \"num_unique_values\": 97,\n        \"samples\": [\n          79502.4,\n          68823.8,\n          87176.8\n        ],\n        \"semantic_type\": \"\",\n        \"description\": \"\"\n      }\n    },\n    {\n      \"column\": \"INC\",\n      \"properties\": {\n        \"dtype\": \"number\",\n        \"std\": 16805.937493544745,\n        \"min\": 69522.0,\n        \"max\": 122816.0,\n        \"num_unique_values\": 97,\n        \"samples\": [\n          106966.5,\n          95152.3,\n          121229.9\n        ],\n        \"semantic_type\": \"\",\n        \"description\": \"\"\n      }\n    },\n    {\n      \"column\": \"TIME\",\n      \"properties\": {\n        \"dtype\": \"number\",\n        \"std\": 2569,\n        \"min\": 725736,\n        \"max\": 734502,\n        \"num_unique_values\": 97,\n        \"samples\": [\n          731396,\n          729389,\n          734227\n        ],\n        \"semantic_type\": \"\",\n        \"description\": \"\"\n      }\n    }\n  ]\n}"
            }
          },
          "metadata": {},
          "execution_count": 278
        }
      ]
    },
    {
      "cell_type": "markdown",
      "source": [
        "## Point 1"
      ],
      "metadata": {
        "id": "asXIiaqHjYjL"
      }
    },
    {
      "cell_type": "code",
      "source": [
        "#Set up similation by choosing parameters and sample sizes\n",
        "sigma2u = 3\n",
        "sigma2v = 2\n",
        "sample_sizes = [500, 1000, 5000]\n",
        "num_simulations = 500\n",
        "beta1 = {}\n",
        "beta2 = {}\n",
        "frac1 = {}\n",
        "frac2 = {}\n",
        "r_squared1 = {}\n",
        "r_squared2 = {}\n",
        "gamma= 0.5\n",
        "phi = 0.5\n",
        "\n",
        "for sample_size in sample_sizes:\n",
        "    beta1[sample_size] = []\n",
        "    frac1[sample_size] = []\n",
        "    r_squared1[sample_size] = []\n",
        "\n",
        "#Simulate data with first DGP\n",
        "for sample_size in sample_sizes:\n",
        "    for sim in range(num_simulations):\n",
        "        u = np.random.normal(0, sigma2u, sample_size)\n",
        "        v = np.random.normal(0, sigma2v, sample_size)\n",
        "        Y = np.zeros(sample_size)\n",
        "        X = np.zeros(sample_size)\n",
        "        for i in range(1, sample_size):\n",
        "            X[i] = X[i-1] + v[i]\n",
        "            Y[i] = gamma * X[i] + u[i]\n",
        "        slope, intercept, r_value, p_value, std_err = scipy.stats.linregress(X, Y)\n",
        "        beta1[sample_size].append(slope)\n",
        "        frac1[sample_size].append(slope / std_err)\n",
        "        r_squared1[sample_size].append(r_value**2)\n",
        "\n",
        "for sample_size in sample_sizes:\n",
        "    beta2[sample_size] = []\n",
        "    frac2[sample_size] = []\n",
        "    r_squared2[sample_size] = []\n",
        "\n",
        "#Simulate data with second DGP\n",
        "for sample_size in sample_sizes:\n",
        "    for sim in range(num_simulations):\n",
        "        u = np.random.normal(0, sigma2u, sample_size)\n",
        "        v = np.random.normal(0, sigma2v, sample_size)\n",
        "        Y = np.zeros(sample_size)\n",
        "        X = np.zeros(sample_size)\n",
        "        for i in range(1, sample_size):\n",
        "            X[i] = phi * X[i-1] + v[i]\n",
        "            Y[i] = gamma * X[i] + u[i]\n",
        "        slope, intercept, r_value, p_value, std_err = scipy.stats.linregress(X, Y)\n",
        "        beta2[sample_size].append(slope)\n",
        "        frac2[sample_size].append(slope / std_err)\n",
        "        r_squared2[sample_size].append(r_value**2)"
      ],
      "metadata": {
        "id": "YHSRE1jUbTW4"
      },
      "execution_count": null,
      "outputs": []
    },
    {
      "cell_type": "code",
      "source": [
        "#Plot distributions for slope coefficient1\n",
        "fig, axes = plt.subplots(3, 2, figsize=(18, 6))\n",
        "sns.kdeplot(data=beta1, palette='Blues', ax=axes[0,0])\n",
        "axes[0,0].set_title('Distribution of Estimated Slope Coefficient')\n",
        "\n",
        "#Plot distributions for slope coefficient2\n",
        "sns.kdeplot(data=beta2, palette='Blues', ax=axes[0,1])\n",
        "axes[0,1].set_title('Distribution of Estimated Slope Coefficient')\n",
        "\n",
        "#Plot distributions for frac1\n",
        "sns.kdeplot(data=frac1, palette='Reds', ax=axes[1,0])\n",
        "axes[1,0].set_title('Distribution of Estimated t-statistics')\n",
        "\n",
        "#Plot distributions for frac2\n",
        "sns.kdeplot(data=frac2, palette='Reds', ax=axes[1,1])\n",
        "axes[1,1].set_title('Distribution of Estimated t-statistics')\n",
        "\n",
        "# Plot distributions for r squared1\n",
        "sns.kdeplot(data=r_squared1, palette='Greens', ax=axes[2,0])\n",
        "axes[2,0].set_title('Distribution of R-Squared')\n",
        "\n",
        "# Plot distributions for r squared2\n",
        "sns.kdeplot(data=r_squared2, palette='Greens', ax=axes[2,1])\n",
        "axes[2,1].set_title('Distribution of R-Squared')\n",
        "\n",
        "#Plot figures\n",
        "plt.tight_layout()\n",
        "plt.savefig(path+\"/Figures/part4_monte_carlo\")\n",
        "plt.show()"
      ],
      "metadata": {
        "colab": {
          "base_uri": "https://localhost:8080/",
          "height": 406
        },
        "id": "Apl94dGUbuSn",
        "outputId": "4f362099-9cc2-4493-9089-aebc44556726"
      },
      "execution_count": null,
      "outputs": [
        {
          "output_type": "display_data",
          "data": {
            "text/plain": [
              "<Figure size 1800x600 with 6 Axes>"
            ],
            "image/png": "[encoded data removed]"
          },
          "metadata": {}
        }
      ]
    },
    {
      "cell_type": "markdown",
      "source": [
        "## Point 2"
      ],
      "metadata": {
        "id": "1xaYWRL8jch3"
      }
    },
    {
      "cell_type": "code",
      "source": [
        "#Plot aggregate consumption\n",
        "plt.figure(figsize=(19, 6))\n",
        "\n",
        "plt.plot(data['obs'], data['CONS'], label='Consumption')\n",
        "plt.plot(data['obs'], data['INC'], label='Income')\n",
        "plt.grid(True, linestyle='--', alpha=0.5)\n",
        "\n",
        "#Add title and axis labels\n",
        "plt.title('Aggregate Consumption and Income', fontsize=16, fontweight='bold')\n",
        "plt.xlabel('Time')\n",
        "plt.ylabel('Value')\n",
        "plt.xticks(data['obs'][::2], rotation=90)\n",
        "plt.legend(loc='lower right')\n",
        "plt.savefig(\"/content/drive/MyDrive/EtricsIII_Ass2/Figures/ConsumptionandIncome.png\")\n",
        "plt.show()"
      ],
      "metadata": {
        "colab": {
          "base_uri": "https://localhost:8080/"
        },
        "id": "XP5qUKQYcT_O",
        "outputId": "7eef6a50-29ac-4f95-bf08-9d3fb84cf8ae"
      },
      "execution_count": null,
      "outputs": [
        {
          "output_type": "display_data",
          "data": {
            "text/plain": [
              "<Figure size 1900x600 with 1 Axes>"
            ],
            "image/png": "[encoded data removed]"
          },
          "metadata": {}
        }
      ]
    },
    {
      "cell_type": "code",
      "source": [
        "#ACF and PACF Consumption\n",
        "fig, (ax1,ax2) = plt.subplots(2,1, figsize=(8,8))\n",
        "plot_acf(data[\"CONS\"], lags=12, zero=False, ax=ax1)\n",
        "ax1.set_title('Autocorrelation of Consumption', fontsize=12, color='black')\n",
        "plot_pacf(data[\"CONS\"], lags=12, zero=False, ax=ax2)\n",
        "ax2.set_title('Partial Autocorrelation of Consumption', fontsize=12, color='black')\n",
        "plt.savefig(\"/content/drive/MyDrive/EtricsIII_Ass2/Figures/acfCONS.png\")\n",
        "plt.show()\n",
        "\n",
        "#ACF and PACF Income\n",
        "fig, (ax1,ax2) = plt.subplots(2,1, figsize=(8,8))\n",
        "plot_acf(data[\"INC\"], lags=12, zero=False, ax=ax1)\n",
        "ax1.set_title('Autocorrelation of Income', fontsize=12, color='black')\n",
        "plot_pacf(data[\"INC\"], lags=12, zero=False, ax=ax2)\n",
        "ax2.set_title('Partial Autocorrelation of Income', fontsize=12, color='black')\n",
        "plt.savefig(\"/content/drive/MyDrive/EtricsIII_Ass2/Figures/acfINC.png\")\n",
        "plt.show()"
      ],
      "metadata": {
        "colab": {
          "base_uri": "https://localhost:8080/"
        },
        "id": "6f2diWU2l7PD",
        "outputId": "cc9d1b64-254a-4d7c-aff7-fb15aef5737f"
      },
      "execution_count": null,
      "outputs": [
        {
          "output_type": "display_data",
          "data": {
            "text/plain": [
              "<Figure size 800x800 with 2 Axes>"
            ],
            "image/png": "[encoded data removed]"
          },
          "metadata": {}
        },
        {
          "output_type": "display_data",
          "data": {
            "text/plain": [
              "<Figure size 800x800 with 2 Axes>"
            ],
            "image/png": "[encoded data removed]"
          },
          "metadata": {}
        }
      ]
    },
    {
      "cell_type": "markdown",
      "source": [
        "## Point 3"
      ],
      "metadata": {
        "id": "reBi-VEKoJMA"
      }
    },
    {
      "cell_type": "code",
      "source": [
        "#Augmented Dickey Fuller test consumption, maxlag = 12, using SIC\n",
        "adfuller(data[\"CONS\"], 12, \"ct\", \"bic\")"
      ],
      "metadata": {
        "colab": {
          "base_uri": "https://localhost:8080/"
        },
        "id": "MxzwjfLLfS4t",
        "outputId": "e98bac42-ece3-44f0-c5d2-04f4de011a72"
      },
      "execution_count": null,
      "outputs": [
        {
          "output_type": "execute_result",
          "data": {
            "text/plain": [
              "(-0.838902305974484,\n",
              " 0.9622451903074954,\n",
              " 3,\n",
              " 93,\n",
              " {'1%': -4.059568800656923,\n",
              "  '5%': -3.4587997574833063,\n",
              "  '10%': -3.1553337836930617},\n",
              " 1234.2452990643972)"
            ]
          },
          "metadata": {},
          "execution_count": 235
        }
      ]
    },
    {
      "cell_type": "code",
      "source": [
        "#Augmented Dickey Fuller test income, maxlag = 12, using SIC\n",
        "adfuller(data[\"INC\"], 12, \"ct\", \"bic\")"
      ],
      "metadata": {
        "colab": {
          "base_uri": "https://localhost:8080/"
        },
        "id": "PvlX1AENhgdU",
        "outputId": "c6bc19cd-acd9-4190-f2f4-60f2989c6a9d"
      },
      "execution_count": null,
      "outputs": [
        {
          "output_type": "execute_result",
          "data": {
            "text/plain": [
              "(-1.3397416769414023,\n",
              " 0.877745150152082,\n",
              " 1,\n",
              " 95,\n",
              " {'1%': -4.057372178160081,\n",
              "  '5%': -3.4577588776789616,\n",
              "  '10%': -3.154727848082811},\n",
              " 1331.0779077077543)"
            ]
          },
          "metadata": {},
          "execution_count": 236
        }
      ]
    },
    {
      "cell_type": "code",
      "source": [
        "#Store test results to export to latex code\n",
        "test_stat = {}\n",
        "variables = {\"CONS\", \"INC\"}\n",
        "\n",
        "for variable in variables:\n",
        "    if variable == \"CONS\":\n",
        "        x_T = data[\"CONS\"]\n",
        "    elif variable == \"INC\":\n",
        "        x_T = data[\"INC\"]\n",
        "\n",
        "    results = adfuller(x_T, maxlag = 12, regression=\"ct\", autolag=\"BIC\")\n",
        "    test_stat[variable] = results[0]\n",
        "\n",
        "df = pd.DataFrame(test_stat.items(), columns=['Time Series', 'DF Test Statistic'])"
      ],
      "metadata": {
        "id": "_sH46PJjrfs-"
      },
      "execution_count": null,
      "outputs": []
    },
    {
      "cell_type": "code",
      "source": [
        "with open(path+\"/Tables/part4.4_ADF.tex\", 'w') as f:\n",
        "    f.write(df.to_latex(index=False))"
      ],
      "metadata": {
        "id": "fy40IYMcr-gO"
      },
      "execution_count": null,
      "outputs": []
    },
    {
      "cell_type": "code",
      "source": [
        "#Take First Difference of consumption series and adjust index\n",
        "differenced = data[[\"CONS\"]].diff().dropna()\n",
        "differenced.index = differenced.index - 1\n",
        "differenced"
      ],
      "metadata": {
        "colab": {
          "base_uri": "https://localhost:8080/",
          "height": 419
        },
        "id": "n3A2RZ3wPVoO",
        "outputId": "6374de95-ffdf-4e78-f8d2-be5afba6dbef"
      },
      "execution_count": null,
      "outputs": [
        {
          "output_type": "execute_result",
          "data": {
            "text/plain": [
              "     CONS\n",
              "0   320.8\n",
              "1   259.7\n",
              "2   399.8\n",
              "3   197.0\n",
              "4   481.7\n",
              "..    ...\n",
              "91 -788.0\n",
              "92  -36.4\n",
              "93 -335.2\n",
              "94 -262.5\n",
              "95  188.3\n",
              "\n",
              "[96 rows x 1 columns]"
            ],
            "text/html": [
              "\n",
              "  <div id=\"df-ba5092bd-0347-4d3c-b062-d926c76ffcc3\" class=\"colab-df-container\">\n",
              "    <div>\n",
              "<style scoped>\n",
              "    .dataframe tbody tr th:only-of-type {\n",
              "        vertical-align: middle;\n",
              "    }\n",
              "\n",
              "    .dataframe tbody tr th {\n",
              "        vertical-align: top;\n",
              "    }\n",
              "\n",
              "    .dataframe thead th {\n",
              "        text-align: right;\n",
              "    }\n",
              "</style>\n",
              "<table border=\"1\" class=\"dataframe\">\n",
              "  <thead>\n",
              "    <tr style=\"text-align: right;\">\n",
              "      <th></th>\n",
              "      <th>CONS</th>\n",
              "    </tr>\n",
              "  </thead>\n",
              "  <tbody>\n",
              "    <tr>\n",
              "      <th>0</th>\n",
              "      <td>320.8</td>\n",
              "    </tr>\n",
              "    <tr>\n",
              "      <th>1</th>\n",
              "      <td>259.7</td>\n",
              "    </tr>\n",
              "    <tr>\n",
              "      <th>2</th>\n",
              "      <td>399.8</td>\n",
              "    </tr>\n",
              "    <tr>\n",
              "      <th>3</th>\n",
              "      <td>197.0</td>\n",
              "    </tr>\n",
              "    <tr>\n",
              "      <th>4</th>\n",
              "      <td>481.7</td>\n",
              "    </tr>\n",
              "    <tr>\n",
              "      <th>...</th>\n",
              "      <td>...</td>\n",
              "    </tr>\n",
              "    <tr>\n",
              "      <th>91</th>\n",
              "      <td>-788.0</td>\n",
              "    </tr>\n",
              "    <tr>\n",
              "      <th>92</th>\n",
              "      <td>-36.4</td>\n",
              "    </tr>\n",
              "    <tr>\n",
              "      <th>93</th>\n",
              "      <td>-335.2</td>\n",
              "    </tr>\n",
              "    <tr>\n",
              "      <th>94</th>\n",
              "      <td>-262.5</td>\n",
              "    </tr>\n",
              "    <tr>\n",
              "      <th>95</th>\n",
              "      <td>188.3</td>\n",
              "    </tr>\n",
              "  </tbody>\n",
              "</table>\n",
              "<p>96 rows × 1 columns</p>\n",
              "</div>\n",
              "    <div class=\"colab-df-buttons\">\n",
              "\n",
              "  <div class=\"colab-df-container\">\n",
              "    <button class=\"colab-df-convert\" onclick=\"convertToInteractive('df-ba5092bd-0347-4d3c-b062-d926c76ffcc3')\"\n",
              "            title=\"Convert this dataframe to an interactive table.\"\n",
              "            style=\"display:none;\">\n",
              "\n",
              "  <svg xmlns=\"http://www.w3.org/2000/svg\" height=\"24px\" viewBox=\"0 -960 960 960\">\n",
              "    <path d=\"M120-120v-720h720v720H120Zm60-500h600v-160H180v160Zm220 220h160v-160H400v160Zm0 220h160v-160H400v160ZM180-400h160v-160H180v160Zm440 0h160v-160H620v160ZM180-180h160v-160H180v160Zm440 0h160v-160H620v160Z\"/>\n",
              "  </svg>\n",
              "    </button>\n",
              "\n",
              "  <style>\n",
              "    .colab-df-container {\n",
              "      display:flex;\n",
              "      gap: 12px;\n",
              "    }\n",
              "\n",
              "    .colab-df-convert {\n",
              "      background-color: #E8F0FE;\n",
              "      border: none;\n",
              "      border-radius: 50%;\n",
              "      cursor: pointer;\n",
              "      display: none;\n",
              "      fill: #1967D2;\n",
              "      height: 32px;\n",
              "      padding: 0 0 0 0;\n",
              "      width: 32px;\n",
              "    }\n",
              "\n",
              "    .colab-df-convert:hover {\n",
              "      background-color: #E2EBFA;\n",
              "      box-shadow: 0px 1px 2px rgba(60, 64, 67, 0.3), 0px 1px 3px 1px rgba(60, 64, 67, 0.15);\n",
              "      fill: #174EA6;\n",
              "    }\n",
              "\n",
              "    .colab-df-buttons div {\n",
              "      margin-bottom: 4px;\n",
              "    }\n",
              "\n",
              "    [theme=dark] .colab-df-convert {\n",
              "      background-color: #3B4455;\n",
              "      fill: #D2E3FC;\n",
              "    }\n",
              "\n",
              "    [theme=dark] .colab-df-convert:hover {\n",
              "      background-color: #434B5C;\n",
              "      box-shadow: 0px 1px 3px 1px rgba(0, 0, 0, 0.15);\n",
              "      filter: drop-shadow(0px 1px 2px rgba(0, 0, 0, 0.3));\n",
              "      fill: #FFFFFF;\n",
              "    }\n",
              "  </style>\n",
              "\n",
              "    <script>\n",
              "      const buttonEl =\n",
              "        document.querySelector('#df-ba5092bd-0347-4d3c-b062-d926c76ffcc3 button.colab-df-convert');\n",
              "      buttonEl.style.display =\n",
              "        google.colab.kernel.accessAllowed ? 'block' : 'none';\n",
              "\n",
              "      async function convertToInteractive(key) {\n",
              "        const element = document.querySelector('#df-ba5092bd-0347-4d3c-b062-d926c76ffcc3');\n",
              "        const dataTable =\n",
              "          await google.colab.kernel.invokeFunction('convertToInteractive',\n",
              "                                                    [key], {});\n",
              "        if (!dataTable) return;\n",
              "\n",
              "        const docLinkHtml = 'Like what you see? Visit the ' +\n",
              "          '<a target=\"_blank\" href=https://colab.research.google.com/notebooks/data_table.ipynb>data table notebook</a>'\n",
              "          + ' to learn more about interactive tables.';\n",
              "        element.innerHTML = '';\n",
              "        dataTable['output_type'] = 'display_data';\n",
              "        await google.colab.output.renderOutput(dataTable, element);\n",
              "        const docLink = document.createElement('div');\n",
              "        docLink.innerHTML = docLinkHtml;\n",
              "        element.appendChild(docLink);\n",
              "      }\n",
              "    </script>\n",
              "  </div>\n",
              "\n",
              "\n",
              "<div id=\"df-3e00f5ad-dda2-434b-bf60-b98b16a3ea28\">\n",
              "  <button class=\"colab-df-quickchart\" onclick=\"quickchart('df-3e00f5ad-dda2-434b-bf60-b98b16a3ea28')\"\n",
              "            title=\"Suggest charts\"\n",
              "            style=\"display:none;\">\n",
              "\n",
              "<svg xmlns=\"http://www.w3.org/2000/svg\" height=\"24px\"viewBox=\"0 0 24 24\"\n",
              "     width=\"24px\">\n",
              "    <g>\n",
              "        <path d=\"M19 3H5c-1.1 0-2 .9-2 2v14c0 1.1.9 2 2 2h14c1.1 0 2-.9 2-2V5c0-1.1-.9-2-2-2zM9 17H7v-7h2v7zm4 0h-2V7h2v10zm4 0h-2v-4h2v4z\"/>\n",
              "    </g>\n",
              "</svg>\n",
              "  </button>\n",
              "\n",
              "<style>\n",
              "  .colab-df-quickchart {\n",
              "      --bg-color: #E8F0FE;\n",
              "      --fill-color: #1967D2;\n",
              "      --hover-bg-color: #E2EBFA;\n",
              "      --hover-fill-color: #174EA6;\n",
              "      --disabled-fill-color: #AAA;\n",
              "      --disabled-bg-color: #DDD;\n",
              "  }\n",
              "\n",
              "  [theme=dark] .colab-df-quickchart {\n",
              "      --bg-color: #3B4455;\n",
              "      --fill-color: #D2E3FC;\n",
              "      --hover-bg-color: #434B5C;\n",
              "      --hover-fill-color: #FFFFFF;\n",
              "      --disabled-bg-color: #3B4455;\n",
              "      --disabled-fill-color: #666;\n",
              "  }\n",
              "\n",
              "  .colab-df-quickchart {\n",
              "    background-color: var(--bg-color);\n",
              "    border: none;\n",
              "    border-radius: 50%;\n",
              "    cursor: pointer;\n",
              "    display: none;\n",
              "    fill: var(--fill-color);\n",
              "    height: 32px;\n",
              "    padding: 0;\n",
              "    width: 32px;\n",
              "  }\n",
              "\n",
              "  .colab-df-quickchart:hover {\n",
              "    background-color: var(--hover-bg-color);\n",
              "    box-shadow: 0 1px 2px rgba(60, 64, 67, 0.3), 0 1px 3px 1px rgba(60, 64, 67, 0.15);\n",
              "    fill: var(--button-hover-fill-color);\n",
              "  }\n",
              "\n",
              "  .colab-df-quickchart-complete:disabled,\n",
              "  .colab-df-quickchart-complete:disabled:hover {\n",
              "    background-color: var(--disabled-bg-color);\n",
              "    fill: var(--disabled-fill-color);\n",
              "    box-shadow: none;\n",
              "  }\n",
              "\n",
              "  .colab-df-spinner {\n",
              "    border: 2px solid var(--fill-color);\n",
              "    border-color: transparent;\n",
              "    border-bottom-color: var(--fill-color);\n",
              "    animation:\n",
              "      spin 1s steps(1) infinite;\n",
              "  }\n",
              "\n",
              "  @keyframes spin {\n",
              "    0% {\n",
              "      border-color: transparent;\n",
              "      border-bottom-color: var(--fill-color);\n",
              "      border-left-color: var(--fill-color);\n",
              "    }\n",
              "    20% {\n",
              "      border-color: transparent;\n",
              "      border-left-color: var(--fill-color);\n",
              "      border-top-color: var(--fill-color);\n",
              "    }\n",
              "    30% {\n",
              "      border-color: transparent;\n",
              "      border-left-color: var(--fill-color);\n",
              "      border-top-color: var(--fill-color);\n",
              "      border-right-color: var(--fill-color);\n",
              "    }\n",
              "    40% {\n",
              "      border-color: transparent;\n",
              "      border-right-color: var(--fill-color);\n",
              "      border-top-color: var(--fill-color);\n",
              "    }\n",
              "    60% {\n",
              "      border-color: transparent;\n",
              "      border-right-color: var(--fill-color);\n",
              "    }\n",
              "    80% {\n",
              "      border-color: transparent;\n",
              "      border-right-color: var(--fill-color);\n",
              "      border-bottom-color: var(--fill-color);\n",
              "    }\n",
              "    90% {\n",
              "      border-color: transparent;\n",
              "      border-bottom-color: var(--fill-color);\n",
              "    }\n",
              "  }\n",
              "</style>\n",
              "\n",
              "  <script>\n",
              "    async function quickchart(key) {\n",
              "      const quickchartButtonEl =\n",
              "        document.querySelector('#' + key + ' button');\n",
              "      quickchartButtonEl.disabled = true;  // To prevent multiple clicks.\n",
              "      quickchartButtonEl.classList.add('colab-df-spinner');\n",
              "      try {\n",
              "        const charts = await google.colab.kernel.invokeFunction(\n",
              "            'suggestCharts', [key], {});\n",
              "      } catch (error) {\n",
              "        console.error('Error during call to suggestCharts:', error);\n",
              "      }\n",
              "      quickchartButtonEl.classList.remove('colab-df-spinner');\n",
              "      quickchartButtonEl.classList.add('colab-df-quickchart-complete');\n",
              "    }\n",
              "    (() => {\n",
              "      let quickchartButtonEl =\n",
              "        document.querySelector('#df-3e00f5ad-dda2-434b-bf60-b98b16a3ea28 button');\n",
              "      quickchartButtonEl.style.display =\n",
              "        google.colab.kernel.accessAllowed ? 'block' : 'none';\n",
              "    })();\n",
              "  </script>\n",
              "</div>\n",
              "    </div>\n",
              "  </div>\n"
            ],
            "application/vnd.google.colaboratory.intrinsic+json": {
              "type": "dataframe",
              "variable_name": "differenced",
              "summary": "{\n  \"name\": \"differenced\",\n  \"rows\": 96,\n  \"fields\": [\n    {\n      \"column\": \"CONS\",\n      \"properties\": {\n        \"dtype\": \"number\",\n        \"std\": 356.716901387845,\n        \"min\": -888.5999999999985,\n        \"max\": 1024.300000000003,\n        \"num_unique_values\": 96,\n        \"samples\": [\n          683.9000000000087,\n          828.8999999999942,\n          65.40000000000873\n        ],\n        \"semantic_type\": \"\",\n        \"description\": \"\"\n      }\n    }\n  ]\n}"
            }
          },
          "metadata": {},
          "execution_count": 6
        }
      ]
    },
    {
      "cell_type": "code",
      "source": [
        "#Store original (=non-differenced) data in variable\n",
        "original =data[[\"CONS\"]].iloc[:96]\n",
        "original"
      ],
      "metadata": {
        "colab": {
          "base_uri": "https://localhost:8080/",
          "height": 419
        },
        "id": "JaoZ2gxJPkRe",
        "outputId": "bfe99f10-c7f2-4d58-b3b9-df28282d9b2c"
      },
      "execution_count": null,
      "outputs": [
        {
          "output_type": "execute_result",
          "data": {
            "text/plain": [
              "       CONS\n",
              "0   53803.3\n",
              "1   54124.1\n",
              "2   54383.8\n",
              "3   54783.6\n",
              "4   54980.6\n",
              "..      ...\n",
              "91  88001.2\n",
              "92  87213.2\n",
              "93  87176.8\n",
              "94  86841.6\n",
              "95  86579.1\n",
              "\n",
              "[96 rows x 1 columns]"
            ],
            "text/html": [
              "\n",
              "  <div id=\"df-30db3ef1-ffd3-414e-8a20-21960625289e\" class=\"colab-df-container\">\n",
              "    <div>\n",
              "<style scoped>\n",
              "    .dataframe tbody tr th:only-of-type {\n",
              "        vertical-align: middle;\n",
              "    }\n",
              "\n",
              "    .dataframe tbody tr th {\n",
              "        vertical-align: top;\n",
              "    }\n",
              "\n",
              "    .dataframe thead th {\n",
              "        text-align: right;\n",
              "    }\n",
              "</style>\n",
              "<table border=\"1\" class=\"dataframe\">\n",
              "  <thead>\n",
              "    <tr style=\"text-align: right;\">\n",
              "      <th></th>\n",
              "      <th>CONS</th>\n",
              "    </tr>\n",
              "  </thead>\n",
              "  <tbody>\n",
              "    <tr>\n",
              "      <th>0</th>\n",
              "      <td>53803.3</td>\n",
              "    </tr>\n",
              "    <tr>\n",
              "      <th>1</th>\n",
              "      <td>54124.1</td>\n",
              "    </tr>\n",
              "    <tr>\n",
              "      <th>2</th>\n",
              "      <td>54383.8</td>\n",
              "    </tr>\n",
              "    <tr>\n",
              "      <th>3</th>\n",
              "      <td>54783.6</td>\n",
              "    </tr>\n",
              "    <tr>\n",
              "      <th>4</th>\n",
              "      <td>54980.6</td>\n",
              "    </tr>\n",
              "    <tr>\n",
              "      <th>...</th>\n",
              "      <td>...</td>\n",
              "    </tr>\n",
              "    <tr>\n",
              "      <th>91</th>\n",
              "      <td>88001.2</td>\n",
              "    </tr>\n",
              "    <tr>\n",
              "      <th>92</th>\n",
              "      <td>87213.2</td>\n",
              "    </tr>\n",
              "    <tr>\n",
              "      <th>93</th>\n",
              "      <td>87176.8</td>\n",
              "    </tr>\n",
              "    <tr>\n",
              "      <th>94</th>\n",
              "      <td>86841.6</td>\n",
              "    </tr>\n",
              "    <tr>\n",
              "      <th>95</th>\n",
              "      <td>86579.1</td>\n",
              "    </tr>\n",
              "  </tbody>\n",
              "</table>\n",
              "<p>96 rows × 1 columns</p>\n",
              "</div>\n",
              "    <div class=\"colab-df-buttons\">\n",
              "\n",
              "  <div class=\"colab-df-container\">\n",
              "    <button class=\"colab-df-convert\" onclick=\"convertToInteractive('df-30db3ef1-ffd3-414e-8a20-21960625289e')\"\n",
              "            title=\"Convert this dataframe to an interactive table.\"\n",
              "            style=\"display:none;\">\n",
              "\n",
              "  <svg xmlns=\"http://www.w3.org/2000/svg\" height=\"24px\" viewBox=\"0 -960 960 960\">\n",
              "    <path d=\"M120-120v-720h720v720H120Zm60-500h600v-160H180v160Zm220 220h160v-160H400v160Zm0 220h160v-160H400v160ZM180-400h160v-160H180v160Zm440 0h160v-160H620v160ZM180-180h160v-160H180v160Zm440 0h160v-160H620v160Z\"/>\n",
              "  </svg>\n",
              "    </button>\n",
              "\n",
              "  <style>\n",
              "    .colab-df-container {\n",
              "      display:flex;\n",
              "      gap: 12px;\n",
              "    }\n",
              "\n",
              "    .colab-df-convert {\n",
              "      background-color: #E8F0FE;\n",
              "      border: none;\n",
              "      border-radius: 50%;\n",
              "      cursor: pointer;\n",
              "      display: none;\n",
              "      fill: #1967D2;\n",
              "      height: 32px;\n",
              "      padding: 0 0 0 0;\n",
              "      width: 32px;\n",
              "    }\n",
              "\n",
              "    .colab-df-convert:hover {\n",
              "      background-color: #E2EBFA;\n",
              "      box-shadow: 0px 1px 2px rgba(60, 64, 67, 0.3), 0px 1px 3px 1px rgba(60, 64, 67, 0.15);\n",
              "      fill: #174EA6;\n",
              "    }\n",
              "\n",
              "    .colab-df-buttons div {\n",
              "      margin-bottom: 4px;\n",
              "    }\n",
              "\n",
              "    [theme=dark] .colab-df-convert {\n",
              "      background-color: #3B4455;\n",
              "      fill: #D2E3FC;\n",
              "    }\n",
              "\n",
              "    [theme=dark] .colab-df-convert:hover {\n",
              "      background-color: #434B5C;\n",
              "      box-shadow: 0px 1px 3px 1px rgba(0, 0, 0, 0.15);\n",
              "      filter: drop-shadow(0px 1px 2px rgba(0, 0, 0, 0.3));\n",
              "      fill: #FFFFFF;\n",
              "    }\n",
              "  </style>\n",
              "\n",
              "    <script>\n",
              "      const buttonEl =\n",
              "        document.querySelector('#df-30db3ef1-ffd3-414e-8a20-21960625289e button.colab-df-convert');\n",
              "      buttonEl.style.display =\n",
              "        google.colab.kernel.accessAllowed ? 'block' : 'none';\n",
              "\n",
              "      async function convertToInteractive(key) {\n",
              "        const element = document.querySelector('#df-30db3ef1-ffd3-414e-8a20-21960625289e');\n",
              "        const dataTable =\n",
              "          await google.colab.kernel.invokeFunction('convertToInteractive',\n",
              "                                                    [key], {});\n",
              "        if (!dataTable) return;\n",
              "\n",
              "        const docLinkHtml = 'Like what you see? Visit the ' +\n",
              "          '<a target=\"_blank\" href=https://colab.research.google.com/notebooks/data_table.ipynb>data table notebook</a>'\n",
              "          + ' to learn more about interactive tables.';\n",
              "        element.innerHTML = '';\n",
              "        dataTable['output_type'] = 'display_data';\n",
              "        await google.colab.output.renderOutput(dataTable, element);\n",
              "        const docLink = document.createElement('div');\n",
              "        docLink.innerHTML = docLinkHtml;\n",
              "        element.appendChild(docLink);\n",
              "      }\n",
              "    </script>\n",
              "  </div>\n",
              "\n",
              "\n",
              "<div id=\"df-483aa767-37e7-4cd7-9321-286bd6dc6699\">\n",
              "  <button class=\"colab-df-quickchart\" onclick=\"quickchart('df-483aa767-37e7-4cd7-9321-286bd6dc6699')\"\n",
              "            title=\"Suggest charts\"\n",
              "            style=\"display:none;\">\n",
              "\n",
              "<svg xmlns=\"http://www.w3.org/2000/svg\" height=\"24px\"viewBox=\"0 0 24 24\"\n",
              "     width=\"24px\">\n",
              "    <g>\n",
              "        <path d=\"M19 3H5c-1.1 0-2 .9-2 2v14c0 1.1.9 2 2 2h14c1.1 0 2-.9 2-2V5c0-1.1-.9-2-2-2zM9 17H7v-7h2v7zm4 0h-2V7h2v10zm4 0h-2v-4h2v4z\"/>\n",
              "    </g>\n",
              "</svg>\n",
              "  </button>\n",
              "\n",
              "<style>\n",
              "  .colab-df-quickchart {\n",
              "      --bg-color: #E8F0FE;\n",
              "      --fill-color: #1967D2;\n",
              "      --hover-bg-color: #E2EBFA;\n",
              "      --hover-fill-color: #174EA6;\n",
              "      --disabled-fill-color: #AAA;\n",
              "      --disabled-bg-color: #DDD;\n",
              "  }\n",
              "\n",
              "  [theme=dark] .colab-df-quickchart {\n",
              "      --bg-color: #3B4455;\n",
              "      --fill-color: #D2E3FC;\n",
              "      --hover-bg-color: #434B5C;\n",
              "      --hover-fill-color: #FFFFFF;\n",
              "      --disabled-bg-color: #3B4455;\n",
              "      --disabled-fill-color: #666;\n",
              "  }\n",
              "\n",
              "  .colab-df-quickchart {\n",
              "    background-color: var(--bg-color);\n",
              "    border: none;\n",
              "    border-radius: 50%;\n",
              "    cursor: pointer;\n",
              "    display: none;\n",
              "    fill: var(--fill-color);\n",
              "    height: 32px;\n",
              "    padding: 0;\n",
              "    width: 32px;\n",
              "  }\n",
              "\n",
              "  .colab-df-quickchart:hover {\n",
              "    background-color: var(--hover-bg-color);\n",
              "    box-shadow: 0 1px 2px rgba(60, 64, 67, 0.3), 0 1px 3px 1px rgba(60, 64, 67, 0.15);\n",
              "    fill: var(--button-hover-fill-color);\n",
              "  }\n",
              "\n",
              "  .colab-df-quickchart-complete:disabled,\n",
              "  .colab-df-quickchart-complete:disabled:hover {\n",
              "    background-color: var(--disabled-bg-color);\n",
              "    fill: var(--disabled-fill-color);\n",
              "    box-shadow: none;\n",
              "  }\n",
              "\n",
              "  .colab-df-spinner {\n",
              "    border: 2px solid var(--fill-color);\n",
              "    border-color: transparent;\n",
              "    border-bottom-color: var(--fill-color);\n",
              "    animation:\n",
              "      spin 1s steps(1) infinite;\n",
              "  }\n",
              "\n",
              "  @keyframes spin {\n",
              "    0% {\n",
              "      border-color: transparent;\n",
              "      border-bottom-color: var(--fill-color);\n",
              "      border-left-color: var(--fill-color);\n",
              "    }\n",
              "    20% {\n",
              "      border-color: transparent;\n",
              "      border-left-color: var(--fill-color);\n",
              "      border-top-color: var(--fill-color);\n",
              "    }\n",
              "    30% {\n",
              "      border-color: transparent;\n",
              "      border-left-color: var(--fill-color);\n",
              "      border-top-color: var(--fill-color);\n",
              "      border-right-color: var(--fill-color);\n",
              "    }\n",
              "    40% {\n",
              "      border-color: transparent;\n",
              "      border-right-color: var(--fill-color);\n",
              "      border-top-color: var(--fill-color);\n",
              "    }\n",
              "    60% {\n",
              "      border-color: transparent;\n",
              "      border-right-color: var(--fill-color);\n",
              "    }\n",
              "    80% {\n",
              "      border-color: transparent;\n",
              "      border-right-color: var(--fill-color);\n",
              "      border-bottom-color: var(--fill-color);\n",
              "    }\n",
              "    90% {\n",
              "      border-color: transparent;\n",
              "      border-bottom-color: var(--fill-color);\n",
              "    }\n",
              "  }\n",
              "</style>\n",
              "\n",
              "  <script>\n",
              "    async function quickchart(key) {\n",
              "      const quickchartButtonEl =\n",
              "        document.querySelector('#' + key + ' button');\n",
              "      quickchartButtonEl.disabled = true;  // To prevent multiple clicks.\n",
              "      quickchartButtonEl.classList.add('colab-df-spinner');\n",
              "      try {\n",
              "        const charts = await google.colab.kernel.invokeFunction(\n",
              "            'suggestCharts', [key], {});\n",
              "      } catch (error) {\n",
              "        console.error('Error during call to suggestCharts:', error);\n",
              "      }\n",
              "      quickchartButtonEl.classList.remove('colab-df-spinner');\n",
              "      quickchartButtonEl.classList.add('colab-df-quickchart-complete');\n",
              "    }\n",
              "    (() => {\n",
              "      let quickchartButtonEl =\n",
              "        document.querySelector('#df-483aa767-37e7-4cd7-9321-286bd6dc6699 button');\n",
              "      quickchartButtonEl.style.display =\n",
              "        google.colab.kernel.accessAllowed ? 'block' : 'none';\n",
              "    })();\n",
              "  </script>\n",
              "</div>\n",
              "    </div>\n",
              "  </div>\n"
            ],
            "application/vnd.google.colaboratory.intrinsic+json": {
              "type": "dataframe",
              "variable_name": "original",
              "summary": "{\n  \"name\": \"original\",\n  \"rows\": 96,\n  \"fields\": [\n    {\n      \"column\": \"CONS\",\n      \"properties\": {\n        \"dtype\": \"number\",\n        \"std\": 11178.202329697058,\n        \"min\": 53803.3,\n        \"max\": 88001.2,\n        \"num_unique_values\": 96,\n        \"samples\": [\n          85913.9,\n          84618.5,\n          83216.2\n        ],\n        \"semantic_type\": \"\",\n        \"description\": \"\"\n      }\n    }\n  ]\n}"
            }
          },
          "metadata": {},
          "execution_count": 7
        }
      ]
    },
    {
      "cell_type": "code",
      "source": [
        "#G2S approach:\n",
        "#ADL(12,0) using first differenced and original series (0th lag only)\n",
        "adl_121 = ARDL(endog=differenced, lags=12, exog=original, order=[0], trend='ct')\n",
        "adl_121_result = adl_121.fit()\n",
        "print(adl_121_result.summary())"
      ],
      "metadata": {
        "colab": {
          "base_uri": "https://localhost:8080/"
        },
        "id": "skkhwbjKzpZc",
        "outputId": "f08b8a92-2cfe-4b72-f773-e9a0c6434bb4"
      },
      "execution_count": null,
      "outputs": [
        {
          "output_type": "stream",
          "name": "stdout",
          "text": [
            "                              ARDL Model Results                              \n",
            "==============================================================================\n",
            "Dep. Variable:                   CONS   No. Observations:                   96\n",
            "Model:                    ARDL(12, 0)   Log Likelihood                -600.057\n",
            "Method:               Conditional MLE   S.D. of innovations            306.312\n",
            "Date:                Thu, 11 Apr 2024   AIC                           1232.115\n",
            "Time:                        17:17:34   BIC                           1271.008\n",
            "Sample:                            12   HQIC                          1247.750\n",
            "                                   96                                         \n",
            "==============================================================================\n",
            "                 coef    std err          z      P>|z|      [0.025      0.975]\n",
            "------------------------------------------------------------------------------\n",
            "const       1413.7071   1798.955      0.786      0.435   -2175.110    5002.524\n",
            "trend          8.0539     15.080      0.534      0.595     -22.029      38.137\n",
            "CONS.L1       -0.0293      0.123     -0.237      0.813      -0.275       0.217\n",
            "CONS.L2        0.1570      0.121      1.301      0.197      -0.084       0.398\n",
            "CONS.L3        0.3653      0.122      2.985      0.004       0.121       0.609\n",
            "CONS.L4        0.1528      0.131      1.170      0.246      -0.108       0.413\n",
            "CONS.L5        0.0407      0.136      0.299      0.766      -0.231       0.312\n",
            "CONS.L6        0.0889      0.141      0.632      0.529      -0.192       0.369\n",
            "CONS.L7        0.1607      0.142      1.133      0.261      -0.122       0.444\n",
            "CONS.L8       -0.0183      0.144     -0.127      0.899      -0.305       0.269\n",
            "CONS.L9        0.0149      0.143      0.104      0.917      -0.270       0.300\n",
            "CONS.L10      -0.0123      0.136     -0.090      0.928      -0.284       0.259\n",
            "CONS.L11      -0.1703      0.137     -1.246      0.217      -0.443       0.102\n",
            "CONS.L12      -0.0527      0.137     -0.383      0.703      -0.327       0.222\n",
            "CONS.L0       -0.0236      0.036     -0.649      0.518      -0.096       0.049\n",
            "==============================================================================\n"
          ]
        }
      ]
    },
    {
      "cell_type": "code",
      "source": [
        "adl_121 = ARDL(endog=differenced, lags=[1,2,3,4,5,6,7,8,9,11,12], exog=original, order=[0], trend='ct')\n",
        "adl_121_result = adl_121.fit()\n",
        "print(adl_121_result.summary())"
      ],
      "metadata": {
        "colab": {
          "base_uri": "https://localhost:8080/"
        },
        "id": "HLhk9Qy9dOEE",
        "outputId": "0536cbb0-913c-4f29-af9a-884e19104700"
      },
      "execution_count": null,
      "outputs": [
        {
          "output_type": "stream",
          "name": "stdout",
          "text": [
            "                              ARDL Model Results                              \n",
            "==============================================================================\n",
            "Dep. Variable:                   CONS   No. Observations:                   96\n",
            "Model:                    ARDL(12, 0)   Log Likelihood                -600.062\n",
            "Method:               Conditional MLE   S.D. of innovations            306.330\n",
            "Date:                Thu, 11 Apr 2024   AIC                           1230.125\n",
            "Time:                        17:17:34   BIC                           1266.587\n",
            "Sample:                            12   HQIC                          1244.782\n",
            "                                   96                                         \n",
            "==============================================================================\n",
            "                 coef    std err          z      P>|z|      [0.025      0.975]\n",
            "------------------------------------------------------------------------------\n",
            "const       1459.0803   1714.772      0.851      0.398   -1960.925    4879.085\n",
            "trend          8.4479     14.329      0.590      0.557     -20.131      37.027\n",
            "CONS.L1       -0.0283      0.122     -0.232      0.817      -0.271       0.215\n",
            "CONS.L2        0.1587      0.118      1.341      0.184      -0.077       0.395\n",
            "CONS.L3        0.3649      0.121      3.005      0.004       0.123       0.607\n",
            "CONS.L4        0.1527      0.130      1.178      0.243      -0.106       0.411\n",
            "CONS.L5        0.0413      0.135      0.306      0.760      -0.228       0.310\n",
            "CONS.L6        0.0878      0.139      0.631      0.530      -0.190       0.365\n",
            "CONS.L7        0.1564      0.133      1.177      0.243      -0.109       0.421\n",
            "CONS.L8       -0.0189      0.143     -0.133      0.895      -0.303       0.266\n",
            "CONS.L9        0.0166      0.141      0.118      0.906      -0.264       0.297\n",
            "CONS.L11      -0.1687      0.135     -1.254      0.214      -0.437       0.100\n",
            "CONS.L12      -0.0530      0.136     -0.389      0.699      -0.325       0.219\n",
            "CONS.L0       -0.0246      0.035     -0.711      0.479      -0.094       0.044\n",
            "==============================================================================\n"
          ]
        }
      ]
    },
    {
      "cell_type": "code",
      "source": [
        "adl_121 = ARDL(endog=differenced, lags=[1,2,3,4,5,6,7,8,11,12], exog=original, order=[0], trend='ct')\n",
        "adl_121_result = adl_121.fit()\n",
        "print(adl_121_result.summary())"
      ],
      "metadata": {
        "colab": {
          "base_uri": "https://localhost:8080/"
        },
        "id": "JzH9vgoAdYdl",
        "outputId": "33737b38-f724-402c-a228-1c9ceecb9a2d"
      },
      "execution_count": null,
      "outputs": [
        {
          "output_type": "stream",
          "name": "stdout",
          "text": [
            "                              ARDL Model Results                              \n",
            "==============================================================================\n",
            "Dep. Variable:                   CONS   No. Observations:                   96\n",
            "Model:                    ARDL(12, 0)   Log Likelihood                -600.071\n",
            "Method:               Conditional MLE   S.D. of innovations            306.360\n",
            "Date:                Thu, 11 Apr 2024   AIC                           1228.142\n",
            "Time:                        17:17:34   BIC                           1262.173\n",
            "Sample:                            12   HQIC                          1241.822\n",
            "                                   96                                         \n",
            "==============================================================================\n",
            "                 coef    std err          z      P>|z|      [0.025      0.975]\n",
            "------------------------------------------------------------------------------\n",
            "const       1424.8771   1678.488      0.849      0.399   -1921.933    4771.687\n",
            "trend          8.1559     14.017      0.582      0.563     -19.794      36.105\n",
            "CONS.L1       -0.0293      0.121     -0.242      0.809      -0.270       0.212\n",
            "CONS.L2        0.1597      0.117      1.363      0.177      -0.074       0.393\n",
            "CONS.L3        0.3653      0.121      3.030      0.003       0.125       0.606\n",
            "CONS.L4        0.1522      0.129      1.183      0.241      -0.104       0.409\n",
            "CONS.L5        0.0425      0.134      0.318      0.751      -0.224       0.309\n",
            "CONS.L6        0.0928      0.132      0.704      0.484      -0.170       0.356\n",
            "CONS.L7        0.1568      0.132      1.189      0.238      -0.106       0.420\n",
            "CONS.L8       -0.0218      0.140     -0.156      0.877      -0.300       0.257\n",
            "CONS.L11      -0.1674      0.133     -1.257      0.213      -0.433       0.098\n",
            "CONS.L12      -0.0482      0.129     -0.373      0.710      -0.306       0.210\n",
            "CONS.L0       -0.0239      0.034     -0.706      0.482      -0.091       0.044\n",
            "==============================================================================\n"
          ]
        }
      ]
    },
    {
      "cell_type": "code",
      "source": [
        "adl_121 = ARDL(endog=differenced, lags=[1,2,3,4,5,6,7,11,12], exog=original, order=[0], trend='ct')\n",
        "adl_121_result = adl_121.fit()\n",
        "print(adl_121_result.summary())"
      ],
      "metadata": {
        "colab": {
          "base_uri": "https://localhost:8080/"
        },
        "id": "HVffBpYudbt0",
        "outputId": "8de6fa75-9a9c-40ee-a88c-1b585c912dee"
      },
      "execution_count": null,
      "outputs": [
        {
          "output_type": "stream",
          "name": "stdout",
          "text": [
            "                              ARDL Model Results                              \n",
            "==============================================================================\n",
            "Dep. Variable:                   CONS   No. Observations:                   96\n",
            "Model:                    ARDL(12, 0)   Log Likelihood                -600.085\n",
            "Method:               Conditional MLE   S.D. of innovations            306.413\n",
            "Date:                Thu, 11 Apr 2024   AIC                           1226.170\n",
            "Time:                        17:17:34   BIC                           1257.771\n",
            "Sample:                            12   HQIC                          1238.874\n",
            "                                   96                                         \n",
            "==============================================================================\n",
            "                 coef    std err          z      P>|z|      [0.025      0.975]\n",
            "------------------------------------------------------------------------------\n",
            "const       1473.2597   1638.334      0.899      0.372   -1792.699    4739.218\n",
            "trend          8.5679     13.672      0.627      0.533     -18.687      35.823\n",
            "CONS.L1       -0.0308      0.120     -0.257      0.798      -0.269       0.208\n",
            "CONS.L2        0.1596      0.116      1.371      0.175      -0.072       0.392\n",
            "CONS.L3        0.3659      0.120      3.057      0.003       0.127       0.604\n",
            "CONS.L4        0.1505      0.127      1.182      0.241      -0.103       0.404\n",
            "CONS.L5        0.0364      0.127      0.287      0.775      -0.216       0.289\n",
            "CONS.L6        0.0924      0.131      0.706      0.483      -0.169       0.353\n",
            "CONS.L7        0.1601      0.129      1.237      0.220      -0.098       0.418\n",
            "CONS.L11      -0.1736      0.126     -1.376      0.173      -0.425       0.078\n",
            "CONS.L12      -0.0493      0.128     -0.384      0.702      -0.305       0.207\n",
            "CONS.L0       -0.0249      0.033     -0.754      0.453      -0.091       0.041\n",
            "==============================================================================\n"
          ]
        }
      ]
    },
    {
      "cell_type": "code",
      "source": [
        "adl_121 = ARDL(endog=differenced, lags=[2,3,4,5,6,7,11,12], exog=original, order=[0], trend='ct')\n",
        "adl_121_result = adl_121.fit()\n",
        "print(adl_121_result.summary())"
      ],
      "metadata": {
        "colab": {
          "base_uri": "https://localhost:8080/"
        },
        "id": "XUPcY0Psdeaw",
        "outputId": "23170b92-2d0b-4ef5-9e06-954d5db130de"
      },
      "execution_count": null,
      "outputs": [
        {
          "output_type": "stream",
          "name": "stdout",
          "text": [
            "                              ARDL Model Results                              \n",
            "==============================================================================\n",
            "Dep. Variable:                   CONS   No. Observations:                   96\n",
            "Model:                    ARDL(12, 0)   Log Likelihood                -600.124\n",
            "Method:               Conditional MLE   S.D. of innovations            306.554\n",
            "Date:                Thu, 11 Apr 2024   AIC                           1224.248\n",
            "Time:                        17:17:35   BIC                           1253.417\n",
            "Sample:                            12   HQIC                          1235.974\n",
            "                                   96                                         \n",
            "==============================================================================\n",
            "                 coef    std err          z      P>|z|      [0.025      0.975]\n",
            "------------------------------------------------------------------------------\n",
            "const       1559.2201   1593.644      0.978      0.331   -1616.909    4735.349\n",
            "trend          9.3948     13.204      0.712      0.479     -16.921      35.711\n",
            "CONS.L2        0.1616      0.115      1.400      0.166      -0.068       0.392\n",
            "CONS.L3        0.3622      0.118      3.068      0.003       0.127       0.598\n",
            "CONS.L4        0.1399      0.120      1.168      0.247      -0.099       0.379\n",
            "CONS.L5        0.0307      0.124      0.248      0.805      -0.216       0.278\n",
            "CONS.L6        0.0939      0.130      0.723      0.472      -0.165       0.353\n",
            "CONS.L7        0.1611      0.128      1.254      0.214      -0.095       0.417\n",
            "CONS.L11      -0.1706      0.125     -1.367      0.176      -0.419       0.078\n",
            "CONS.L12      -0.0412      0.124     -0.333      0.740      -0.288       0.205\n",
            "CONS.L0       -0.0267      0.032     -0.837      0.406      -0.090       0.037\n",
            "==============================================================================\n"
          ]
        }
      ]
    },
    {
      "cell_type": "code",
      "source": [
        "adl_121 = ARDL(endog=differenced, lags=[2,3,4,6,7,11,12], exog=original, order=[0], trend='ct')\n",
        "adl_121_result = adl_121.fit()\n",
        "print(adl_121_result.summary())"
      ],
      "metadata": {
        "colab": {
          "base_uri": "https://localhost:8080/"
        },
        "id": "NLanrRIgdhru",
        "outputId": "faa83e49-f0db-4a45-e24b-cc38b4ec0085"
      },
      "execution_count": null,
      "outputs": [
        {
          "output_type": "stream",
          "name": "stdout",
          "text": [
            "                              ARDL Model Results                              \n",
            "==============================================================================\n",
            "Dep. Variable:                   CONS   No. Observations:                   96\n",
            "Model:                    ARDL(12, 0)   Log Likelihood                -600.159\n",
            "Method:               Conditional MLE   S.D. of innovations            306.682\n",
            "Date:                Thu, 11 Apr 2024   AIC                           1222.318\n",
            "Time:                        17:17:35   BIC                           1249.057\n",
            "Sample:                            12   HQIC                          1233.067\n",
            "                                   96                                         \n",
            "==============================================================================\n",
            "                 coef    std err          z      P>|z|      [0.025      0.975]\n",
            "------------------------------------------------------------------------------\n",
            "const       1509.6076   1570.930      0.961      0.340   -1620.539    4639.754\n",
            "trend          8.9443     12.995      0.688      0.493     -16.949      34.837\n",
            "CONS.L2        0.1719      0.107      1.608      0.112      -0.041       0.385\n",
            "CONS.L3        0.3651      0.117      3.128      0.003       0.133       0.598\n",
            "CONS.L4        0.1366      0.118      1.155      0.252      -0.099       0.372\n",
            "CONS.L6        0.0908      0.128      0.707      0.482      -0.165       0.347\n",
            "CONS.L7        0.1626      0.128      1.275      0.206      -0.091       0.417\n",
            "CONS.L11      -0.1663      0.123     -1.354      0.180      -0.411       0.078\n",
            "CONS.L12      -0.0396      0.123     -0.323      0.748      -0.284       0.205\n",
            "CONS.L0       -0.0257      0.031     -0.816      0.417      -0.088       0.037\n",
            "==============================================================================\n"
          ]
        }
      ]
    },
    {
      "cell_type": "code",
      "source": [
        "adl_121 = ARDL(endog=differenced, lags=[2,3,4,6,7,11], exog=original, order=[0], trend='ct')\n",
        "adl_121_result = adl_121.fit()\n",
        "print(adl_121_result.summary())"
      ],
      "metadata": {
        "colab": {
          "base_uri": "https://localhost:8080/"
        },
        "id": "kWdnTCxXdtUw",
        "outputId": "b808ce94-0f11-4dfa-e3a5-5917236c621b"
      },
      "execution_count": null,
      "outputs": [
        {
          "output_type": "stream",
          "name": "stdout",
          "text": [
            "                              ARDL Model Results                              \n",
            "==============================================================================\n",
            "Dep. Variable:                   CONS   No. Observations:                   96\n",
            "Model:                    ARDL(11, 0)   Log Likelihood                -606.891\n",
            "Method:               Conditional MLE   S.D. of innovations            305.195\n",
            "Date:                Thu, 11 Apr 2024   AIC                           1233.781\n",
            "Time:                        17:17:35   BIC                           1258.208\n",
            "Sample:                            11   HQIC                          1243.606\n",
            "                                   96                                         \n",
            "==============================================================================\n",
            "                 coef    std err          z      P>|z|      [0.025      0.975]\n",
            "------------------------------------------------------------------------------\n",
            "const       1660.0127   1470.701      1.129      0.263   -1269.143    4589.168\n",
            "trend         10.1597     12.074      0.841      0.403     -13.888      34.207\n",
            "CONS.L2        0.1709      0.105      1.631      0.107      -0.038       0.380\n",
            "CONS.L3        0.3705      0.115      3.236      0.002       0.142       0.599\n",
            "CONS.L4        0.1443      0.115      1.256      0.213      -0.085       0.373\n",
            "CONS.L6        0.0841      0.125      0.673      0.503      -0.165       0.333\n",
            "CONS.L7        0.1639      0.126      1.303      0.196      -0.087       0.414\n",
            "CONS.L11      -0.1648      0.121     -1.362      0.177      -0.406       0.076\n",
            "CONS.L0       -0.0288      0.029     -0.985      0.328      -0.087       0.029\n",
            "==============================================================================\n"
          ]
        }
      ]
    },
    {
      "cell_type": "code",
      "source": [
        "adl_121 = ARDL(endog=differenced, lags=[2,3,4,7,11], exog=original, order=[0], trend='ct')\n",
        "adl_121_result = adl_121.fit()\n",
        "print(adl_121_result.summary())"
      ],
      "metadata": {
        "colab": {
          "base_uri": "https://localhost:8080/"
        },
        "id": "xwtSgVwrdxSq",
        "outputId": "cf0114eb-c1f7-4d49-fafe-38b855476e08"
      },
      "execution_count": null,
      "outputs": [
        {
          "output_type": "stream",
          "name": "stdout",
          "text": [
            "                              ARDL Model Results                              \n",
            "==============================================================================\n",
            "Dep. Variable:                   CONS   No. Observations:                   96\n",
            "Model:                    ARDL(11, 0)   Log Likelihood                -607.143\n",
            "Method:               Conditional MLE   S.D. of innovations            306.103\n",
            "Date:                Thu, 11 Apr 2024   AIC                           1232.286\n",
            "Time:                        17:17:35   BIC                           1254.270\n",
            "Sample:                            11   HQIC                          1241.129\n",
            "                                   96                                         \n",
            "==============================================================================\n",
            "                 coef    std err          z      P>|z|      [0.025      0.975]\n",
            "------------------------------------------------------------------------------\n",
            "const       1401.7065   1414.695      0.991      0.325   -1415.310    4218.723\n",
            "trend          7.9300     11.569      0.685      0.495     -15.108      30.968\n",
            "CONS.L2        0.1785      0.104      1.720      0.089      -0.028       0.385\n",
            "CONS.L3        0.3979      0.107      3.732      0.000       0.186       0.610\n",
            "CONS.L4        0.1488      0.114      1.302      0.197      -0.079       0.376\n",
            "CONS.L7        0.1528      0.124      1.230      0.222      -0.095       0.400\n",
            "CONS.L11      -0.1721      0.120     -1.434      0.156      -0.411       0.067\n",
            "CONS.L0       -0.0234      0.028     -0.835      0.406      -0.079       0.032\n",
            "==============================================================================\n"
          ]
        }
      ]
    },
    {
      "cell_type": "code",
      "source": [
        "adl_121 = ARDL(endog=differenced, lags=[2,3,4,11], exog=original, order=[0], trend='ct')\n",
        "adl_121_result = adl_121.fit()\n",
        "print(adl_121_result.summary())"
      ],
      "metadata": {
        "colab": {
          "base_uri": "https://localhost:8080/"
        },
        "id": "PHHi2DQjdzTz",
        "outputId": "e251c43e-3e5c-4af3-d155-0514ae6d280c"
      },
      "execution_count": null,
      "outputs": [
        {
          "output_type": "stream",
          "name": "stdout",
          "text": [
            "                              ARDL Model Results                              \n",
            "==============================================================================\n",
            "Dep. Variable:                   CONS   No. Observations:                   96\n",
            "Model:                    ARDL(11, 0)   Log Likelihood                -607.970\n",
            "Method:               Conditional MLE   S.D. of innovations            309.095\n",
            "Date:                Thu, 11 Apr 2024   AIC                           1231.940\n",
            "Time:                        17:17:35   BIC                           1251.481\n",
            "Sample:                            11   HQIC                          1239.800\n",
            "                                   96                                         \n",
            "==============================================================================\n",
            "                 coef    std err          z      P>|z|      [0.025      0.975]\n",
            "------------------------------------------------------------------------------\n",
            "const        968.7358   1374.689      0.705      0.483   -1768.059    3705.530\n",
            "trend          4.1785     11.197      0.373      0.710     -18.112      26.469\n",
            "CONS.L2        0.1676      0.104      1.615      0.110      -0.039       0.374\n",
            "CONS.L3        0.4129      0.106      3.885      0.000       0.201       0.624\n",
            "CONS.L4        0.1959      0.108      1.813      0.074      -0.019       0.411\n",
            "CONS.L11      -0.1721      0.120     -1.430      0.157      -0.412       0.068\n",
            "CONS.L0       -0.0143      0.027     -0.529      0.598      -0.068       0.040\n",
            "==============================================================================\n"
          ]
        }
      ]
    },
    {
      "cell_type": "code",
      "source": [
        "adl_121 = ARDL(endog=differenced, lags=[2,3,4], exog=original, order=[0], trend='ct')\n",
        "adl_121_result = adl_121.fit()\n",
        "print(adl_121_result.summary())"
      ],
      "metadata": {
        "colab": {
          "base_uri": "https://localhost:8080/"
        },
        "id": "NkaMQksWd3jN",
        "outputId": "87876889-38ee-4ad4-b5a9-54793b7305c7"
      },
      "execution_count": null,
      "outputs": [
        {
          "output_type": "stream",
          "name": "stdout",
          "text": [
            "                              ARDL Model Results                              \n",
            "==============================================================================\n",
            "Dep. Variable:                   CONS   No. Observations:                   96\n",
            "Model:                     ARDL(4, 0)   Log Likelihood                -656.677\n",
            "Method:               Conditional MLE   S.D. of innovations            304.557\n",
            "Date:                Thu, 11 Apr 2024   AIC                           1327.355\n",
            "Time:                        17:17:35   BIC                           1345.007\n",
            "Sample:                             4   HQIC                          1334.479\n",
            "                                   96                                         \n",
            "==============================================================================\n",
            "                 coef    std err          z      P>|z|      [0.025      0.975]\n",
            "------------------------------------------------------------------------------\n",
            "const       1755.2859   1226.084      1.432      0.156    -682.089    4192.661\n",
            "trend         10.4288      9.767      1.068      0.289      -8.988      29.845\n",
            "CONS.L2        0.1609      0.100      1.611      0.111      -0.038       0.360\n",
            "CONS.L3        0.4518      0.101      4.490      0.000       0.252       0.652\n",
            "CONS.L4        0.1785      0.104      1.716      0.090      -0.028       0.385\n",
            "CONS.L0       -0.0303      0.024     -1.274      0.206      -0.078       0.017\n",
            "==============================================================================\n"
          ]
        }
      ]
    },
    {
      "cell_type": "code",
      "source": [
        "adl_121 = ARDL(endog=differenced, lags=[3,4], exog=original, order=[0], trend='ct')\n",
        "adl_121_result = adl_121.fit()\n",
        "print(adl_121_result.summary())"
      ],
      "metadata": {
        "colab": {
          "base_uri": "https://localhost:8080/"
        },
        "id": "4lOBKG84d7Xc",
        "outputId": "ae038dc8-c376-442e-9fbf-64c83bc02a3d"
      },
      "execution_count": null,
      "outputs": [
        {
          "output_type": "stream",
          "name": "stdout",
          "text": [
            "                              ARDL Model Results                              \n",
            "==============================================================================\n",
            "Dep. Variable:                   CONS   No. Observations:                   96\n",
            "Model:                     ARDL(4, 0)   Log Likelihood                -658.045\n",
            "Method:               Conditional MLE   S.D. of innovations            309.118\n",
            "Date:                Thu, 11 Apr 2024   AIC                           1328.090\n",
            "Time:                        17:17:35   BIC                           1343.220\n",
            "Sample:                             4   HQIC                          1334.197\n",
            "                                   96                                         \n",
            "==============================================================================\n",
            "                 coef    std err          z      P>|z|      [0.025      0.975]\n",
            "------------------------------------------------------------------------------\n",
            "const       1310.3178   1205.468      1.087      0.280   -1085.680    3706.316\n",
            "trend          6.1101      9.478      0.645      0.521     -12.728      24.948\n",
            "CONS.L3        0.4530      0.102      4.460      0.000       0.251       0.655\n",
            "CONS.L4        0.1927      0.105      1.842      0.069      -0.015       0.401\n",
            "CONS.L0       -0.0206      0.023     -0.885      0.378      -0.067       0.026\n",
            "==============================================================================\n"
          ]
        }
      ]
    },
    {
      "cell_type": "code",
      "source": [
        "adl_121 = ARDL(endog=differenced, lags=[3], exog=original, order=[0], trend='ct')\n",
        "adl_121_result = adl_121.fit()\n",
        "print(adl_121_result.summary())"
      ],
      "metadata": {
        "colab": {
          "base_uri": "https://localhost:8080/"
        },
        "id": "CsNAS308eAT4",
        "outputId": "ac28c27a-59eb-481c-8afb-c4edfb194189"
      },
      "execution_count": null,
      "outputs": [
        {
          "output_type": "stream",
          "name": "stdout",
          "text": [
            "                              ARDL Model Results                              \n",
            "==============================================================================\n",
            "Dep. Variable:                   CONS   No. Observations:                   96\n",
            "Model:                     ARDL(3, 0)   Log Likelihood                -666.768\n",
            "Method:               Conditional MLE   S.D. of innovations            314.382\n",
            "Date:                Thu, 11 Apr 2024   AIC                           1343.536\n",
            "Time:                        22:00:07   BIC                           1356.199\n",
            "Sample:                             3   HQIC                          1348.649\n",
            "                                   96                                         \n",
            "==============================================================================\n",
            "                 coef    std err          z      P>|z|      [0.025      0.975]\n",
            "------------------------------------------------------------------------------\n",
            "const        567.7441   1147.748      0.495      0.622   -1712.806    2848.294\n",
            "trend         -0.2773      8.841     -0.031      0.975     -17.844      17.290\n",
            "CONS.L3        0.4511      0.103      4.401      0.000       0.247       0.655\n",
            "CONS.L0       -0.0051      0.022     -0.233      0.816      -0.048       0.038\n",
            "==============================================================================\n"
          ]
        }
      ]
    },
    {
      "cell_type": "code",
      "source": [
        "#Export the results for AR on Latex\n",
        "res_ar = summary_col([adl_121_result],stars=True,float_format='%0.2f')\n",
        "f = open('/content/drive/MyDrive/EtricsIII_Ass2/Tables/4.4ADLConsumption.tex', 'w')\n",
        "f.write(res_ar.as_latex())\n",
        "f.close()"
      ],
      "metadata": {
        "id": "3yNMxYE_oBrs"
      },
      "execution_count": null,
      "outputs": []
    },
    {
      "cell_type": "code",
      "source": [],
      "metadata": {
        "id": "r-wcOuqgpZtJ"
      },
      "execution_count": null,
      "outputs": []
    },
    {
      "cell_type": "markdown",
      "source": [
        "Income\n"
      ],
      "metadata": {
        "id": "DHrqura_fopm"
      }
    },
    {
      "cell_type": "code",
      "source": [
        "#Take first difference of income series, and adjust index, and store original series of income in variable\n",
        "differenced2 = data[[\"INC\"]].diff().dropna()\n",
        "differenced2.index = differenced2.index - 1\n",
        "differenced2\n",
        "original2 =data[[\"INC\"]].iloc[:96]\n",
        "original2"
      ],
      "metadata": {
        "colab": {
          "base_uri": "https://localhost:8080/",
          "height": 419
        },
        "id": "ZXIG5hT3fyiy",
        "outputId": "1cf230e1-f3ef-4cfd-b5f9-742e5c92fc4c"
      },
      "execution_count": null,
      "outputs": [
        {
          "output_type": "execute_result",
          "data": {
            "text/plain": [
              "         INC\n",
              "0    69522.0\n",
              "1    70033.3\n",
              "2    70634.5\n",
              "3    71321.8\n",
              "4    72377.2\n",
              "..       ...\n",
              "91  120510.3\n",
              "92  121219.3\n",
              "93  121229.9\n",
              "94  120748.0\n",
              "95  119971.0\n",
              "\n",
              "[96 rows x 1 columns]"
            ],
            "text/html": [
              "\n",
              "  <div id=\"df-08963f87-30f8-4c66-9c6c-045896e445c4\" class=\"colab-df-container\">\n",
              "    <div>\n",
              "<style scoped>\n",
              "    .dataframe tbody tr th:only-of-type {\n",
              "        vertical-align: middle;\n",
              "    }\n",
              "\n",
              "    .dataframe tbody tr th {\n",
              "        vertical-align: top;\n",
              "    }\n",
              "\n",
              "    .dataframe thead th {\n",
              "        text-align: right;\n",
              "    }\n",
              "</style>\n",
              "<table border=\"1\" class=\"dataframe\">\n",
              "  <thead>\n",
              "    <tr style=\"text-align: right;\">\n",
              "      <th></th>\n",
              "      <th>INC</th>\n",
              "    </tr>\n",
              "  </thead>\n",
              "  <tbody>\n",
              "    <tr>\n",
              "      <th>0</th>\n",
              "      <td>69522.0</td>\n",
              "    </tr>\n",
              "    <tr>\n",
              "      <th>1</th>\n",
              "      <td>70033.3</td>\n",
              "    </tr>\n",
              "    <tr>\n",
              "      <th>2</th>\n",
              "      <td>70634.5</td>\n",
              "    </tr>\n",
              "    <tr>\n",
              "      <th>3</th>\n",
              "      <td>71321.8</td>\n",
              "    </tr>\n",
              "    <tr>\n",
              "      <th>4</th>\n",
              "      <td>72377.2</td>\n",
              "    </tr>\n",
              "    <tr>\n",
              "      <th>...</th>\n",
              "      <td>...</td>\n",
              "    </tr>\n",
              "    <tr>\n",
              "      <th>91</th>\n",
              "      <td>120510.3</td>\n",
              "    </tr>\n",
              "    <tr>\n",
              "      <th>92</th>\n",
              "      <td>121219.3</td>\n",
              "    </tr>\n",
              "    <tr>\n",
              "      <th>93</th>\n",
              "      <td>121229.9</td>\n",
              "    </tr>\n",
              "    <tr>\n",
              "      <th>94</th>\n",
              "      <td>120748.0</td>\n",
              "    </tr>\n",
              "    <tr>\n",
              "      <th>95</th>\n",
              "      <td>119971.0</td>\n",
              "    </tr>\n",
              "  </tbody>\n",
              "</table>\n",
              "<p>96 rows × 1 columns</p>\n",
              "</div>\n",
              "    <div class=\"colab-df-buttons\">\n",
              "\n",
              "  <div class=\"colab-df-container\">\n",
              "    <button class=\"colab-df-convert\" onclick=\"convertToInteractive('df-08963f87-30f8-4c66-9c6c-045896e445c4')\"\n",
              "            title=\"Convert this dataframe to an interactive table.\"\n",
              "            style=\"display:none;\">\n",
              "\n",
              "  <svg xmlns=\"http://www.w3.org/2000/svg\" height=\"24px\" viewBox=\"0 -960 960 960\">\n",
              "    <path d=\"M120-120v-720h720v720H120Zm60-500h600v-160H180v160Zm220 220h160v-160H400v160Zm0 220h160v-160H400v160ZM180-400h160v-160H180v160Zm440 0h160v-160H620v160ZM180-180h160v-160H180v160Zm440 0h160v-160H620v160Z\"/>\n",
              "  </svg>\n",
              "    </button>\n",
              "\n",
              "  <style>\n",
              "    .colab-df-container {\n",
              "      display:flex;\n",
              "      gap: 12px;\n",
              "    }\n",
              "\n",
              "    .colab-df-convert {\n",
              "      background-color: #E8F0FE;\n",
              "      border: none;\n",
              "      border-radius: 50%;\n",
              "      cursor: pointer;\n",
              "      display: none;\n",
              "      fill: #1967D2;\n",
              "      height: 32px;\n",
              "      padding: 0 0 0 0;\n",
              "      width: 32px;\n",
              "    }\n",
              "\n",
              "    .colab-df-convert:hover {\n",
              "      background-color: #E2EBFA;\n",
              "      box-shadow: 0px 1px 2px rgba(60, 64, 67, 0.3), 0px 1px 3px 1px rgba(60, 64, 67, 0.15);\n",
              "      fill: #174EA6;\n",
              "    }\n",
              "\n",
              "    .colab-df-buttons div {\n",
              "      margin-bottom: 4px;\n",
              "    }\n",
              "\n",
              "    [theme=dark] .colab-df-convert {\n",
              "      background-color: #3B4455;\n",
              "      fill: #D2E3FC;\n",
              "    }\n",
              "\n",
              "    [theme=dark] .colab-df-convert:hover {\n",
              "      background-color: #434B5C;\n",
              "      box-shadow: 0px 1px 3px 1px rgba(0, 0, 0, 0.15);\n",
              "      filter: drop-shadow(0px 1px 2px rgba(0, 0, 0, 0.3));\n",
              "      fill: #FFFFFF;\n",
              "    }\n",
              "  </style>\n",
              "\n",
              "    <script>\n",
              "      const buttonEl =\n",
              "        document.querySelector('#df-08963f87-30f8-4c66-9c6c-045896e445c4 button.colab-df-convert');\n",
              "      buttonEl.style.display =\n",
              "        google.colab.kernel.accessAllowed ? 'block' : 'none';\n",
              "\n",
              "      async function convertToInteractive(key) {\n",
              "        const element = document.querySelector('#df-08963f87-30f8-4c66-9c6c-045896e445c4');\n",
              "        const dataTable =\n",
              "          await google.colab.kernel.invokeFunction('convertToInteractive',\n",
              "                                                    [key], {});\n",
              "        if (!dataTable) return;\n",
              "\n",
              "        const docLinkHtml = 'Like what you see? Visit the ' +\n",
              "          '<a target=\"_blank\" href=https://colab.research.google.com/notebooks/data_table.ipynb>data table notebook</a>'\n",
              "          + ' to learn more about interactive tables.';\n",
              "        element.innerHTML = '';\n",
              "        dataTable['output_type'] = 'display_data';\n",
              "        await google.colab.output.renderOutput(dataTable, element);\n",
              "        const docLink = document.createElement('div');\n",
              "        docLink.innerHTML = docLinkHtml;\n",
              "        element.appendChild(docLink);\n",
              "      }\n",
              "    </script>\n",
              "  </div>\n",
              "\n",
              "\n",
              "<div id=\"df-98d54232-87ac-4479-a55f-3f89f4391f9a\">\n",
              "  <button class=\"colab-df-quickchart\" onclick=\"quickchart('df-98d54232-87ac-4479-a55f-3f89f4391f9a')\"\n",
              "            title=\"Suggest charts\"\n",
              "            style=\"display:none;\">\n",
              "\n",
              "<svg xmlns=\"http://www.w3.org/2000/svg\" height=\"24px\"viewBox=\"0 0 24 24\"\n",
              "     width=\"24px\">\n",
              "    <g>\n",
              "        <path d=\"M19 3H5c-1.1 0-2 .9-2 2v14c0 1.1.9 2 2 2h14c1.1 0 2-.9 2-2V5c0-1.1-.9-2-2-2zM9 17H7v-7h2v7zm4 0h-2V7h2v10zm4 0h-2v-4h2v4z\"/>\n",
              "    </g>\n",
              "</svg>\n",
              "  </button>\n",
              "\n",
              "<style>\n",
              "  .colab-df-quickchart {\n",
              "      --bg-color: #E8F0FE;\n",
              "      --fill-color: #1967D2;\n",
              "      --hover-bg-color: #E2EBFA;\n",
              "      --hover-fill-color: #174EA6;\n",
              "      --disabled-fill-color: #AAA;\n",
              "      --disabled-bg-color: #DDD;\n",
              "  }\n",
              "\n",
              "  [theme=dark] .colab-df-quickchart {\n",
              "      --bg-color: #3B4455;\n",
              "      --fill-color: #D2E3FC;\n",
              "      --hover-bg-color: #434B5C;\n",
              "      --hover-fill-color: #FFFFFF;\n",
              "      --disabled-bg-color: #3B4455;\n",
              "      --disabled-fill-color: #666;\n",
              "  }\n",
              "\n",
              "  .colab-df-quickchart {\n",
              "    background-color: var(--bg-color);\n",
              "    border: none;\n",
              "    border-radius: 50%;\n",
              "    cursor: pointer;\n",
              "    display: none;\n",
              "    fill: var(--fill-color);\n",
              "    height: 32px;\n",
              "    padding: 0;\n",
              "    width: 32px;\n",
              "  }\n",
              "\n",
              "  .colab-df-quickchart:hover {\n",
              "    background-color: var(--hover-bg-color);\n",
              "    box-shadow: 0 1px 2px rgba(60, 64, 67, 0.3), 0 1px 3px 1px rgba(60, 64, 67, 0.15);\n",
              "    fill: var(--button-hover-fill-color);\n",
              "  }\n",
              "\n",
              "  .colab-df-quickchart-complete:disabled,\n",
              "  .colab-df-quickchart-complete:disabled:hover {\n",
              "    background-color: var(--disabled-bg-color);\n",
              "    fill: var(--disabled-fill-color);\n",
              "    box-shadow: none;\n",
              "  }\n",
              "\n",
              "  .colab-df-spinner {\n",
              "    border: 2px solid var(--fill-color);\n",
              "    border-color: transparent;\n",
              "    border-bottom-color: var(--fill-color);\n",
              "    animation:\n",
              "      spin 1s steps(1) infinite;\n",
              "  }\n",
              "\n",
              "  @keyframes spin {\n",
              "    0% {\n",
              "      border-color: transparent;\n",
              "      border-bottom-color: var(--fill-color);\n",
              "      border-left-color: var(--fill-color);\n",
              "    }\n",
              "    20% {\n",
              "      border-color: transparent;\n",
              "      border-left-color: var(--fill-color);\n",
              "      border-top-color: var(--fill-color);\n",
              "    }\n",
              "    30% {\n",
              "      border-color: transparent;\n",
              "      border-left-color: var(--fill-color);\n",
              "      border-top-color: var(--fill-color);\n",
              "      border-right-color: var(--fill-color);\n",
              "    }\n",
              "    40% {\n",
              "      border-color: transparent;\n",
              "      border-right-color: var(--fill-color);\n",
              "      border-top-color: var(--fill-color);\n",
              "    }\n",
              "    60% {\n",
              "      border-color: transparent;\n",
              "      border-right-color: var(--fill-color);\n",
              "    }\n",
              "    80% {\n",
              "      border-color: transparent;\n",
              "      border-right-color: var(--fill-color);\n",
              "      border-bottom-color: var(--fill-color);\n",
              "    }\n",
              "    90% {\n",
              "      border-color: transparent;\n",
              "      border-bottom-color: var(--fill-color);\n",
              "    }\n",
              "  }\n",
              "</style>\n",
              "\n",
              "  <script>\n",
              "    async function quickchart(key) {\n",
              "      const quickchartButtonEl =\n",
              "        document.querySelector('#' + key + ' button');\n",
              "      quickchartButtonEl.disabled = true;  // To prevent multiple clicks.\n",
              "      quickchartButtonEl.classList.add('colab-df-spinner');\n",
              "      try {\n",
              "        const charts = await google.colab.kernel.invokeFunction(\n",
              "            'suggestCharts', [key], {});\n",
              "      } catch (error) {\n",
              "        console.error('Error during call to suggestCharts:', error);\n",
              "      }\n",
              "      quickchartButtonEl.classList.remove('colab-df-spinner');\n",
              "      quickchartButtonEl.classList.add('colab-df-quickchart-complete');\n",
              "    }\n",
              "    (() => {\n",
              "      let quickchartButtonEl =\n",
              "        document.querySelector('#df-98d54232-87ac-4479-a55f-3f89f4391f9a button');\n",
              "      quickchartButtonEl.style.display =\n",
              "        google.colab.kernel.accessAllowed ? 'block' : 'none';\n",
              "    })();\n",
              "  </script>\n",
              "</div>\n",
              "    </div>\n",
              "  </div>\n"
            ],
            "application/vnd.google.colaboratory.intrinsic+json": {
              "type": "dataframe",
              "variable_name": "original2",
              "summary": "{\n  \"name\": \"original2\",\n  \"rows\": 96,\n  \"fields\": [\n    {\n      \"column\": \"INC\",\n      \"properties\": {\n        \"dtype\": \"number\",\n        \"std\": 16749.578158660268,\n        \"min\": 69522.0,\n        \"max\": 122816.0,\n        \"num_unique_values\": 96,\n        \"samples\": [\n          122816.0,\n          118964.9,\n          115530.4\n        ],\n        \"semantic_type\": \"\",\n        \"description\": \"\"\n      }\n    }\n  ]\n}"
            }
          },
          "metadata": {},
          "execution_count": 10
        }
      ]
    },
    {
      "cell_type": "code",
      "source": [
        "#G2S approach:\n",
        "#ADL(12,0) using first differenced and original series (0th lag only)\n",
        "adl_2 = ARDL(endog=differenced2, lags=[1,2,3,4,5,6,7,8,9,10,11,12], exog=original2, order=[0], trend='ct')\n",
        "adl_2_result = adl_2.fit()\n",
        "print(adl_2_result.summary())"
      ],
      "metadata": {
        "colab": {
          "base_uri": "https://localhost:8080/"
        },
        "id": "91DS5i-_f4ha",
        "outputId": "8756e3be-6b6b-4a4a-e347-e8d42bc04e4a"
      },
      "execution_count": null,
      "outputs": [
        {
          "output_type": "stream",
          "name": "stdout",
          "text": [
            "                              ARDL Model Results                              \n",
            "==============================================================================\n",
            "Dep. Variable:                    INC   No. Observations:                   96\n",
            "Model:                    ARDL(12, 0)   Log Likelihood                -649.369\n",
            "Method:               Conditional MLE   S.D. of innovations            550.952\n",
            "Date:                Thu, 11 Apr 2024   AIC                           1330.738\n",
            "Time:                        17:17:35   BIC                           1369.631\n",
            "Sample:                            12   HQIC                          1346.373\n",
            "                                   96                                         \n",
            "==============================================================================\n",
            "                 coef    std err          z      P>|z|      [0.025      0.975]\n",
            "------------------------------------------------------------------------------\n",
            "const       4173.9023   3252.615      1.283      0.204   -2314.888    1.07e+04\n",
            "trend         31.5332     32.061      0.984      0.329     -32.427      95.494\n",
            "INC.L1         0.5589      0.117      4.796      0.000       0.326       0.791\n",
            "INC.L2        -0.0160      0.134     -0.119      0.906      -0.284       0.252\n",
            "INC.L3         0.1930      0.131      1.476      0.144      -0.068       0.454\n",
            "INC.L4        -0.0551      0.131     -0.420      0.676      -0.317       0.207\n",
            "INC.L5        -0.0016      0.126     -0.013      0.990      -0.253       0.250\n",
            "INC.L6         0.0559      0.129      0.434      0.666      -0.201       0.313\n",
            "INC.L7        -0.0501      0.129     -0.388      0.699      -0.308       0.208\n",
            "INC.L8        -0.1590      0.127     -1.249      0.216      -0.413       0.095\n",
            "INC.L9         0.3033      0.128      2.365      0.021       0.047       0.559\n",
            "INC.L10       -0.0509      0.133     -0.383      0.703      -0.316       0.214\n",
            "INC.L11        0.2669      0.142      1.881      0.064      -0.016       0.550\n",
            "INC.L12       -0.2771      0.140     -1.980      0.052      -0.556       0.002\n",
            "INC.L0        -0.0564      0.051     -1.107      0.272      -0.158       0.045\n",
            "==============================================================================\n"
          ]
        }
      ]
    },
    {
      "cell_type": "code",
      "source": [
        "adl_2 = ARDL(endog=differenced2, lags=[1,2,3,4,6,7,8,9,10,11,12], exog=original2, order=[0], trend='ct')\n",
        "adl_2_result = adl_2.fit()\n",
        "print(adl_2_result.summary())"
      ],
      "metadata": {
        "colab": {
          "base_uri": "https://localhost:8080/"
        },
        "id": "7Y_9Gdimf_l2",
        "outputId": "adf86f0f-ea4e-4a73-f8bd-46ef71fbd21a"
      },
      "execution_count": null,
      "outputs": [
        {
          "output_type": "stream",
          "name": "stdout",
          "text": [
            "                              ARDL Model Results                              \n",
            "==============================================================================\n",
            "Dep. Variable:                    INC   No. Observations:                   96\n",
            "Model:                    ARDL(12, 0)   Log Likelihood                -649.369\n",
            "Method:               Conditional MLE   S.D. of innovations            550.952\n",
            "Date:                Thu, 11 Apr 2024   AIC                           1328.739\n",
            "Time:                        17:17:35   BIC                           1365.201\n",
            "Sample:                            12   HQIC                          1343.396\n",
            "                                   96                                         \n",
            "==============================================================================\n",
            "                 coef    std err          z      P>|z|      [0.025      0.975]\n",
            "------------------------------------------------------------------------------\n",
            "const       4184.0633   3134.748      1.335      0.186   -2067.995    1.04e+04\n",
            "trend         31.6368     30.833      1.026      0.308     -29.857      93.131\n",
            "INC.L1         0.5590      0.115      4.857      0.000       0.330       0.789\n",
            "INC.L2        -0.0160      0.133     -0.120      0.905      -0.282       0.250\n",
            "INC.L3         0.1932      0.129      1.494      0.140      -0.065       0.451\n",
            "INC.L4        -0.0556      0.126     -0.442      0.660      -0.306       0.195\n",
            "INC.L6         0.0554      0.123      0.451      0.653      -0.190       0.300\n",
            "INC.L7        -0.0500      0.128     -0.391      0.697      -0.305       0.205\n",
            "INC.L8        -0.1591      0.126     -1.261      0.212      -0.411       0.093\n",
            "INC.L9         0.3034      0.127      2.389      0.020       0.050       0.557\n",
            "INC.L10       -0.0508      0.131     -0.387      0.700      -0.313       0.211\n",
            "INC.L11        0.2669      0.141      1.897      0.062      -0.014       0.548\n",
            "INC.L12       -0.2768      0.138     -2.009      0.048      -0.552      -0.002\n",
            "INC.L0        -0.0566      0.049     -1.154      0.252      -0.154       0.041\n",
            "==============================================================================\n"
          ]
        }
      ]
    },
    {
      "cell_type": "code",
      "source": [
        "adl_2 = ARDL(endog=differenced2, lags=[1,3,4,6,7,8,9,10,11,12], exog=original2, order=[0], trend='ct')\n",
        "adl_2_result = adl_2.fit()\n",
        "print(adl_2_result.summary())"
      ],
      "metadata": {
        "colab": {
          "base_uri": "https://localhost:8080/"
        },
        "id": "a5OdbN18gCR2",
        "outputId": "79cb4063-b880-4261-8774-358a88c3b46b"
      },
      "execution_count": null,
      "outputs": [
        {
          "output_type": "stream",
          "name": "stdout",
          "text": [
            "                              ARDL Model Results                              \n",
            "==============================================================================\n",
            "Dep. Variable:                    INC   No. Observations:                   96\n",
            "Model:                    ARDL(12, 0)   Log Likelihood                -649.378\n",
            "Method:               Conditional MLE   S.D. of innovations            551.009\n",
            "Date:                Thu, 11 Apr 2024   AIC                           1326.756\n",
            "Time:                        17:17:35   BIC                           1360.787\n",
            "Sample:                            12   HQIC                          1340.436\n",
            "                                   96                                         \n",
            "==============================================================================\n",
            "                 coef    std err          z      P>|z|      [0.025      0.975]\n",
            "------------------------------------------------------------------------------\n",
            "const       4291.3054   2983.960      1.438      0.155   -1658.542    1.02e+04\n",
            "trend         32.7283     29.258      1.119      0.267     -25.611      91.067\n",
            "INC.L1         0.5540      0.106      5.209      0.000       0.342       0.766\n",
            "INC.L3         0.1882      0.122      1.547      0.126      -0.054       0.431\n",
            "INC.L4        -0.0534      0.124     -0.432      0.667      -0.300       0.193\n",
            "INC.L6         0.0565      0.122      0.464      0.644      -0.186       0.299\n",
            "INC.L7        -0.0480      0.126     -0.381      0.704      -0.299       0.203\n",
            "INC.L8        -0.1587      0.125     -1.267      0.209      -0.409       0.091\n",
            "INC.L9         0.3037      0.126      2.408      0.019       0.052       0.555\n",
            "INC.L10       -0.0460      0.124     -0.370      0.712      -0.294       0.202\n",
            "INC.L11        0.2640      0.138      1.918      0.059      -0.010       0.538\n",
            "INC.L12       -0.2725      0.132     -2.063      0.043      -0.536      -0.009\n",
            "INC.L0        -0.0583      0.047     -1.253      0.214      -0.151       0.035\n",
            "==============================================================================\n"
          ]
        }
      ]
    },
    {
      "cell_type": "code",
      "source": [
        "adl_2 = ARDL(endog=differenced2, lags=[1,3,4,6,7,8,9,11,12], exog=original2, order=[0], trend='ct')\n",
        "adl_2_result = adl_2.fit()\n",
        "print(adl_2_result.summary())"
      ],
      "metadata": {
        "colab": {
          "base_uri": "https://localhost:8080/"
        },
        "id": "dNr_YfMwgEzW",
        "outputId": "197310cd-3319-47dc-c1fb-c10d566358a1"
      },
      "execution_count": null,
      "outputs": [
        {
          "output_type": "stream",
          "name": "stdout",
          "text": [
            "                              ARDL Model Results                              \n",
            "==============================================================================\n",
            "Dep. Variable:                    INC   No. Observations:                   96\n",
            "Model:                    ARDL(12, 0)   Log Likelihood                -649.459\n",
            "Method:               Conditional MLE   S.D. of innovations            551.540\n",
            "Date:                Thu, 11 Apr 2024   AIC                           1324.918\n",
            "Time:                        17:17:35   BIC                           1356.518\n",
            "Sample:                            12   HQIC                          1337.621\n",
            "                                   96                                         \n",
            "==============================================================================\n",
            "                 coef    std err          z      P>|z|      [0.025      0.975]\n",
            "------------------------------------------------------------------------------\n",
            "const       4455.8714   2932.891      1.519      0.133   -1390.740    1.03e+04\n",
            "trend         34.4195     28.725      1.198      0.235     -22.843      91.682\n",
            "INC.L1         0.5517      0.106      5.228      0.000       0.341       0.762\n",
            "INC.L3         0.1945      0.120      1.624      0.109      -0.044       0.433\n",
            "INC.L4        -0.0520      0.123     -0.424      0.673      -0.297       0.193\n",
            "INC.L6         0.0609      0.120      0.506      0.614      -0.179       0.301\n",
            "INC.L7        -0.0520      0.125     -0.417      0.678      -0.300       0.196\n",
            "INC.L8        -0.1549      0.124     -1.248      0.216      -0.402       0.093\n",
            "INC.L9         0.2867      0.117      2.456      0.016       0.054       0.519\n",
            "INC.L11        0.2507      0.132      1.899      0.062      -0.013       0.514\n",
            "INC.L12       -0.2711      0.131     -2.066      0.042      -0.533      -0.010\n",
            "INC.L0        -0.0610      0.046     -1.334      0.186      -0.152       0.030\n",
            "==============================================================================\n"
          ]
        }
      ]
    },
    {
      "cell_type": "code",
      "source": [
        "adl_2 = ARDL(endog=differenced2, lags=[1,3,4,6,8,9,11,12], exog=original2, order=[0], trend='ct')\n",
        "adl_2_result = adl_2.fit()\n",
        "print(adl_2_result.summary())"
      ],
      "metadata": {
        "colab": {
          "base_uri": "https://localhost:8080/"
        },
        "id": "iahq7HWugIjD",
        "outputId": "5c1b85d5-0975-40b8-e12d-763873ea9ca8"
      },
      "execution_count": null,
      "outputs": [
        {
          "output_type": "stream",
          "name": "stdout",
          "text": [
            "                              ARDL Model Results                              \n",
            "==============================================================================\n",
            "Dep. Variable:                    INC   No. Observations:                   96\n",
            "Model:                    ARDL(12, 0)   Log Likelihood                -649.560\n",
            "Method:               Conditional MLE   S.D. of innovations            552.207\n",
            "Date:                Thu, 11 Apr 2024   AIC                           1323.121\n",
            "Time:                        17:17:36   BIC                           1352.291\n",
            "Sample:                            12   HQIC                          1334.847\n",
            "                                   96                                         \n",
            "==============================================================================\n",
            "                 coef    std err          z      P>|z|      [0.025      0.975]\n",
            "------------------------------------------------------------------------------\n",
            "const       4726.6660   2844.017      1.662      0.101    -941.451    1.04e+04\n",
            "trend         37.1794     27.795      1.338      0.185     -18.216      92.575\n",
            "INC.L1         0.5555      0.105      5.313      0.000       0.347       0.764\n",
            "INC.L3         0.2003      0.118      1.694      0.095      -0.035       0.436\n",
            "INC.L4        -0.0519      0.122     -0.425      0.672      -0.295       0.191\n",
            "INC.L6         0.0467      0.115      0.407      0.685      -0.182       0.275\n",
            "INC.L8        -0.1707      0.118     -1.452      0.151      -0.405       0.064\n",
            "INC.L9         0.2885      0.116      2.487      0.015       0.057       0.520\n",
            "INC.L11        0.2533      0.131      1.931      0.057      -0.008       0.515\n",
            "INC.L12       -0.2618      0.129     -2.036      0.045      -0.518      -0.006\n",
            "INC.L0        -0.0653      0.044     -1.476      0.144      -0.154       0.023\n",
            "==============================================================================\n"
          ]
        }
      ]
    },
    {
      "cell_type": "code",
      "source": [
        "adl_2 = ARDL(endog=differenced2, lags=[1,3,4,8,9,11,12], exog=original2, order=[0], trend='ct')\n",
        "adl_2_result = adl_2.fit()\n",
        "print(adl_2_result.summary())"
      ],
      "metadata": {
        "colab": {
          "base_uri": "https://localhost:8080/"
        },
        "id": "-EcB3fgsgK61",
        "outputId": "52db0dab-56e9-496c-e073-7adbf01a9e1c"
      },
      "execution_count": null,
      "outputs": [
        {
          "output_type": "stream",
          "name": "stdout",
          "text": [
            "                              ARDL Model Results                              \n",
            "==============================================================================\n",
            "Dep. Variable:                    INC   No. Observations:                   96\n",
            "Model:                    ARDL(12, 0)   Log Likelihood                -649.655\n",
            "Method:               Conditional MLE   S.D. of innovations            552.832\n",
            "Date:                Thu, 11 Apr 2024   AIC                           1321.311\n",
            "Time:                        17:17:36   BIC                           1348.050\n",
            "Sample:                            12   HQIC                          1332.060\n",
            "                                   96                                         \n",
            "==============================================================================\n",
            "                 coef    std err          z      P>|z|      [0.025      0.975]\n",
            "------------------------------------------------------------------------------\n",
            "const       4222.6735   2545.420      1.659      0.101    -849.186    9294.533\n",
            "trend         32.0415     24.619      1.301      0.197     -17.013      81.096\n",
            "INC.L1         0.5462      0.101      5.383      0.000       0.344       0.748\n",
            "INC.L3         0.1977      0.117      1.684      0.096      -0.036       0.432\n",
            "INC.L4        -0.0528      0.121     -0.435      0.665      -0.295       0.189\n",
            "INC.L8        -0.1697      0.117     -1.452      0.151      -0.403       0.063\n",
            "INC.L9         0.2877      0.115      2.495      0.015       0.058       0.518\n",
            "INC.L11        0.2394      0.126      1.901      0.061      -0.011       0.490\n",
            "INC.L12       -0.2671      0.127     -2.100      0.039      -0.521      -0.014\n",
            "INC.L0        -0.0573      0.039     -1.456      0.150      -0.136       0.021\n",
            "==============================================================================\n"
          ]
        }
      ]
    },
    {
      "cell_type": "code",
      "source": [
        "adl_2 = ARDL(endog=differenced2, lags=[1,3,8,9,11,12], exog=original2, order=[0], trend='ct')\n",
        "adl_2_result = adl_2.fit()\n",
        "print(adl_2_result.summary())"
      ],
      "metadata": {
        "colab": {
          "base_uri": "https://localhost:8080/"
        },
        "id": "XPbiuOAygOXe",
        "outputId": "5dc47dc1-a9cf-45c3-993f-f5d2721f05ae"
      },
      "execution_count": null,
      "outputs": [
        {
          "output_type": "stream",
          "name": "stdout",
          "text": [
            "                              ARDL Model Results                              \n",
            "==============================================================================\n",
            "Dep. Variable:                    INC   No. Observations:                   96\n",
            "Model:                    ARDL(12, 0)   Log Likelihood                -649.763\n",
            "Method:               Conditional MLE   S.D. of innovations            553.538\n",
            "Date:                Thu, 11 Apr 2024   AIC                           1319.525\n",
            "Time:                        17:17:36   BIC                           1343.833\n",
            "Sample:                            12   HQIC                          1329.297\n",
            "                                   96                                         \n",
            "==============================================================================\n",
            "                 coef    std err          z      P>|z|      [0.025      0.975]\n",
            "------------------------------------------------------------------------------\n",
            "const       4678.8558   2306.680      2.028      0.046      83.714    9273.997\n",
            "trend         36.6663     22.084      1.660      0.101      -7.327      80.659\n",
            "INC.L1         0.5491      0.101      5.454      0.000       0.349       0.750\n",
            "INC.L3         0.1846      0.113      1.636      0.106      -0.040       0.409\n",
            "INC.L8        -0.1659      0.116     -1.431      0.156      -0.397       0.065\n",
            "INC.L9         0.2941      0.114      2.584      0.012       0.067       0.521\n",
            "INC.L11        0.2446      0.125      1.962      0.053      -0.004       0.493\n",
            "INC.L12       -0.2494      0.120     -2.080      0.041      -0.488      -0.011\n",
            "INC.L0        -0.0646      0.035     -1.829      0.071      -0.135       0.006\n",
            "==============================================================================\n"
          ]
        }
      ]
    },
    {
      "cell_type": "code",
      "source": [
        "adl_2 = ARDL(endog=differenced2, lags=[1,3,9,11,12], exog=original2, order=[0], trend='ct')\n",
        "adl_2_result = adl_2.fit()\n",
        "print(adl_2_result.summary())"
      ],
      "metadata": {
        "colab": {
          "base_uri": "https://localhost:8080/"
        },
        "id": "7jWSqAWGgQmi",
        "outputId": "e614540e-65c0-4f3a-85fc-3be390c3e548"
      },
      "execution_count": null,
      "outputs": [
        {
          "output_type": "stream",
          "name": "stdout",
          "text": [
            "                              ARDL Model Results                              \n",
            "==============================================================================\n",
            "Dep. Variable:                    INC   No. Observations:                   96\n",
            "Model:                    ARDL(12, 0)   Log Likelihood                -650.894\n",
            "Method:               Conditional MLE   S.D. of innovations            561.047\n",
            "Date:                Thu, 11 Apr 2024   AIC                           1319.789\n",
            "Time:                        17:17:36   BIC                           1341.666\n",
            "Sample:                            12   HQIC                          1328.583\n",
            "                                   96                                         \n",
            "==============================================================================\n",
            "                 coef    std err          z      P>|z|      [0.025      0.975]\n",
            "------------------------------------------------------------------------------\n",
            "const       5855.8791   2169.931      2.699      0.009    1534.087    1.02e+04\n",
            "trend         48.7349     20.551      2.371      0.020       7.804      89.666\n",
            "INC.L1         0.5735      0.100      5.740      0.000       0.374       0.772\n",
            "INC.L3         0.2127      0.112      1.901      0.061      -0.010       0.436\n",
            "INC.L9         0.2412      0.108      2.226      0.029       0.025       0.457\n",
            "INC.L11        0.2503      0.125      1.995      0.050       0.000       0.500\n",
            "INC.L12       -0.2254      0.120     -1.886      0.063      -0.464       0.013\n",
            "INC.L0        -0.0836      0.033     -2.535      0.013      -0.149      -0.018\n",
            "==============================================================================\n"
          ]
        }
      ]
    },
    {
      "cell_type": "code",
      "source": [
        "adl_2 = ARDL(endog=differenced2, lags=[1,3,9,11], exog=original2, order=[0], trend='ct')\n",
        "adl_2_result = adl_2.fit()\n",
        "print(adl_2_result.summary())"
      ],
      "metadata": {
        "colab": {
          "base_uri": "https://localhost:8080/"
        },
        "id": "uNCeE7DBgUnq",
        "outputId": "3daacb7d-20f1-4072-86e5-e81f3a0d5f86"
      },
      "execution_count": null,
      "outputs": [
        {
          "output_type": "stream",
          "name": "stdout",
          "text": [
            "                              ARDL Model Results                              \n",
            "==============================================================================\n",
            "Dep. Variable:                    INC   No. Observations:                   96\n",
            "Model:                    ARDL(11, 0)   Log Likelihood                -661.704\n",
            "Method:               Conditional MLE   S.D. of innovations            581.618\n",
            "Date:                Thu, 11 Apr 2024   AIC                           1339.408\n",
            "Time:                        17:17:36   BIC                           1358.949\n",
            "Sample:                            11   HQIC                          1347.268\n",
            "                                   96                                         \n",
            "==============================================================================\n",
            "                 coef    std err          z      P>|z|      [0.025      0.975]\n",
            "------------------------------------------------------------------------------\n",
            "const       6481.5576   2218.725      2.921      0.005    2064.416    1.09e+04\n",
            "trend         56.6215     20.919      2.707      0.008      14.976      98.267\n",
            "INC.L1         0.5785      0.103      5.626      0.000       0.374       0.783\n",
            "INC.L3         0.2186      0.115      1.901      0.061      -0.010       0.448\n",
            "INC.L9         0.2394      0.111      2.149      0.035       0.018       0.461\n",
            "INC.L11        0.1607      0.116      1.389      0.169      -0.070       0.391\n",
            "INC.L0        -0.0949      0.034     -2.821      0.006      -0.162      -0.028\n",
            "==============================================================================\n"
          ]
        }
      ]
    },
    {
      "cell_type": "code",
      "source": [
        "adl_2 = ARDL(endog=differenced2, lags=[1,3,9], exog=original2, order=[0], trend='ct')\n",
        "adl_2_result = adl_2.fit()\n",
        "print(adl_2_result.summary())"
      ],
      "metadata": {
        "colab": {
          "base_uri": "https://localhost:8080/"
        },
        "id": "b3D-Q-xngXwD",
        "outputId": "5309b9e5-d1d8-4cad-b511-e6001b60dfa4"
      },
      "execution_count": null,
      "outputs": [
        {
          "output_type": "stream",
          "name": "stdout",
          "text": [
            "                              ARDL Model Results                              \n",
            "==============================================================================\n",
            "Dep. Variable:                    INC   No. Observations:                   96\n",
            "Model:                     ARDL(9, 0)   Log Likelihood                -677.653\n",
            "Method:               Conditional MLE   S.D. of innovations            584.163\n",
            "Date:                Thu, 11 Apr 2024   AIC                           1369.307\n",
            "Time:                        17:17:36   BIC                           1386.568\n",
            "Sample:                             9   HQIC                          1376.257\n",
            "                                   96                                         \n",
            "==============================================================================\n",
            "                 coef    std err          z      P>|z|      [0.025      0.975]\n",
            "------------------------------------------------------------------------------\n",
            "const       5087.0500   1980.369      2.569      0.012    1146.737    9027.363\n",
            "trend         41.7760     18.156      2.301      0.024       5.650      77.902\n",
            "INC.L1         0.5684      0.102      5.556      0.000       0.365       0.772\n",
            "INC.L3         0.1569      0.106      1.478      0.143      -0.054       0.368\n",
            "INC.L9         0.2395      0.111      2.160      0.034       0.019       0.460\n",
            "INC.L0        -0.0720      0.029     -2.443      0.017      -0.131      -0.013\n",
            "==============================================================================\n"
          ]
        }
      ]
    },
    {
      "cell_type": "code",
      "source": [
        "adl_2 = ARDL(endog=differenced2, lags=[1,9], exog=original2, order=[0], trend='ct')\n",
        "adl_2_result = adl_2.fit()\n",
        "print(adl_2_result.summary())"
      ],
      "metadata": {
        "colab": {
          "base_uri": "https://localhost:8080/"
        },
        "id": "GSnSXsdAgZuP",
        "outputId": "a21becf8-c925-4a42-d0cd-88c1f7455d83"
      },
      "execution_count": null,
      "outputs": [
        {
          "output_type": "stream",
          "name": "stdout",
          "text": [
            "                              ARDL Model Results                              \n",
            "==============================================================================\n",
            "Dep. Variable:                    INC   No. Observations:                   96\n",
            "Model:                     ARDL(9, 0)   Log Likelihood                -678.811\n",
            "Method:               Conditional MLE   S.D. of innovations            591.990\n",
            "Date:                Thu, 11 Apr 2024   AIC                           1369.623\n",
            "Time:                        17:17:36   BIC                           1384.418\n",
            "Sample:                             9   HQIC                          1375.580\n",
            "                                   96                                         \n",
            "==============================================================================\n",
            "                 coef    std err          z      P>|z|      [0.025      0.975]\n",
            "------------------------------------------------------------------------------\n",
            "const       4050.2924   1865.367      2.171      0.033     339.484    7761.101\n",
            "trend         31.3123     16.840      1.859      0.067      -2.188      64.813\n",
            "INC.L1         0.5852      0.102      5.715      0.000       0.382       0.789\n",
            "INC.L9         0.2095      0.110      1.908      0.060      -0.009       0.428\n",
            "INC.L0        -0.0554      0.027     -2.019      0.047      -0.110      -0.001\n",
            "==============================================================================\n"
          ]
        }
      ]
    },
    {
      "cell_type": "code",
      "source": [
        "adl_2 = ARDL(endog=differenced2, lags=[1], exog=original2, order=[0], trend='ct')\n",
        "adl_2_result = adl_2.fit()\n",
        "print(adl_2_result.summary())"
      ],
      "metadata": {
        "colab": {
          "base_uri": "https://localhost:8080/"
        },
        "id": "VcC_T-Smgcr0",
        "outputId": "96e62748-0e3d-4702-f3f5-1bb71cb22d32"
      },
      "execution_count": null,
      "outputs": [
        {
          "output_type": "stream",
          "name": "stdout",
          "text": [
            "                              ARDL Model Results                              \n",
            "==============================================================================\n",
            "Dep. Variable:                    INC   No. Observations:                   96\n",
            "Model:                     ARDL(1, 0)   Log Likelihood                -739.368\n",
            "Method:               Conditional MLE   S.D. of innovations            580.493\n",
            "Date:                Thu, 11 Apr 2024   AIC                           1488.735\n",
            "Time:                        22:00:32   BIC                           1501.504\n",
            "Sample:                             1   HQIC                          1493.895\n",
            "                                   96                                         \n",
            "==============================================================================\n",
            "                 coef    std err          z      P>|z|      [0.025      0.975]\n",
            "------------------------------------------------------------------------------\n",
            "const       2608.5976   1646.898      1.584      0.117    -662.763    5879.959\n",
            "trend         16.1841     14.398      1.124      0.264     -12.417      44.785\n",
            "INC.L1         0.5209      0.094      5.539      0.000       0.334       0.708\n",
            "INC.L0        -0.0318      0.024     -1.340      0.184      -0.079       0.015\n",
            "==============================================================================\n"
          ]
        }
      ]
    },
    {
      "cell_type": "code",
      "source": [
        "#Export the results for AR on Latex\n",
        "res_ar = summary_col([adl_2_result],stars=True,float_format='%0.2f')\n",
        "f = open('/content/drive/MyDrive/EtricsIII_Ass2/Tables/4.4ADLIncome.tex', 'w')\n",
        "f.write(res_ar.as_latex())\n",
        "f.close()"
      ],
      "metadata": {
        "id": "dwgN_kXAn5N5"
      },
      "execution_count": null,
      "outputs": []
    },
    {
      "cell_type": "markdown",
      "source": [
        "## Point 4"
      ],
      "metadata": {
        "id": "CKfGR3fxqkTb"
      }
    },
    {
      "cell_type": "code",
      "source": [
        "#Store ADL test results on first differenced series\n",
        "test_stat = {}\n",
        "variables = {\"CONS\", \"INC\"}\n",
        "\n",
        "for variable in variables:\n",
        "    if variable == \"CONS\":\n",
        "        x_T = data[[\"CONS\"]].diff().dropna()\n",
        "    elif variable == \"INC\":\n",
        "        x_T = data[[\"INC\"]].diff().dropna()\n",
        "\n",
        "    results = adfuller(x_T, maxlag = 12, regression=\"ct\", autolag=\"BIC\")\n",
        "    test_stat[variable] = results[0]\n",
        "\n",
        "df = pd.DataFrame(test_stat.items(), columns=['Time Series', 'DF Test Statistic'])\n"
      ],
      "metadata": {
        "id": "nCCnF3mdZ6ZJ"
      },
      "execution_count": null,
      "outputs": []
    },
    {
      "cell_type": "code",
      "source": [
        "#Export as Latex code\n",
        "with open(path+\"/Tables/part4.4_ADF2.tex\", 'w') as f:\n",
        "    f.write(df.to_latex(index=False))"
      ],
      "metadata": {
        "id": "-wzAQMQjjNaA"
      },
      "execution_count": null,
      "outputs": []
    },
    {
      "cell_type": "code",
      "source": [
        "#Print ADF test results differenced consumption series\n",
        "results = adfuller(data[[\"CONS\"]].diff().dropna(), maxlag = 12, regression=\"ct\", autolag=\"BIC\")\n",
        "results"
      ],
      "metadata": {
        "colab": {
          "base_uri": "https://localhost:8080/"
        },
        "id": "W9DvSad9kko3",
        "outputId": "7d18418b-39b1-48d9-e2bd-eb8880a9ae6e"
      },
      "execution_count": null,
      "outputs": [
        {
          "output_type": "execute_result",
          "data": {
            "text/plain": [
              "(-2.7697644202834995,\n",
              " 0.2082711313711682,\n",
              " 2,\n",
              " 93,\n",
              " {'1%': -4.059568800656923,\n",
              "  '5%': -3.4587997574833063,\n",
              "  '10%': -3.1553337836930617},\n",
              " 1215.035821501686)"
            ]
          },
          "metadata": {},
          "execution_count": 23
        }
      ]
    },
    {
      "cell_type": "code",
      "source": [
        "#Print ADF test results differenced income series\n",
        "results = adfuller(data[[\"INC\"]].diff().dropna(), maxlag = 12, regression=\"ct\", autolag=\"BIC\")\n",
        "results"
      ],
      "metadata": {
        "colab": {
          "base_uri": "https://localhost:8080/"
        },
        "id": "MUXRgE4NjQ8a",
        "outputId": "e4b3add5-f167-45bd-cec7-499a9b105f83"
      },
      "execution_count": null,
      "outputs": [
        {
          "output_type": "execute_result",
          "data": {
            "text/plain": [
              "(-5.640105281816051,\n",
              " 1.2104862606710897e-05,\n",
              " 0,\n",
              " 95,\n",
              " {'1%': -4.057372178160081,\n",
              "  '5%': -3.4577588776789616,\n",
              "  '10%': -3.154727848082811},\n",
              " 1312.0646391776593)"
            ]
          },
          "metadata": {},
          "execution_count": 22
        }
      ]
    },
    {
      "cell_type": "code",
      "source": [
        "#Take first difference of consumption series and adjust index\n",
        "differenced = data[[\"CONS\"]].diff().dropna()\n",
        "differenced.index = differenced.index - 1\n",
        "\n",
        "#Store original series\n",
        "original =data[[\"CONS\"]].iloc[:96]\n",
        "\n",
        "#Take second difference of consumption series and adjust index\n",
        "differenced2 = differenced.diff().dropna()\n",
        "differenced2.index = differenced2.index - 1\n",
        "\n",
        "#Take first difference original series and adjust index\n",
        "original2 =original.diff().dropna()\n",
        "original2.index = original2.index - 1"
      ],
      "metadata": {
        "id": "r305jDbonR5k"
      },
      "execution_count": null,
      "outputs": []
    },
    {
      "cell_type": "markdown",
      "source": [
        "ADL Consumption\n"
      ],
      "metadata": {
        "id": "zaiZLo-9oow-"
      }
    },
    {
      "cell_type": "code",
      "source": [
        "#G2S: Set up ADL(12,0)\n",
        "adl_CONS2 = ARDL(endog=differenced2, lags=12, exog=original2, order=[0], trend='ct')\n",
        "adl_CONS2_result = adl_CONS2.fit()\n",
        "print(adl_CONS2_result.summary())"
      ],
      "metadata": {
        "colab": {
          "base_uri": "https://localhost:8080/"
        },
        "id": "Kb6zqj_vpoY6",
        "outputId": "1bf857e1-e9f9-42bd-c7f3-49bf9cc2183d"
      },
      "execution_count": null,
      "outputs": [
        {
          "output_type": "stream",
          "name": "stdout",
          "text": [
            "                              ARDL Model Results                              \n",
            "==============================================================================\n",
            "Dep. Variable:                   CONS   No. Observations:                   95\n",
            "Model:                    ARDL(12, 0)   Log Likelihood                -592.050\n",
            "Method:               Conditional MLE   S.D. of innovations            303.139\n",
            "Date:                Thu, 11 Apr 2024   AIC                           1216.099\n",
            "Time:                        19:33:25   BIC                           1254.801\n",
            "Sample:                            12   HQIC                          1231.647\n",
            "                                   95                                         \n",
            "==============================================================================\n",
            "                 coef    std err          z      P>|z|      [0.025      0.975]\n",
            "------------------------------------------------------------------------------\n",
            "const        286.4447    142.695      2.007      0.049       1.701     571.189\n",
            "trend         -2.1379      1.616     -1.323      0.190      -5.363       1.087\n",
            "CONS.L1       -0.5330      0.243     -2.190      0.032      -1.019      -0.047\n",
            "CONS.L2       -0.3877      0.248     -1.566      0.122      -0.882       0.106\n",
            "CONS.L3       -0.0485      0.249     -0.195      0.846      -0.544       0.447\n",
            "CONS.L4        0.1088      0.245      0.445      0.658      -0.379       0.597\n",
            "CONS.L5        0.1549      0.242      0.640      0.524      -0.328       0.638\n",
            "CONS.L6        0.2268      0.241      0.942      0.349      -0.254       0.707\n",
            "CONS.L7        0.3854      0.240      1.607      0.113      -0.093       0.864\n",
            "CONS.L8        0.3527      0.239      1.476      0.144      -0.124       0.829\n",
            "CONS.L9        0.3400      0.236      1.438      0.155      -0.132       0.812\n",
            "CONS.L10       0.3036      0.229      1.327      0.189      -0.153       0.760\n",
            "CONS.L11       0.0888      0.197      0.450      0.654      -0.305       0.483\n",
            "CONS.L12       0.0162      0.135      0.120      0.905      -0.254       0.286\n",
            "CONS.L0       -0.5126      0.241     -2.129      0.037      -0.993      -0.032\n",
            "==============================================================================\n"
          ]
        }
      ]
    },
    {
      "cell_type": "code",
      "source": [
        "adl_CONS2 = ARDL(endog=differenced2, lags=11, exog=original2, order=[0], trend='ct')\n",
        "adl_CONS2_result = adl_CONS2.fit()\n",
        "print(adl_CONS2_result.summary())"
      ],
      "metadata": {
        "colab": {
          "base_uri": "https://localhost:8080/"
        },
        "id": "QRefH-wMppcZ",
        "outputId": "c4fa8d14-5e88-4c84-e8d1-b87bb177adb8"
      },
      "execution_count": null,
      "outputs": [
        {
          "output_type": "stream",
          "name": "stdout",
          "text": [
            "                              ARDL Model Results                              \n",
            "==============================================================================\n",
            "Dep. Variable:                   CONS   No. Observations:                   95\n",
            "Model:                    ARDL(11, 0)   Log Likelihood                -600.313\n",
            "Method:               Conditional MLE   S.D. of innovations            307.246\n",
            "Date:                Thu, 11 Apr 2024   AIC                           1230.626\n",
            "Time:                        19:33:31   BIC                           1267.089\n",
            "Sample:                            11   HQIC                          1245.284\n",
            "                                   95                                         \n",
            "==============================================================================\n",
            "                 coef    std err          z      P>|z|      [0.025      0.975]\n",
            "------------------------------------------------------------------------------\n",
            "const        247.7423    138.116      1.794      0.077     -27.722     523.206\n",
            "trend         -1.6796      1.599     -1.050      0.297      -4.869       1.510\n",
            "CONS.L1       -0.5531      0.231     -2.392      0.019      -1.014      -0.092\n",
            "CONS.L2       -0.4104      0.242     -1.699      0.094      -0.892       0.071\n",
            "CONS.L3       -0.0549      0.245     -0.224      0.823      -0.543       0.434\n",
            "CONS.L4        0.0893      0.242      0.369      0.713      -0.393       0.572\n",
            "CONS.L5        0.1273      0.241      0.528      0.599      -0.353       0.608\n",
            "CONS.L6        0.2063      0.238      0.869      0.388      -0.267       0.680\n",
            "CONS.L7        0.3518      0.233      1.512      0.135      -0.112       0.816\n",
            "CONS.L8        0.3160      0.232      1.365      0.177      -0.146       0.778\n",
            "CONS.L9        0.3121      0.223      1.399      0.166      -0.133       0.757\n",
            "CONS.L10       0.2741      0.189      1.454      0.150      -0.102       0.650\n",
            "CONS.L11       0.0753      0.132      0.569      0.571      -0.189       0.339\n",
            "CONS.L0       -0.4943      0.226     -2.184      0.032      -0.946      -0.043\n",
            "==============================================================================\n"
          ]
        }
      ]
    },
    {
      "cell_type": "code",
      "source": [
        "adl_CONS2 = ARDL(endog=differenced2, lags=[1,2,4,5,6,7,8,9,10,11], exog=original2, order=[0], trend='ct')\n",
        "adl_CONS2_result = adl_CONS2.fit()\n",
        "print(adl_CONS2_result.summary())"
      ],
      "metadata": {
        "colab": {
          "base_uri": "https://localhost:8080/"
        },
        "id": "maPgx-enprD2",
        "outputId": "b9796318-3a78-4a20-ec59-22db060f0d12"
      },
      "execution_count": null,
      "outputs": [
        {
          "output_type": "stream",
          "name": "stdout",
          "text": [
            "                              ARDL Model Results                              \n",
            "==============================================================================\n",
            "Dep. Variable:                   CONS   No. Observations:                   95\n",
            "Model:                    ARDL(11, 0)   Log Likelihood                -600.343\n",
            "Method:               Conditional MLE   S.D. of innovations            307.356\n",
            "Date:                Thu, 11 Apr 2024   AIC                           1228.687\n",
            "Time:                        19:33:53   BIC                           1262.718\n",
            "Sample:                            11   HQIC                          1242.367\n",
            "                                   95                                         \n",
            "==============================================================================\n",
            "                 coef    std err          z      P>|z|      [0.025      0.975]\n",
            "------------------------------------------------------------------------------\n",
            "const        261.6047    122.667      2.133      0.036      17.013     506.196\n",
            "trend         -1.6943      1.587     -1.068      0.289      -4.859       1.470\n",
            "CONS.L1       -0.5146      0.154     -3.346      0.001      -0.821      -0.208\n",
            "CONS.L2       -0.3630      0.116     -3.142      0.002      -0.593      -0.133\n",
            "CONS.L4        0.1359      0.123      1.103      0.274      -0.110       0.381\n",
            "CONS.L5        0.1625      0.181      0.896      0.373      -0.199       0.524\n",
            "CONS.L6        0.2319      0.207      1.120      0.267      -0.181       0.645\n",
            "CONS.L7        0.3727      0.212      1.760      0.083      -0.050       0.795\n",
            "CONS.L8        0.3340      0.216      1.548      0.126      -0.096       0.764\n",
            "CONS.L9        0.3262      0.213      1.533      0.130      -0.098       0.750\n",
            "CONS.L10       0.2830      0.183      1.546      0.127      -0.082       0.648\n",
            "CONS.L11       0.0800      0.130      0.616      0.540      -0.179       0.339\n",
            "CONS.L0       -0.5268      0.172     -3.056      0.003      -0.871      -0.183\n",
            "==============================================================================\n"
          ]
        }
      ]
    },
    {
      "cell_type": "code",
      "source": [
        "adl_CONS2 = ARDL(endog=differenced2, lags=[1,2,4,5,6,7,8,9,10], exog=original2, order=[0], trend='ct')\n",
        "adl_CONS2_result = adl_CONS2.fit()\n",
        "print(adl_CONS2_result.summary())"
      ],
      "metadata": {
        "colab": {
          "base_uri": "https://localhost:8080/"
        },
        "id": "s5nOBO8vpwZF",
        "outputId": "05c6108f-80e3-496a-ecf9-6ab693ff0d32"
      },
      "execution_count": null,
      "outputs": [
        {
          "output_type": "stream",
          "name": "stdout",
          "text": [
            "                              ARDL Model Results                              \n",
            "==============================================================================\n",
            "Dep. Variable:                   CONS   No. Observations:                   95\n",
            "Model:                    ARDL(10, 0)   Log Likelihood                -607.223\n",
            "Method:               Conditional MLE   S.D. of innovations            306.389\n",
            "Date:                Thu, 11 Apr 2024   AIC                           1240.445\n",
            "Time:                        19:34:05   BIC                           1272.200\n",
            "Sample:                            10   HQIC                          1253.218\n",
            "                                   95                                         \n",
            "==============================================================================\n",
            "                 coef    std err          z      P>|z|      [0.025      0.975]\n",
            "------------------------------------------------------------------------------\n",
            "const        253.1225    118.479      2.136      0.036      16.994     489.251\n",
            "trend         -1.7297      1.546     -1.119      0.267      -4.810       1.351\n",
            "CONS.L1       -0.5286      0.150     -3.518      0.001      -0.828      -0.229\n",
            "CONS.L2       -0.3707      0.113     -3.266      0.002      -0.597      -0.145\n",
            "CONS.L4        0.1363      0.122      1.121      0.266      -0.106       0.379\n",
            "CONS.L5        0.1528      0.179      0.855      0.395      -0.203       0.509\n",
            "CONS.L6        0.2115      0.201      1.050      0.297      -0.190       0.613\n",
            "CONS.L7        0.3526      0.206      1.713      0.091      -0.058       0.763\n",
            "CONS.L8        0.2985      0.205      1.457      0.149      -0.110       0.707\n",
            "CONS.L9        0.2569      0.177      1.448      0.152      -0.097       0.611\n",
            "CONS.L10       0.2013      0.125      1.608      0.112      -0.048       0.451\n",
            "CONS.L0       -0.4979      0.164     -3.038      0.003      -0.825      -0.171\n",
            "==============================================================================\n"
          ]
        }
      ]
    },
    {
      "cell_type": "code",
      "source": [
        "adl_CONS2 = ARDL(endog=differenced2, lags=[1,2,4,6,7,8,9,10], exog=original2, order=[0], trend='ct')\n",
        "adl_CONS2_result = adl_CONS2.fit()\n",
        "print(adl_CONS2_result.summary())"
      ],
      "metadata": {
        "colab": {
          "base_uri": "https://localhost:8080/"
        },
        "id": "6qOcvgk4pzVU",
        "outputId": "0754a78b-3460-4206-b384-b158323ba769"
      },
      "execution_count": null,
      "outputs": [
        {
          "output_type": "stream",
          "name": "stdout",
          "text": [
            "                              ARDL Model Results                              \n",
            "==============================================================================\n",
            "Dep. Variable:                   CONS   No. Observations:                   95\n",
            "Model:                    ARDL(10, 0)   Log Likelihood                -607.646\n",
            "Method:               Conditional MLE   S.D. of innovations            307.921\n",
            "Date:                Thu, 11 Apr 2024   AIC                           1239.293\n",
            "Time:                        19:34:18   BIC                           1268.605\n",
            "Sample:                            10   HQIC                          1251.083\n",
            "                                   95                                         \n",
            "==============================================================================\n",
            "                 coef    std err          z      P>|z|      [0.025      0.975]\n",
            "------------------------------------------------------------------------------\n",
            "const        241.8712    117.533      2.058      0.043       7.681     476.061\n",
            "trend         -1.7271      1.543     -1.119      0.267      -4.802       1.347\n",
            "CONS.L1       -0.5331      0.150     -3.557      0.001      -0.832      -0.234\n",
            "CONS.L2       -0.3557      0.112     -3.178      0.002      -0.579      -0.133\n",
            "CONS.L4        0.0603      0.083      0.728      0.469      -0.105       0.225\n",
            "CONS.L6        0.0775      0.126      0.614      0.541      -0.174       0.329\n",
            "CONS.L7        0.2644      0.178      1.487      0.141      -0.090       0.619\n",
            "CONS.L8        0.2537      0.198      1.283      0.203      -0.140       0.648\n",
            "CONS.L9        0.2291      0.174      1.316      0.192      -0.118       0.576\n",
            "CONS.L10       0.1835      0.123      1.490      0.141      -0.062       0.429\n",
            "CONS.L0       -0.4701      0.160     -2.932      0.004      -0.790      -0.151\n",
            "==============================================================================\n"
          ]
        }
      ]
    },
    {
      "cell_type": "code",
      "source": [
        "adl_CONS2 = ARDL(endog=differenced2, lags=[1,2,4,7,8,9,10], exog=original2, order=[0], trend='ct')\n",
        "adl_CONS2_result = adl_CONS2.fit()\n",
        "print(adl_CONS2_result.summary())"
      ],
      "metadata": {
        "colab": {
          "base_uri": "https://localhost:8080/"
        },
        "id": "IBRPeV0np2nb",
        "outputId": "afac5d50-9b0c-491f-ccf8-82c6b4d9bcff"
      },
      "execution_count": null,
      "outputs": [
        {
          "output_type": "stream",
          "name": "stdout",
          "text": [
            "                              ARDL Model Results                              \n",
            "==============================================================================\n",
            "Dep. Variable:                   CONS   No. Observations:                   95\n",
            "Model:                    ARDL(10, 0)   Log Likelihood                -607.862\n",
            "Method:               Conditional MLE   S.D. of innovations            308.704\n",
            "Date:                Thu, 11 Apr 2024   AIC                           1237.725\n",
            "Time:                        19:34:27   BIC                           1264.594\n",
            "Sample:                            10   HQIC                          1248.532\n",
            "                                   95                                         \n",
            "==============================================================================\n",
            "                 coef    std err          z      P>|z|      [0.025      0.975]\n",
            "------------------------------------------------------------------------------\n",
            "const        234.6356    116.454      2.015      0.048       2.648     466.623\n",
            "trend         -1.7339      1.537     -1.128      0.263      -4.795       1.327\n",
            "CONS.L1       -0.5563      0.144     -3.852      0.000      -0.844      -0.269\n",
            "CONS.L2       -0.3750      0.107     -3.506      0.001      -0.588      -0.162\n",
            "CONS.L4        0.0671      0.082      0.821      0.414      -0.096       0.230\n",
            "CONS.L7        0.1862      0.124      1.507      0.136      -0.060       0.432\n",
            "CONS.L8        0.1933      0.171      1.132      0.261      -0.147       0.533\n",
            "CONS.L9        0.2097      0.171      1.230      0.223      -0.130       0.549\n",
            "CONS.L10       0.1814      0.123      1.479      0.143      -0.063       0.426\n",
            "CONS.L0       -0.4508      0.157     -2.879      0.005      -0.763      -0.139\n",
            "==============================================================================\n"
          ]
        }
      ]
    },
    {
      "cell_type": "code",
      "source": [
        "adl_CONS2 = ARDL(endog=differenced2, lags=[1,2,7,8,9,10], exog=original2, order=[0], trend='ct')\n",
        "adl_CONS2_result = adl_CONS2.fit()\n",
        "print(adl_CONS2_result.summary())"
      ],
      "metadata": {
        "colab": {
          "base_uri": "https://localhost:8080/"
        },
        "id": "HuCtHxvbp4hv",
        "outputId": "ebe38f1b-5b63-45a7-efd0-4b456e6c2a2e"
      },
      "execution_count": null,
      "outputs": [
        {
          "output_type": "stream",
          "name": "stdout",
          "text": [
            "                              ARDL Model Results                              \n",
            "==============================================================================\n",
            "Dep. Variable:                   CONS   No. Observations:                   95\n",
            "Model:                    ARDL(10, 0)   Log Likelihood                -608.243\n",
            "Method:               Conditional MLE   S.D. of innovations            310.088\n",
            "Date:                Thu, 11 Apr 2024   AIC                           1236.485\n",
            "Time:                        19:34:39   BIC                           1260.912\n",
            "Sample:                            10   HQIC                          1246.310\n",
            "                                   95                                         \n",
            "==============================================================================\n",
            "                 coef    std err          z      P>|z|      [0.025      0.975]\n",
            "------------------------------------------------------------------------------\n",
            "const        237.5828    116.148      2.046      0.044       6.253     468.913\n",
            "trend         -1.7951      1.531     -1.172      0.245      -4.845       1.255\n",
            "CONS.L1       -0.5388      0.143     -3.780      0.000      -0.823      -0.255\n",
            "CONS.L2       -0.3673      0.106     -3.455      0.001      -0.579      -0.156\n",
            "CONS.L7        0.2036      0.121      1.677      0.098      -0.038       0.445\n",
            "CONS.L8        0.1911      0.170      1.121      0.266      -0.148       0.530\n",
            "CONS.L9        0.2016      0.170      1.187      0.239      -0.137       0.540\n",
            "CONS.L10       0.1796      0.122      1.468      0.146      -0.064       0.423\n",
            "CONS.L0       -0.4516      0.156     -2.891      0.005      -0.763      -0.140\n",
            "==============================================================================\n"
          ]
        }
      ]
    },
    {
      "cell_type": "code",
      "source": [
        "adl_CONS2 = ARDL(endog=differenced2, lags=[1,2,7,9,10], exog=original2, order=[0], trend='ct')\n",
        "adl_CONS2_result = adl_CONS2.fit()\n",
        "print(adl_CONS2_result.summary())"
      ],
      "metadata": {
        "colab": {
          "base_uri": "https://localhost:8080/"
        },
        "id": "5kLO5VZPp7gm",
        "outputId": "76823eef-1e90-4b4c-b2f4-5fca8ecd65b7"
      },
      "execution_count": null,
      "outputs": [
        {
          "output_type": "stream",
          "name": "stdout",
          "text": [
            "                              ARDL Model Results                              \n",
            "==============================================================================\n",
            "Dep. Variable:                   CONS   No. Observations:                   95\n",
            "Model:                    ARDL(10, 0)   Log Likelihood                -608.940\n",
            "Method:               Conditional MLE   S.D. of innovations            312.644\n",
            "Date:                Thu, 11 Apr 2024   AIC                           1235.880\n",
            "Time:                        19:34:49   BIC                           1257.864\n",
            "Sample:                            10   HQIC                          1244.723\n",
            "                                   95                                         \n",
            "==============================================================================\n",
            "                 coef    std err          z      P>|z|      [0.025      0.975]\n",
            "------------------------------------------------------------------------------\n",
            "const        224.6529    115.768      1.941      0.056      -5.871     455.177\n",
            "trend         -1.8248      1.534     -1.190      0.238      -4.879       1.229\n",
            "CONS.L1       -0.5513      0.142     -3.873      0.000      -0.835      -0.268\n",
            "CONS.L2       -0.3665      0.106     -3.442      0.001      -0.579      -0.154\n",
            "CONS.L7        0.1061      0.085      1.250      0.215      -0.063       0.275\n",
            "CONS.L9        0.0454      0.097      0.466      0.643      -0.149       0.239\n",
            "CONS.L10       0.1022      0.101      1.010      0.316      -0.099       0.304\n",
            "CONS.L0       -0.4132      0.153     -2.706      0.008      -0.717      -0.109\n",
            "==============================================================================\n"
          ]
        }
      ]
    },
    {
      "cell_type": "code",
      "source": [
        "adl_CONS2 = ARDL(endog=differenced2, lags=[1,2,7,10], exog=original2, order=[0], trend='ct')\n",
        "adl_CONS2_result = adl_CONS2.fit()\n",
        "print(adl_CONS2_result.summary())"
      ],
      "metadata": {
        "colab": {
          "base_uri": "https://localhost:8080/"
        },
        "id": "T7yVaPJ5p-BL",
        "outputId": "5da78ebc-6417-44af-d2bd-babd22346d0a"
      },
      "execution_count": null,
      "outputs": [
        {
          "output_type": "stream",
          "name": "stdout",
          "text": [
            "                              ARDL Model Results                              \n",
            "==============================================================================\n",
            "Dep. Variable:                   CONS   No. Observations:                   95\n",
            "Model:                    ARDL(10, 0)   Log Likelihood                -609.060\n",
            "Method:               Conditional MLE   S.D. of innovations            313.083\n",
            "Date:                Thu, 11 Apr 2024   AIC                           1234.119\n",
            "Time:                        19:34:58   BIC                           1253.661\n",
            "Sample:                            10   HQIC                          1241.979\n",
            "                                   95                                         \n",
            "==============================================================================\n",
            "                 coef    std err          z      P>|z|      [0.025      0.975]\n",
            "------------------------------------------------------------------------------\n",
            "const        222.1851    115.065      1.931      0.057      -6.891     451.261\n",
            "trend         -1.8261      1.526     -1.197      0.235      -4.864       1.212\n",
            "CONS.L1       -0.5656      0.138     -4.092      0.000      -0.841      -0.290\n",
            "CONS.L2       -0.3737      0.105     -3.566      0.001      -0.582      -0.165\n",
            "CONS.L7        0.1080      0.084      1.281      0.204      -0.060       0.276\n",
            "CONS.L10       0.0770      0.085      0.905      0.368      -0.092       0.246\n",
            "CONS.L0       -0.4064      0.151     -2.687      0.009      -0.707      -0.105\n",
            "==============================================================================\n"
          ]
        }
      ]
    },
    {
      "cell_type": "code",
      "source": [
        "adl_CONS2 = ARDL(endog=differenced2, lags=[1,2,7], exog=original2, order=[0], trend='ct')\n",
        "adl_CONS2_result = adl_CONS2.fit()\n",
        "print(adl_CONS2_result.summary())"
      ],
      "metadata": {
        "colab": {
          "base_uri": "https://localhost:8080/"
        },
        "id": "U5SMpy2IqARC",
        "outputId": "48a664d8-7d5e-4689-a471-c9f8046f7745"
      },
      "execution_count": null,
      "outputs": [
        {
          "output_type": "stream",
          "name": "stdout",
          "text": [
            "                              ARDL Model Results                              \n",
            "==============================================================================\n",
            "Dep. Variable:                   CONS   No. Observations:                   95\n",
            "Model:                     ARDL(7, 0)   Log Likelihood                -630.112\n",
            "Method:               Conditional MLE   S.D. of innovations            311.508\n",
            "Date:                Thu, 11 Apr 2024   AIC                           1274.224\n",
            "Time:                        19:35:05   BIC                           1291.565\n",
            "Sample:                             7   HQIC                          1281.210\n",
            "                                   95                                         \n",
            "==============================================================================\n",
            "                 coef    std err          z      P>|z|      [0.025      0.975]\n",
            "------------------------------------------------------------------------------\n",
            "const        224.9050    109.476      2.054      0.043       7.123     442.687\n",
            "trend         -1.8859      1.438     -1.312      0.193      -4.746       0.974\n",
            "CONS.L1       -0.5768      0.135     -4.260      0.000      -0.846      -0.307\n",
            "CONS.L2       -0.4003      0.102     -3.942      0.000      -0.602      -0.198\n",
            "CONS.L7        0.1255      0.079      1.582      0.117      -0.032       0.283\n",
            "CONS.L0       -0.4038      0.149     -2.707      0.008      -0.701      -0.107\n",
            "==============================================================================\n"
          ]
        }
      ]
    },
    {
      "cell_type": "code",
      "source": [
        "adl_CONS2 = ARDL(endog=differenced2, lags=[1,2], exog=original2, order=[0], trend='ct')\n",
        "adl_CONS2_result = adl_CONS2.fit()\n",
        "print(adl_CONS2_result.summary())"
      ],
      "metadata": {
        "colab": {
          "base_uri": "https://localhost:8080/"
        },
        "id": "-p_8nFnKqCOT",
        "outputId": "fd24ae54-343c-4478-c643-7716b20a7134"
      },
      "execution_count": null,
      "outputs": [
        {
          "output_type": "stream",
          "name": "stdout",
          "text": [
            "                              ARDL Model Results                              \n",
            "==============================================================================\n",
            "Dep. Variable:                   CONS   No. Observations:                   95\n",
            "Model:                     ARDL(2, 0)   Log Likelihood                -665.378\n",
            "Method:               Conditional MLE   S.D. of innovations            309.719\n",
            "Date:                Thu, 11 Apr 2024   AIC                           1342.757\n",
            "Time:                        22:02:13   BIC                           1357.952\n",
            "Sample:                             2   HQIC                          1348.892\n",
            "                                   95                                         \n",
            "==============================================================================\n",
            "                 coef    std err          z      P>|z|      [0.025      0.975]\n",
            "------------------------------------------------------------------------------\n",
            "const        223.3336     98.850      2.259      0.026      26.889     419.778\n",
            "trend         -1.8787      1.296     -1.450      0.151      -4.454       0.696\n",
            "CONS.L1       -0.5790      0.132     -4.376      0.000      -0.842      -0.316\n",
            "CONS.L2       -0.4236      0.099     -4.280      0.000      -0.620      -0.227\n",
            "CONS.L0       -0.4038      0.146     -2.770      0.007      -0.694      -0.114\n",
            "==============================================================================\n"
          ]
        }
      ]
    },
    {
      "cell_type": "code",
      "source": [
        "#Export the results for AR on Latex\n",
        "res_ar = summary_col([adl_CONS2_result],stars=True,float_format='%0.2f')\n",
        "f = open('/content/drive/MyDrive/EtricsIII_Ass2/Tables/DoubleDiffCons4.4.tex', 'w')\n",
        "f.write(res_ar.as_latex())\n",
        "f.close()"
      ],
      "metadata": {
        "id": "xhItGlRvqO1d"
      },
      "execution_count": null,
      "outputs": []
    },
    {
      "cell_type": "code",
      "source": [
        "#Take first difference original series and adjust index\n",
        "differenced = data[[\"INC\"]].diff().dropna()\n",
        "differenced.index = differenced.index - 1\n",
        "\n",
        "#Store original series\n",
        "original =data[[\"INC\"]].iloc[:96]\n",
        "\n",
        "#Take second difference original series and adjust index\n",
        "differenced2 = differenced.diff().dropna()\n",
        "differenced2.index = differenced2.index - 1\n",
        "\n",
        "#Take first difference original series and adjust index\n",
        "original2 =original.diff().dropna()\n",
        "original2.index = original2.index - 1\n",
        "\n",
        "#G2S: Set up ADL(12,0)\n",
        "adl_INC2 = ARDL(endog=differenced2, lags=12, exog=original2, order=[0], trend='ct')\n",
        "adl_INC2_result = adl_INC2.fit()\n",
        "print(adl_INC2_result.summary())"
      ],
      "metadata": {
        "colab": {
          "base_uri": "https://localhost:8080/"
        },
        "id": "zGM5z6E-qcxS",
        "outputId": "9f2a5a23-80b6-457f-9c3c-0cc26762b1b1"
      },
      "execution_count": null,
      "outputs": [
        {
          "output_type": "stream",
          "name": "stdout",
          "text": [
            "                              ARDL Model Results                              \n",
            "==============================================================================\n",
            "Dep. Variable:                    INC   No. Observations:                   95\n",
            "Model:                    ARDL(12, 0)   Log Likelihood                -641.863\n",
            "Method:               Conditional MLE   S.D. of innovations            552.445\n",
            "Date:                Thu, 11 Apr 2024   AIC                           1315.727\n",
            "Time:                        22:02:17   BIC                           1354.428\n",
            "Sample:                            12   HQIC                          1331.275\n",
            "                                   95                                         \n",
            "==============================================================================\n",
            "                 coef    std err          z      P>|z|      [0.025      0.975]\n",
            "------------------------------------------------------------------------------\n",
            "const        476.7760    250.839      1.901      0.062     -23.766     977.318\n",
            "trend         -3.1921      2.990     -1.068      0.289      -9.159       2.775\n",
            "INC.L1         0.1678      0.237      0.707      0.482      -0.306       0.641\n",
            "INC.L2         0.0865      0.232      0.372      0.711      -0.377       0.550\n",
            "INC.L3         0.2522      0.218      1.158      0.251      -0.182       0.687\n",
            "INC.L4         0.1321      0.215      0.615      0.541      -0.297       0.561\n",
            "INC.L5         0.1147      0.193      0.593      0.555      -0.271       0.501\n",
            "INC.L6         0.1334      0.190      0.702      0.485      -0.246       0.513\n",
            "INC.L7         0.0472      0.179      0.263      0.793      -0.311       0.405\n",
            "INC.L8        -0.1290      0.165     -0.781      0.437      -0.459       0.201\n",
            "INC.L9         0.1516      0.158      0.961      0.340      -0.163       0.466\n",
            "INC.L10        0.0448      0.156      0.287      0.775      -0.266       0.356\n",
            "INC.L11        0.2558      0.163      1.569      0.121      -0.070       0.581\n",
            "INC.L12       -0.1194      0.153     -0.780      0.438      -0.425       0.186\n",
            "INC.L0        -0.5923      0.248     -2.389      0.020      -1.087      -0.098\n",
            "==============================================================================\n"
          ]
        }
      ]
    },
    {
      "cell_type": "code",
      "source": [
        "adl_INC2 = ARDL(endog=differenced2, lags=[1,2,3,4,5,6,8,9,10,11,12], exog=original2, order=[0], trend='ct')\n",
        "adl_INC2_result = adl_INC2.fit()\n",
        "print(adl_INC2_result.summary())"
      ],
      "metadata": {
        "colab": {
          "base_uri": "https://localhost:8080/"
        },
        "id": "2p1gnHFoqggA",
        "outputId": "c0c4896b-17ec-4295-a26f-c584f25b2e50"
      },
      "execution_count": null,
      "outputs": [
        {
          "output_type": "stream",
          "name": "stdout",
          "text": [
            "                              ARDL Model Results                              \n",
            "==============================================================================\n",
            "Dep. Variable:                    INC   No. Observations:                   95\n",
            "Model:                    ARDL(12, 0)   Log Likelihood                -641.905\n",
            "Method:               Conditional MLE   S.D. of innovations            552.726\n",
            "Date:                Thu, 11 Apr 2024   AIC                           1313.811\n",
            "Time:                        19:38:33   BIC                           1350.094\n",
            "Sample:                            12   HQIC                          1328.387\n",
            "                                   95                                         \n",
            "==============================================================================\n",
            "                 coef    std err          z      P>|z|      [0.025      0.975]\n",
            "------------------------------------------------------------------------------\n",
            "const        442.6892    213.310      2.075      0.042      17.147     868.232\n",
            "trend         -3.0502      2.921     -1.044      0.300      -8.878       2.777\n",
            "INC.L1         0.1261      0.176      0.718      0.475      -0.224       0.476\n",
            "INC.L2         0.0438      0.165      0.266      0.791      -0.285       0.373\n",
            "INC.L3         0.2128      0.157      1.355      0.180      -0.101       0.526\n",
            "INC.L4         0.0925      0.152      0.607      0.546      -0.211       0.396\n",
            "INC.L5         0.0779      0.132      0.589      0.558      -0.186       0.342\n",
            "INC.L6         0.0949      0.120      0.789      0.433      -0.145       0.335\n",
            "INC.L8        -0.1610      0.111     -1.448      0.152      -0.383       0.061\n",
            "INC.L9         0.1248      0.120      1.043      0.301      -0.114       0.364\n",
            "INC.L10        0.0215      0.127      0.169      0.866      -0.233       0.276\n",
            "INC.L11        0.2335      0.138      1.690      0.096      -0.042       0.509\n",
            "INC.L12       -0.1388      0.133     -1.042      0.301      -0.405       0.127\n",
            "INC.L0        -0.5466      0.176     -3.112      0.003      -0.897      -0.196\n",
            "==============================================================================\n"
          ]
        }
      ]
    },
    {
      "cell_type": "code",
      "source": [
        "adl_INC2 = ARDL(endog=differenced2, lags=[1,2,3,4,5,6,8,9,11,12], exog=original2, order=[0], trend='ct')\n",
        "adl_INC2_result = adl_INC2.fit()\n",
        "print(adl_INC2_result.summary())"
      ],
      "metadata": {
        "colab": {
          "base_uri": "https://localhost:8080/"
        },
        "id": "wf0vyuE6qoU9",
        "outputId": "8aef9807-198c-4dce-f32e-2bb231af493c"
      },
      "execution_count": null,
      "outputs": [
        {
          "output_type": "stream",
          "name": "stdout",
          "text": [
            "                              ARDL Model Results                              \n",
            "==============================================================================\n",
            "Dep. Variable:                    INC   No. Observations:                   95\n",
            "Model:                    ARDL(12, 0)   Log Likelihood                -641.923\n",
            "Method:               Conditional MLE   S.D. of innovations            552.840\n",
            "Date:                Thu, 11 Apr 2024   AIC                           1311.845\n",
            "Time:                        19:38:42   BIC                           1345.709\n",
            "Sample:                            12   HQIC                          1325.450\n",
            "                                   95                                         \n",
            "==============================================================================\n",
            "                 coef    std err          z      P>|z|      [0.025      0.975]\n",
            "------------------------------------------------------------------------------\n",
            "const        438.3762    210.301      2.085      0.041      18.945     857.808\n",
            "trend         -3.0508      2.901     -1.052      0.297      -8.836       2.735\n",
            "INC.L1         0.1213      0.172      0.705      0.483      -0.222       0.464\n",
            "INC.L2         0.0345      0.154      0.224      0.824      -0.273       0.342\n",
            "INC.L3         0.2053      0.150      1.372      0.174      -0.093       0.504\n",
            "INC.L4         0.0846      0.144      0.588      0.559      -0.202       0.372\n",
            "INC.L5         0.0720      0.127      0.568      0.572      -0.181       0.325\n",
            "INC.L6         0.0895      0.115      0.777      0.440      -0.140       0.319\n",
            "INC.L8        -0.1675      0.103     -1.619      0.110      -0.374       0.039\n",
            "INC.L9         0.1157      0.106      1.091      0.279      -0.096       0.327\n",
            "INC.L11        0.2222      0.120      1.847      0.069      -0.018       0.462\n",
            "INC.L12       -0.1472      0.123     -1.199      0.235      -0.392       0.098\n",
            "INC.L0        -0.5399      0.170     -3.177      0.002      -0.879      -0.201\n",
            "==============================================================================\n"
          ]
        }
      ]
    },
    {
      "cell_type": "code",
      "source": [
        "adl_INC2 = ARDL(endog=differenced2, lags=[1,3,4,5,6,8,9,11,12], exog=original2, order=[0], trend='ct')\n",
        "adl_INC2_result = adl_INC2.fit()\n",
        "print(adl_INC2_result.summary())"
      ],
      "metadata": {
        "colab": {
          "base_uri": "https://localhost:8080/"
        },
        "id": "uCfKqYzKq293",
        "outputId": "338662b2-09d7-4f74-fd1b-48a22f30200f"
      },
      "execution_count": null,
      "outputs": [
        {
          "output_type": "stream",
          "name": "stdout",
          "text": [
            "                              ARDL Model Results                              \n",
            "==============================================================================\n",
            "Dep. Variable:                    INC   No. Observations:                   95\n",
            "Model:                    ARDL(12, 0)   Log Likelihood                -641.952\n",
            "Method:               Conditional MLE   S.D. of innovations            553.037\n",
            "Date:                Thu, 11 Apr 2024   AIC                           1309.904\n",
            "Time:                        19:38:59   BIC                           1341.349\n",
            "Sample:                            12   HQIC                          1322.537\n",
            "                                   95                                         \n",
            "==============================================================================\n",
            "                 coef    std err          z      P>|z|      [0.025      0.975]\n",
            "------------------------------------------------------------------------------\n",
            "const        418.0436    188.355      2.219      0.030      42.474     793.613\n",
            "trend         -2.9475      2.844     -1.036      0.304      -8.619       2.724\n",
            "INC.L1         0.0942      0.121      0.776      0.440      -0.148       0.336\n",
            "INC.L3         0.1835      0.113      1.627      0.108      -0.041       0.408\n",
            "INC.L4         0.0659      0.116      0.566      0.573      -0.166       0.298\n",
            "INC.L5         0.0597      0.113      0.526      0.600      -0.166       0.286\n",
            "INC.L6         0.0805      0.107      0.751      0.455      -0.133       0.294\n",
            "INC.L8        -0.1715      0.101     -1.693      0.095      -0.373       0.030\n",
            "INC.L9         0.1124      0.104      1.078      0.285      -0.095       0.320\n",
            "INC.L11        0.2229      0.119      1.865      0.066      -0.015       0.461\n",
            "INC.L12       -0.1480      0.122     -1.214      0.229      -0.391       0.095\n",
            "INC.L0        -0.5130      0.119     -4.306      0.000      -0.751      -0.275\n",
            "==============================================================================\n"
          ]
        }
      ]
    },
    {
      "cell_type": "code",
      "source": [
        "adl_INC2 = ARDL(endog=differenced2, lags=[1,3,4,6,8,9,11,12], exog=original2, order=[0], trend='ct')\n",
        "adl_INC2_result = adl_INC2.fit()\n",
        "print(adl_INC2_result.summary())"
      ],
      "metadata": {
        "colab": {
          "base_uri": "https://localhost:8080/"
        },
        "id": "1TBFgxuuq7HA",
        "outputId": "b57cf067-474c-4819-ab85-c85040c04c31"
      },
      "execution_count": null,
      "outputs": [
        {
          "output_type": "stream",
          "name": "stdout",
          "text": [
            "                              ARDL Model Results                              \n",
            "==============================================================================\n",
            "Dep. Variable:                    INC   No. Observations:                   95\n",
            "Model:                    ARDL(12, 0)   Log Likelihood                -642.114\n",
            "Method:               Conditional MLE   S.D. of innovations            554.116\n",
            "Date:                Thu, 11 Apr 2024   AIC                           1308.228\n",
            "Time:                        19:39:12   BIC                           1337.254\n",
            "Sample:                            12   HQIC                          1319.889\n",
            "                                   95                                         \n",
            "==============================================================================\n",
            "                 coef    std err          z      P>|z|      [0.025      0.975]\n",
            "------------------------------------------------------------------------------\n",
            "const        401.4176    184.754      2.173      0.033      33.118     769.718\n",
            "trend         -2.8261      2.821     -1.002      0.320      -8.449       2.797\n",
            "INC.L1         0.0779      0.117      0.667      0.507      -0.155       0.311\n",
            "INC.L3         0.1629      0.105      1.548      0.126      -0.047       0.373\n",
            "INC.L4         0.0376      0.103      0.366      0.715      -0.167       0.242\n",
            "INC.L6         0.0579      0.098      0.593      0.555      -0.137       0.253\n",
            "INC.L8        -0.1757      0.100     -1.749      0.085      -0.376       0.025\n",
            "INC.L9         0.1079      0.103      1.043      0.300      -0.098       0.314\n",
            "INC.L11        0.2180      0.119      1.839      0.070      -0.018       0.454\n",
            "INC.L12       -0.1479      0.121     -1.219      0.227      -0.390       0.094\n",
            "INC.L0        -0.4943      0.113     -4.368      0.000      -0.720      -0.269\n",
            "==============================================================================\n"
          ]
        }
      ]
    },
    {
      "cell_type": "code",
      "source": [
        "adl_INC2 = ARDL(endog=differenced2, lags=[1,3,6,8,9,11,12], exog=original2, order=[0], trend='ct')\n",
        "adl_INC2_result = adl_INC2.fit()\n",
        "print(adl_INC2_result.summary())"
      ],
      "metadata": {
        "colab": {
          "base_uri": "https://localhost:8080/"
        },
        "id": "REqfTSILq-iF",
        "outputId": "28250559-ecf3-444b-8617-5b9fba726454"
      },
      "execution_count": null,
      "outputs": [
        {
          "output_type": "stream",
          "name": "stdout",
          "text": [
            "                              ARDL Model Results                              \n",
            "==============================================================================\n",
            "Dep. Variable:                    INC   No. Observations:                   95\n",
            "Model:                    ARDL(12, 0)   Log Likelihood                -642.191\n",
            "Method:               Conditional MLE   S.D. of innovations            554.631\n",
            "Date:                Thu, 11 Apr 2024   AIC                           1306.382\n",
            "Time:                        19:39:25   BIC                           1332.989\n",
            "Sample:                            12   HQIC                          1317.071\n",
            "                                   95                                         \n",
            "==============================================================================\n",
            "                 coef    std err          z      P>|z|      [0.025      0.975]\n",
            "------------------------------------------------------------------------------\n",
            "const        395.1719    182.870      2.161      0.034      30.712     759.632\n",
            "trend         -2.8112      2.804     -1.003      0.319      -8.399       2.777\n",
            "INC.L1         0.0737      0.116      0.637      0.526      -0.157       0.304\n",
            "INC.L3         0.1518      0.100      1.516      0.134      -0.048       0.351\n",
            "INC.L6         0.0518      0.096      0.542      0.590      -0.139       0.243\n",
            "INC.L8        -0.1805      0.099     -1.822      0.072      -0.378       0.017\n",
            "INC.L9         0.1047      0.102      1.023      0.310      -0.099       0.309\n",
            "INC.L11        0.2102      0.116      1.814      0.074      -0.021       0.441\n",
            "INC.L12       -0.1577      0.118     -1.340      0.184      -0.392       0.077\n",
            "INC.L0        -0.4852      0.110     -4.421      0.000      -0.704      -0.267\n",
            "==============================================================================\n"
          ]
        }
      ]
    },
    {
      "cell_type": "code",
      "source": [
        "adl_INC2 = ARDL(endog=differenced2, lags=[1,3,8,9,11,12], exog=original2, order=[0], trend='ct')\n",
        "adl_INC2_result = adl_INC2.fit()\n",
        "print(adl_INC2_result.summary())"
      ],
      "metadata": {
        "colab": {
          "base_uri": "https://localhost:8080/"
        },
        "id": "iObI0J-yrBtg",
        "outputId": "8ee1454a-fafe-4f18-fedd-9114b922ac67"
      },
      "execution_count": null,
      "outputs": [
        {
          "output_type": "stream",
          "name": "stdout",
          "text": [
            "                              ARDL Model Results                              \n",
            "==============================================================================\n",
            "Dep. Variable:                    INC   No. Observations:                   95\n",
            "Model:                    ARDL(12, 0)   Log Likelihood                -642.358\n",
            "Method:               Conditional MLE   S.D. of innovations            555.745\n",
            "Date:                Thu, 11 Apr 2024   AIC                           1304.715\n",
            "Time:                        19:39:38   BIC                           1328.903\n",
            "Sample:                            12   HQIC                          1314.433\n",
            "                                   95                                         \n",
            "==============================================================================\n",
            "                 coef    std err          z      P>|z|      [0.025      0.975]\n",
            "------------------------------------------------------------------------------\n",
            "const        392.3578    181.921      2.157      0.034      29.871     754.844\n",
            "trend         -2.8213      2.790     -1.011      0.315      -8.381       2.738\n",
            "INC.L1         0.0654      0.114      0.574      0.568      -0.162       0.293\n",
            "INC.L3         0.1518      0.100      1.523      0.132      -0.047       0.350\n",
            "INC.L8        -0.1885      0.097     -1.935      0.057      -0.383       0.006\n",
            "INC.L9         0.1042      0.102      1.023      0.310      -0.099       0.307\n",
            "INC.L11        0.2011      0.114      1.762      0.082      -0.026       0.428\n",
            "INC.L12       -0.1574      0.117     -1.345      0.183      -0.391       0.076\n",
            "INC.L0        -0.4799      0.109     -4.412      0.000      -0.697      -0.263\n",
            "==============================================================================\n"
          ]
        }
      ]
    },
    {
      "cell_type": "code",
      "source": [
        "adl_INC2 = ARDL(endog=differenced2, lags=[3,8,9,11,12], exog=original2, order=[0], trend='ct')\n",
        "adl_INC2_result = adl_INC2.fit()\n",
        "print(adl_INC2_result.summary())"
      ],
      "metadata": {
        "colab": {
          "base_uri": "https://localhost:8080/"
        },
        "id": "7-h4bYUbrEiG",
        "outputId": "b16b2c79-13b2-4768-fd82-3b1b3fb7e38c"
      },
      "execution_count": null,
      "outputs": [
        {
          "output_type": "stream",
          "name": "stdout",
          "text": [
            "                              ARDL Model Results                              \n",
            "==============================================================================\n",
            "Dep. Variable:                    INC   No. Observations:                   95\n",
            "Model:                    ARDL(12, 0)   Log Likelihood                -642.542\n",
            "Method:               Conditional MLE   S.D. of innovations            556.980\n",
            "Date:                Thu, 11 Apr 2024   AIC                           1303.084\n",
            "Time:                        19:39:47   BIC                           1324.853\n",
            "Sample:                            12   HQIC                          1311.830\n",
            "                                   95                                         \n",
            "==============================================================================\n",
            "                 coef    std err          z      P>|z|      [0.025      0.975]\n",
            "------------------------------------------------------------------------------\n",
            "const        372.3122    177.738      2.095      0.040      18.240     726.385\n",
            "trend         -2.7483      2.775     -0.990      0.325      -8.276       2.780\n",
            "INC.L3         0.1364      0.096      1.427      0.158      -0.054       0.327\n",
            "INC.L8        -0.1961      0.096     -2.041      0.045      -0.388      -0.005\n",
            "INC.L9         0.0911      0.099      0.921      0.360      -0.106       0.288\n",
            "INC.L11        0.1911      0.112      1.702      0.093      -0.033       0.415\n",
            "INC.L12       -0.1505      0.116     -1.298      0.198      -0.382       0.080\n",
            "INC.L0        -0.4496      0.095     -4.748      0.000      -0.638      -0.261\n",
            "==============================================================================\n"
          ]
        }
      ]
    },
    {
      "cell_type": "code",
      "source": [
        "adl_INC2 = ARDL(endog=differenced2, lags=[3,8,11,12], exog=original2, order=[0], trend='ct')\n",
        "adl_INC2_result = adl_INC2.fit()\n",
        "print(adl_INC2_result.summary())"
      ],
      "metadata": {
        "colab": {
          "base_uri": "https://localhost:8080/"
        },
        "id": "qOjDLks4rHFw",
        "outputId": "3f6f2d55-3f23-4a8a-f4eb-37bf1f70738a"
      },
      "execution_count": null,
      "outputs": [
        {
          "output_type": "stream",
          "name": "stdout",
          "text": [
            "                              ARDL Model Results                              \n",
            "==============================================================================\n",
            "Dep. Variable:                    INC   No. Observations:                   95\n",
            "Model:                    ARDL(12, 0)   Log Likelihood                -643.009\n",
            "Method:               Conditional MLE   S.D. of innovations            560.123\n",
            "Date:                Thu, 11 Apr 2024   AIC                           1302.018\n",
            "Time:                        19:39:57   BIC                           1321.369\n",
            "Sample:                            12   HQIC                          1309.792\n",
            "                                   95                                         \n",
            "==============================================================================\n",
            "                 coef    std err          z      P>|z|      [0.025      0.975]\n",
            "------------------------------------------------------------------------------\n",
            "const        384.0898    177.101      2.169      0.033      31.362     736.818\n",
            "trend         -2.8172      2.771     -1.017      0.313      -8.336       2.702\n",
            "INC.L3         0.1379      0.095      1.445      0.153      -0.052       0.328\n",
            "INC.L8        -0.2196      0.093     -2.373      0.020      -0.404      -0.035\n",
            "INC.L11        0.1784      0.111      1.603      0.113      -0.043       0.400\n",
            "INC.L12       -0.1460      0.116     -1.261      0.211      -0.376       0.085\n",
            "INC.L0        -0.4668      0.093     -5.032      0.000      -0.652      -0.282\n",
            "==============================================================================\n"
          ]
        }
      ]
    },
    {
      "cell_type": "code",
      "source": [
        "adl_INC2 = ARDL(endog=differenced2, lags=[3,8,11], exog=original2, order=[0], trend='ct')\n",
        "adl_INC2_result = adl_INC2.fit()\n",
        "print(adl_INC2_result.summary())"
      ],
      "metadata": {
        "colab": {
          "base_uri": "https://localhost:8080/"
        },
        "id": "8IwVZ-aYrJP4",
        "outputId": "01b47cb0-caff-418d-b529-c17704aeb1f7"
      },
      "execution_count": null,
      "outputs": [
        {
          "output_type": "stream",
          "name": "stdout",
          "text": [
            "                              ARDL Model Results                              \n",
            "==============================================================================\n",
            "Dep. Variable:                    INC   No. Observations:                   95\n",
            "Model:                    ARDL(11, 0)   Log Likelihood                -651.784\n",
            "Method:               Conditional MLE   S.D. of innovations            567.017\n",
            "Date:                Thu, 11 Apr 2024   AIC                           1317.567\n",
            "Time:                        22:20:52   BIC                           1334.583\n",
            "Sample:                            11   HQIC                          1324.407\n",
            "                                   95                                         \n",
            "==============================================================================\n",
            "                 coef    std err          z      P>|z|      [0.025      0.975]\n",
            "------------------------------------------------------------------------------\n",
            "const        429.8900    171.292      2.510      0.014      88.874     770.906\n",
            "trend         -3.0568      2.699     -1.132      0.261      -8.431       2.317\n",
            "INC.L3         0.1241      0.094      1.321      0.190      -0.063       0.311\n",
            "INC.L8        -0.2235      0.093     -2.403      0.019      -0.409      -0.038\n",
            "INC.L11        0.2332      0.104      2.246      0.028       0.027       0.440\n",
            "INC.L0        -0.5028      0.091     -5.547      0.000      -0.683      -0.322\n",
            "==============================================================================\n"
          ]
        }
      ]
    },
    {
      "cell_type": "code",
      "source": [
        "adl_INC2 = ARDL(endog=differenced2, lags=[8,11], exog=original2, order=[0], trend='ct')\n",
        "adl_INC2_result = adl_INC2.fit()\n",
        "print(adl_INC2_result.summary())"
      ],
      "metadata": {
        "colab": {
          "base_uri": "https://localhost:8080/"
        },
        "id": "w3SMILFxrMd8",
        "outputId": "38bd95d1-fd57-4f9f-ce83-5ca4e24800d6"
      },
      "execution_count": null,
      "outputs": [
        {
          "output_type": "stream",
          "name": "stdout",
          "text": [
            "                              ARDL Model Results                              \n",
            "==============================================================================\n",
            "Dep. Variable:                    INC   No. Observations:                   95\n",
            "Model:                    ARDL(11, 0)   Log Likelihood                -652.713\n",
            "Method:               Conditional MLE   S.D. of innovations            573.324\n",
            "Date:                Thu, 11 Apr 2024   AIC                           1317.426\n",
            "Time:                        22:21:02   BIC                           1332.010\n",
            "Sample:                            11   HQIC                          1323.289\n",
            "                                   95                                         \n",
            "==============================================================================\n",
            "                 coef    std err          z      P>|z|      [0.025      0.975]\n",
            "------------------------------------------------------------------------------\n",
            "const        426.4263    172.077      2.478      0.015      83.915     768.938\n",
            "trend         -3.1123      2.712     -1.148      0.255      -8.510       2.285\n",
            "INC.L8        -0.2323      0.093     -2.493      0.015      -0.418      -0.047\n",
            "INC.L11        0.2007      0.101      1.980      0.051      -0.001       0.402\n",
            "INC.L0        -0.4935      0.091     -5.435      0.000      -0.674      -0.313\n",
            "==============================================================================\n"
          ]
        }
      ]
    },
    {
      "cell_type": "code",
      "source": [
        "adl_INC2 = ARDL(endog=differenced2, lags=[8], exog=original2, order=[0], trend='ct')\n",
        "adl_INC2_result = adl_INC2.fit()\n",
        "print(adl_INC2_result.summary())"
      ],
      "metadata": {
        "colab": {
          "base_uri": "https://localhost:8080/"
        },
        "id": "SRBC5rH2QBLk",
        "outputId": "b80ab7e5-7174-44ff-eaee-8f9f462a3148"
      },
      "execution_count": null,
      "outputs": [
        {
          "output_type": "stream",
          "name": "stdout",
          "text": [
            "                              ARDL Model Results                              \n",
            "==============================================================================\n",
            "Dep. Variable:                    INC   No. Observations:                   95\n",
            "Model:                     ARDL(8, 0)   Log Likelihood                -678.604\n",
            "Method:               Conditional MLE   S.D. of innovations            590.579\n",
            "Date:                Thu, 11 Apr 2024   AIC                           1367.207\n",
            "Time:                        22:21:13   BIC                           1379.537\n",
            "Sample:                             8   HQIC                          1372.172\n",
            "                                   95                                         \n",
            "==============================================================================\n",
            "                 coef    std err          z      P>|z|      [0.025      0.975]\n",
            "------------------------------------------------------------------------------\n",
            "const        397.7562    166.260      2.392      0.019      67.071     728.442\n",
            "trend         -2.8015      2.630     -1.065      0.290      -8.032       2.429\n",
            "INC.L8        -0.2287      0.095     -2.410      0.018      -0.417      -0.040\n",
            "INC.L0        -0.4998      0.093     -5.392      0.000      -0.684      -0.315\n",
            "==============================================================================\n"
          ]
        }
      ]
    },
    {
      "cell_type": "code",
      "source": [
        "#Export the results for AR on Latex\n",
        "res_ar = summary_col([adl_INC2_result],stars=True,float_format='%0.2f')\n",
        "f = open('/content/drive/MyDrive/EtricsIII_Ass2/Tables/DoubleDiffIns4.4.tex', 'w')\n",
        "f.write(res_ar.as_latex())\n",
        "f.close()"
      ],
      "metadata": {
        "id": "oHyYGEuUKCCx"
      },
      "execution_count": null,
      "outputs": []
    },
    {
      "cell_type": "markdown",
      "source": [
        "## Point 5"
      ],
      "metadata": {
        "id": "XHM6F-I0a4q2"
      }
    },
    {
      "cell_type": "code",
      "source": [
        "#Set up regression consumption on income\n",
        "X = sm.add_constant(data[\"INC\"])\n",
        "model = sm.OLS(data[\"CONS\"], X)\n",
        "result = model.fit()\n",
        "coefficients = result.params\n",
        "coefficients"
      ],
      "metadata": {
        "colab": {
          "base_uri": "https://localhost:8080/"
        },
        "id": "qVbmGRB5a6QU",
        "outputId": "7eed3022-28c8-4699-8df6-7764ef67462c"
      },
      "execution_count": null,
      "outputs": [
        {
          "output_type": "execute_result",
          "data": {
            "text/plain": [
              "const    6783.373207\n",
              "INC         0.665140\n",
              "dtype: float64"
            ]
          },
          "metadata": {},
          "execution_count": 270
        }
      ]
    },
    {
      "cell_type": "code",
      "source": [
        "#Export regression results as Latex code\n",
        "from statsmodels.iolib.summary2 import summary_col\n",
        "print(summary_col([result],stars=True,float_format='%0.2f').as_latex())"
      ],
      "metadata": {
        "colab": {
          "base_uri": "https://localhost:8080/"
        },
        "id": "CK3iWVahkWsw",
        "outputId": "0208f775-e5b9-4c0c-fe9c-01a90f040158"
      },
      "execution_count": null,
      "outputs": [
        {
          "output_type": "stream",
          "name": "stdout",
          "text": [
            "\\begin{table}\n",
            "\\caption{}\n",
            "\\label{}\n",
            "\\begin{center}\n",
            "\\begin{tabular}{ll}\n",
            "\\hline\n",
            "               & CONS        \\\\\n",
            "\\hline\n",
            "const          & 6783.37***  \\\\\n",
            "               & (554.99)    \\\\\n",
            "INC            & 0.67***     \\\\\n",
            "               & (0.01)      \\\\\n",
            "R-squared      & 0.99        \\\\\n",
            "R-squared Adj. & 0.99        \\\\\n",
            "\\hline\n",
            "\\end{tabular}\n",
            "\\end{center}\n",
            "\\end{table}\n",
            "\\bigskip\n",
            "Standard errors in parentheses. \\newline \n",
            "* p<.1, ** p<.05, ***p<.01\n"
          ]
        }
      ]
    },
    {
      "cell_type": "code",
      "source": [
        "#Store residuals of regression\n",
        "resid = result.resid\n",
        "\n",
        "#Conduct ADF test on residuals, not that the provided critical values by the function are not correct, as we need the residual-specific critical values\n",
        "resultsadf = adfuller(resid, 12, regression=\"ct\", autolag=\"BIC\")\n",
        "resultsadf"
      ],
      "metadata": {
        "colab": {
          "base_uri": "https://localhost:8080/"
        },
        "id": "smCub6pddcMG",
        "outputId": "a9275dfe-7bb4-4999-b846-7c73db8490b4"
      },
      "execution_count": null,
      "outputs": [
        {
          "output_type": "execute_result",
          "data": {
            "text/plain": [
              "(-3.5926825303506176,\n",
              " 0.030470236567886718,\n",
              " 2,\n",
              " 94,\n",
              " {'1%': -4.058458386243895,\n",
              "  '5%': -3.45827364668715,\n",
              "  '10%': -3.1550275333981874},\n",
              " 1267.5147366416336)"
            ]
          },
          "metadata": {},
          "execution_count": 272
        }
      ]
    },
    {
      "cell_type": "code",
      "source": [
        "#Plot aggregate consumption\n",
        "plt.figure(figsize=(19, 6))\n",
        "\n",
        "plt.plot(data['obs'], resid, label='Residuals')\n",
        "plt.grid(True, linestyle='--', alpha=0.5)\n",
        "\n",
        "#Add title and axis labels\n",
        "plt.title('Residuals', fontsize=16, fontweight='bold')\n",
        "plt.xlabel('Time')\n",
        "plt.ylabel('Value')\n",
        "plt.xticks(data['obs'][::2], rotation=90)\n",
        "plt.savefig(\"/content/drive/MyDrive/EtricsIII_Ass2/Figures/Residuals.png\")\n",
        "plt.show()"
      ],
      "metadata": {
        "colab": {
          "base_uri": "https://localhost:8080/",
          "height": 607
        },
        "id": "OLL26Ef6e7Ib",
        "outputId": "dbf39fb8-b0a6-43e8-99e2-ac7bd86fc3f9"
      },
      "execution_count": null,
      "outputs": [
        {
          "output_type": "display_data",
          "data": {
            "text/plain": [
              "<Figure size 1900x600 with 1 Axes>"
            ],
            "image/png": "[encoded data removed]"
          },
          "metadata": {}
        }
      ]
    },
    {
      "cell_type": "code",
      "source": [
        "#Cointegration test\n",
        "result = coint(data[\"INC\"], data[\"CONS\"], maxlag = 12, trend='ct', autolag = 'BIC')\n",
        "result"
      ],
      "metadata": {
        "colab": {
          "base_uri": "https://localhost:8080/"
        },
        "id": "DZNGdkdneHj9",
        "outputId": "c95ad737-46fb-4bc3-8974-f78e1b011fd1"
      },
      "execution_count": null,
      "outputs": [
        {
          "output_type": "execute_result",
          "data": {
            "text/plain": [
              "(-3.6479164417228644,\n",
              " 0.07009308607886727,\n",
              " array([-4.49231121, -3.88094886, -3.57086881]))"
            ]
          },
          "metadata": {},
          "execution_count": 274
        }
      ]
    },
    {
      "cell_type": "markdown",
      "source": [
        "## Point 6"
      ],
      "metadata": {
        "id": "UN4g1cNyZZfL"
      }
    },
    {
      "cell_type": "code",
      "source": [
        "# Collect in a dataframe DeltaY, Z_t-1 and DeltaX\n",
        "adl_data = pd.DataFrame({\"delta_x\":x_T_first_diff_INC, \"delta_y\": x_T_first_diff_CONS, \"z\": resid.shift(1)})\n",
        "adl_data = adl_data.drop(df.index[0])"
      ],
      "metadata": {
        "id": "WnWAKAvVurpf"
      },
      "execution_count": null,
      "outputs": []
    },
    {
      "cell_type": "code",
      "source": [
        "# Select optimal number of lags for Delta Y and for Delta X. Include constant and trend. Use bic as information criterion\n",
        "#selected_model = ardl_select_order(endog = adl_data[\"delta_y\"], exog = adl_data[[\"delta_x\",\"z\"]], maxlag=12, maxorder={\"delta_x\": 12, \"z\": 0}, missing=\"raise\", ic=\"bic\", trend = \"n\")"
      ],
      "metadata": {
        "colab": {
          "base_uri": "https://localhost:8080/"
        },
        "id": "QflhEuE1xra9",
        "outputId": "aeb24237-ce88-4d07-cac5-78e85d84ea44"
      },
      "execution_count": null,
      "outputs": [
        {
          "output_type": "stream",
          "name": "stderr",
          "text": [
            "/usr/local/lib/python3.10/dist-packages/statsmodels/tsa/base/tsa_model.py:473: ValueWarning: An unsupported index was provided and will be ignored when e.g. forecasting.\n",
            "  self._init_dates(dates, freq)\n",
            "/usr/local/lib/python3.10/dist-packages/statsmodels/tsa/base/tsa_model.py:473: ValueWarning: An unsupported index was provided and will be ignored when e.g. forecasting.\n",
            "  self._init_dates(dates, freq)\n"
          ]
        }
      ]
    },
    {
      "cell_type": "code",
      "source": [
        "mod = ARDL(endog = adl_data[\"delta_y\"], exog = adl_data[[\"delta_x\",\"z\"]], lags=4, order={\"delta_x\": 4, \"z\": 0}, missing=\"raise\", trend=\"n\")\n",
        "results = mod.fit()\n",
        "print(results.summary())"
      ],
      "metadata": {
        "colab": {
          "base_uri": "https://localhost:8080/"
        },
        "id": "5Sw-fLOBgd70",
        "outputId": "75a00b71-023f-45cc-f48e-d3725e42589a"
      },
      "execution_count": null,
      "outputs": [
        {
          "output_type": "stream",
          "name": "stdout",
          "text": [
            "                              ARDL Model Results                              \n",
            "==============================================================================\n",
            "Dep. Variable:                delta_y   No. Observations:                   96\n",
            "Model:                  ARDL(4, 4, 0)   Log Likelihood                -647.259\n",
            "Method:               Conditional MLE   S.D. of innovations            274.921\n",
            "Date:                Thu, 11 Apr 2024   AIC                           1316.517\n",
            "Time:                        19:20:02   BIC                           1344.257\n",
            "Sample:                             4   HQIC                          1327.713\n",
            "                                   96                                         \n",
            "==============================================================================\n",
            "                 coef    std err          z      P>|z|      [0.025      0.975]\n",
            "------------------------------------------------------------------------------\n",
            "delta_y.L1    -0.1342      0.108     -1.240      0.218      -0.349       0.081\n",
            "delta_y.L2     0.1717      0.095      1.809      0.074      -0.017       0.360\n",
            "delta_y.L3     0.3935      0.096      4.086      0.000       0.202       0.585\n",
            "delta_y.L4     0.2033      0.106      1.925      0.058      -0.007       0.413\n",
            "delta_x.L0     0.2256      0.055      4.074      0.000       0.115       0.336\n",
            "delta_x.L1     0.0003      0.064      0.005      0.996      -0.127       0.128\n",
            "delta_x.L2    -0.0616      0.064     -0.963      0.339      -0.189       0.066\n",
            "delta_x.L3     0.0043      0.063      0.069      0.945      -0.121       0.130\n",
            "delta_x.L4    -0.0076      0.059     -0.129      0.897      -0.125       0.109\n",
            "z.L0          -0.0993      0.046     -2.162      0.034      -0.191      -0.008\n",
            "==============================================================================\n"
          ]
        },
        {
          "output_type": "stream",
          "name": "stderr",
          "text": [
            "/usr/local/lib/python3.10/dist-packages/statsmodels/tsa/base/tsa_model.py:473: ValueWarning: An unsupported index was provided and will be ignored when e.g. forecasting.\n",
            "  self._init_dates(dates, freq)\n"
          ]
        }
      ]
    },
    {
      "cell_type": "code",
      "source": [
        "mod = ARDL(endog = adl_data[\"delta_y\"], exog = adl_data[[\"delta_x\",\"z\"]], lags=4, order={\"delta_x\": 3, \"z\": 0}, missing=\"raise\", trend=\"n\")\n",
        "results = mod.fit()\n",
        "print(results.summary())"
      ],
      "metadata": {
        "colab": {
          "base_uri": "https://localhost:8080/"
        },
        "id": "KNyk9Y6Lm6I_",
        "outputId": "ea4d4355-5541-40ea-d259-e9c0404c41b2"
      },
      "execution_count": null,
      "outputs": [
        {
          "output_type": "stream",
          "name": "stdout",
          "text": [
            "                              ARDL Model Results                              \n",
            "==============================================================================\n",
            "Dep. Variable:                delta_y   No. Observations:                   96\n",
            "Model:                  ARDL(4, 3, 0)   Log Likelihood                -647.268\n",
            "Method:               Conditional MLE   S.D. of innovations            274.949\n",
            "Date:                Thu, 11 Apr 2024   AIC                           1314.536\n",
            "Time:                        19:22:26   BIC                           1339.754\n",
            "Sample:                             4   HQIC                          1324.714\n",
            "                                   96                                         \n",
            "==============================================================================\n",
            "                 coef    std err          z      P>|z|      [0.025      0.975]\n",
            "------------------------------------------------------------------------------\n",
            "delta_y.L1    -0.1371      0.105     -1.305      0.196      -0.346       0.072\n",
            "delta_y.L2     0.1699      0.093      1.820      0.072      -0.016       0.356\n",
            "delta_y.L3     0.3922      0.095      4.119      0.000       0.203       0.582\n",
            "delta_y.L4     0.1999      0.102      1.968      0.052      -0.002       0.402\n",
            "delta_x.L0     0.2255      0.055      4.096      0.000       0.116       0.335\n",
            "delta_x.L1     0.0011      0.064      0.018      0.986      -0.125       0.128\n",
            "delta_x.L2    -0.0611      0.063     -0.962      0.339      -0.187       0.065\n",
            "delta_x.L3     0.0027      0.062      0.043      0.965      -0.120       0.125\n",
            "z.L0          -0.0973      0.043     -2.267      0.026      -0.183      -0.012\n",
            "==============================================================================\n"
          ]
        },
        {
          "output_type": "stream",
          "name": "stderr",
          "text": [
            "/usr/local/lib/python3.10/dist-packages/statsmodels/tsa/base/tsa_model.py:473: ValueWarning: An unsupported index was provided and will be ignored when e.g. forecasting.\n",
            "  self._init_dates(dates, freq)\n"
          ]
        }
      ]
    },
    {
      "cell_type": "code",
      "source": [
        "mod = ARDL(endog = adl_data[\"delta_y\"], exog = adl_data[[\"delta_x\",\"z\"]], lags=4, order={\"delta_x\": 2, \"z\": 0}, missing=\"raise\", trend=\"n\")\n",
        "results = mod.fit()\n",
        "print(results.summary())"
      ],
      "metadata": {
        "colab": {
          "base_uri": "https://localhost:8080/"
        },
        "id": "PCgzcu6nnIic",
        "outputId": "d65f319f-7cb0-4a93-e355-580ac25e5e04"
      },
      "execution_count": null,
      "outputs": [
        {
          "output_type": "stream",
          "name": "stdout",
          "text": [
            "                              ARDL Model Results                              \n",
            "==============================================================================\n",
            "Dep. Variable:                delta_y   No. Observations:                   96\n",
            "Model:                  ARDL(4, 2, 0)   Log Likelihood                -647.269\n",
            "Method:               Conditional MLE   S.D. of innovations            274.952\n",
            "Date:                Thu, 11 Apr 2024   AIC                           1312.538\n",
            "Time:                        19:22:37   BIC                           1335.234\n",
            "Sample:                             4   HQIC                          1321.699\n",
            "                                   96                                         \n",
            "==============================================================================\n",
            "                 coef    std err          z      P>|z|      [0.025      0.975]\n",
            "------------------------------------------------------------------------------\n",
            "delta_y.L1    -0.1373      0.104     -1.314      0.192      -0.345       0.070\n",
            "delta_y.L2     0.1701      0.093      1.833      0.070      -0.014       0.355\n",
            "delta_y.L3     0.3933      0.091      4.313      0.000       0.212       0.575\n",
            "delta_y.L4     0.2013      0.096      2.102      0.039       0.011       0.392\n",
            "delta_x.L0     0.2258      0.054      4.169      0.000       0.118       0.334\n",
            "delta_x.L1     0.0008      0.063      0.013      0.989      -0.124       0.126\n",
            "delta_x.L2    -0.0603      0.061     -0.991      0.325      -0.181       0.061\n",
            "z.L0          -0.0980      0.039     -2.492      0.015      -0.176      -0.020\n",
            "==============================================================================\n"
          ]
        },
        {
          "output_type": "stream",
          "name": "stderr",
          "text": [
            "/usr/local/lib/python3.10/dist-packages/statsmodels/tsa/base/tsa_model.py:473: ValueWarning: An unsupported index was provided and will be ignored when e.g. forecasting.\n",
            "  self._init_dates(dates, freq)\n"
          ]
        }
      ]
    },
    {
      "cell_type": "code",
      "source": [
        "mod = ARDL(endog = adl_data[\"delta_y\"], exog = adl_data[[\"delta_x\",\"z\"]], lags=4, order={\"delta_x\": 1, \"z\": 0}, missing=\"raise\", trend=\"n\")\n",
        "results = mod.fit()\n",
        "print(results.summary())"
      ],
      "metadata": {
        "colab": {
          "base_uri": "https://localhost:8080/"
        },
        "id": "MhPuTEZCnLMS",
        "outputId": "df81b585-0603-4b60-8e1d-9969e88623f3"
      },
      "execution_count": null,
      "outputs": [
        {
          "output_type": "stream",
          "name": "stdout",
          "text": [
            "                              ARDL Model Results                              \n",
            "==============================================================================\n",
            "Dep. Variable:                delta_y   No. Observations:                   96\n",
            "Model:                  ARDL(4, 1, 0)   Log Likelihood                -647.803\n",
            "Method:               Conditional MLE   S.D. of innovations            276.553\n",
            "Date:                Thu, 11 Apr 2024   AIC                           1311.607\n",
            "Time:                        19:22:44   BIC                           1331.781\n",
            "Sample:                             4   HQIC                          1319.749\n",
            "                                   96                                         \n",
            "==============================================================================\n",
            "                 coef    std err          z      P>|z|      [0.025      0.975]\n",
            "------------------------------------------------------------------------------\n",
            "delta_y.L1    -0.1483      0.104     -1.428      0.157      -0.355       0.058\n",
            "delta_y.L2     0.1400      0.088      1.597      0.114      -0.034       0.314\n",
            "delta_y.L3     0.3663      0.087      4.209      0.000       0.193       0.539\n",
            "delta_y.L4     0.2183      0.094      2.317      0.023       0.031       0.406\n",
            "delta_x.L0     0.2222      0.054      4.112      0.000       0.115       0.330\n",
            "delta_x.L1    -0.0167      0.060     -0.277      0.782      -0.137       0.103\n",
            "z.L0          -0.0846      0.037     -2.291      0.024      -0.158      -0.011\n",
            "==============================================================================\n"
          ]
        },
        {
          "output_type": "stream",
          "name": "stderr",
          "text": [
            "/usr/local/lib/python3.10/dist-packages/statsmodels/tsa/base/tsa_model.py:473: ValueWarning: An unsupported index was provided and will be ignored when e.g. forecasting.\n",
            "  self._init_dates(dates, freq)\n"
          ]
        }
      ]
    },
    {
      "cell_type": "code",
      "source": [
        "mod = ARDL(endog = adl_data[\"delta_y\"], exog = adl_data[[\"delta_x\",\"z\"]], lags=4, order={\"delta_x\": 0, \"z\": 0}, missing=\"raise\", trend=\"n\")\n",
        "results = mod.fit()\n",
        "print(results.summary())"
      ],
      "metadata": {
        "colab": {
          "base_uri": "https://localhost:8080/"
        },
        "id": "cJnjNUDsnN-O",
        "outputId": "b53d7fa8-ded6-434d-a4d8-a6fbb977a3ca"
      },
      "execution_count": null,
      "outputs": [
        {
          "output_type": "stream",
          "name": "stdout",
          "text": [
            "                              ARDL Model Results                              \n",
            "==============================================================================\n",
            "Dep. Variable:                delta_y   No. Observations:                   96\n",
            "Model:                  ARDL(4, 0, 0)   Log Likelihood                -647.845\n",
            "Method:               Conditional MLE   S.D. of innovations            276.678\n",
            "Date:                Thu, 11 Apr 2024   AIC                           1309.690\n",
            "Time:                        19:22:59   BIC                           1327.343\n",
            "Sample:                             4   HQIC                          1316.815\n",
            "                                   96                                         \n",
            "==============================================================================\n",
            "                 coef    std err          z      P>|z|      [0.025      0.975]\n",
            "------------------------------------------------------------------------------\n",
            "delta_y.L1    -0.1560      0.100     -1.568      0.121      -0.354       0.042\n",
            "delta_y.L2     0.1321      0.083      1.601      0.113      -0.032       0.296\n",
            "delta_y.L3     0.3715      0.085      4.393      0.000       0.203       0.540\n",
            "delta_y.L4     0.2168      0.094      2.318      0.023       0.031       0.403\n",
            "delta_x.L0     0.2146      0.046      4.636      0.000       0.123       0.307\n",
            "z.L0          -0.0810      0.034     -2.351      0.021      -0.150      -0.013\n",
            "==============================================================================\n"
          ]
        },
        {
          "output_type": "stream",
          "name": "stderr",
          "text": [
            "/usr/local/lib/python3.10/dist-packages/statsmodels/tsa/base/tsa_model.py:473: ValueWarning: An unsupported index was provided and will be ignored when e.g. forecasting.\n",
            "  self._init_dates(dates, freq)\n"
          ]
        }
      ]
    },
    {
      "cell_type": "code",
      "source": [
        "mod = ARDL(endog = adl_data[\"delta_y\"], exog = adl_data[[\"delta_x\",\"z\"]], lags=[2,3,4], order={\"delta_x\": 0, \"z\": 0}, missing=\"raise\", trend=\"n\")\n",
        "results = mod.fit()\n",
        "print(results.summary())"
      ],
      "metadata": {
        "colab": {
          "base_uri": "https://localhost:8080/"
        },
        "id": "ywK1wPginZcw",
        "outputId": "531a877f-4d2e-47d3-e204-7e2305359e49"
      },
      "execution_count": null,
      "outputs": [
        {
          "output_type": "stream",
          "name": "stdout",
          "text": [
            "                              ARDL Model Results                              \n",
            "==============================================================================\n",
            "Dep. Variable:                delta_y   No. Observations:                   96\n",
            "Model:                  ARDL(4, 0, 0)   Log Likelihood                -649.141\n",
            "Method:               Conditional MLE   S.D. of innovations            280.604\n",
            "Date:                Thu, 11 Apr 2024   AIC                           1310.282\n",
            "Time:                        19:23:56   BIC                           1325.413\n",
            "Sample:                             4   HQIC                          1316.389\n",
            "                                   96                                         \n",
            "==============================================================================\n",
            "                 coef    std err          z      P>|z|      [0.025      0.975]\n",
            "------------------------------------------------------------------------------\n",
            "delta_y.L2     0.1224      0.083      1.474      0.144      -0.043       0.287\n",
            "delta_y.L3     0.3483      0.084      4.149      0.000       0.181       0.515\n",
            "delta_y.L4     0.1448      0.082      1.762      0.082      -0.019       0.308\n",
            "delta_x.L0     0.1897      0.044      4.327      0.000       0.103       0.277\n",
            "z.L0          -0.0788      0.035     -2.270      0.026      -0.148      -0.010\n",
            "==============================================================================\n"
          ]
        },
        {
          "output_type": "stream",
          "name": "stderr",
          "text": [
            "/usr/local/lib/python3.10/dist-packages/statsmodels/tsa/base/tsa_model.py:473: ValueWarning: An unsupported index was provided and will be ignored when e.g. forecasting.\n",
            "  self._init_dates(dates, freq)\n"
          ]
        }
      ]
    },
    {
      "cell_type": "code",
      "source": [
        "mod = ARDL(endog = adl_data[\"delta_y\"], exog = adl_data[[\"delta_x\",\"z\"]], lags=[3,4], order={\"delta_x\": 0, \"z\": 0}, missing=\"raise\", trend=\"n\")\n",
        "results = mod.fit()\n",
        "print(results.summary())"
      ],
      "metadata": {
        "colab": {
          "base_uri": "https://localhost:8080/"
        },
        "id": "j4pBarxYne_q",
        "outputId": "2e55d8d2-6972-4b9e-a762-4dce5530371a"
      },
      "execution_count": null,
      "outputs": [
        {
          "output_type": "stream",
          "name": "stdout",
          "text": [
            "                              ARDL Model Results                              \n",
            "==============================================================================\n",
            "Dep. Variable:                delta_y   No. Observations:                   96\n",
            "Model:                  ARDL(4, 0, 0)   Log Likelihood                -650.276\n",
            "Method:               Conditional MLE   S.D. of innovations            284.088\n",
            "Date:                Thu, 11 Apr 2024   AIC                           1310.553\n",
            "Time:                        19:24:16   BIC                           1323.162\n",
            "Sample:                             4   HQIC                          1315.642\n",
            "                                   96                                         \n",
            "==============================================================================\n",
            "                 coef    std err          z      P>|z|      [0.025      0.975]\n",
            "------------------------------------------------------------------------------\n",
            "delta_y.L3     0.3778      0.082      4.602      0.000       0.215       0.541\n",
            "delta_y.L4     0.1918      0.076      2.516      0.014       0.040       0.343\n",
            "delta_x.L0     0.1994      0.044      4.569      0.000       0.113       0.286\n",
            "z.L0          -0.0876      0.034     -2.543      0.013      -0.156      -0.019\n",
            "==============================================================================\n"
          ]
        },
        {
          "output_type": "stream",
          "name": "stderr",
          "text": [
            "/usr/local/lib/python3.10/dist-packages/statsmodels/tsa/base/tsa_model.py:473: ValueWarning: An unsupported index was provided and will be ignored when e.g. forecasting.\n",
            "  self._init_dates(dates, freq)\n"
          ]
        }
      ]
    },
    {
      "cell_type": "code",
      "source": [
        "print_res = summary_col([results],stars=True,float_format='%0.2f')\n",
        "with open(path+'/Tables/part4.6_ECM.tex', 'w') as f:\n",
        "  f.write(print_res.as_latex())\n",
        "  f.close()"
      ],
      "metadata": {
        "id": "PvOBj_J61bs_"
      },
      "execution_count": null,
      "outputs": []
    }
  ]
}